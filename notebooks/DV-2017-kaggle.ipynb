{
 "cells": [
  {
   "cell_type": "code",
   "execution_count": 1,
   "metadata": {
    "_cell_guid": "d64be1c3-b6d6-4448-b954-2e231214126f",
    "_uuid": "8146e737210d26a00d2ea8e496ca219a7ad39e54"
   },
   "outputs": [
    {
     "data": {
      "text/html": [
       "        <script type=\"text/javascript\">\n",
       "        window.PlotlyConfig = {MathJaxConfig: 'local'};\n",
       "        if (window.MathJax) {MathJax.Hub.Config({SVG: {font: \"STIX-Web\"}});}\n",
       "        if (typeof require !== 'undefined') {\n",
       "        require.undef(\"plotly\");\n",
       "        requirejs.config({\n",
       "            paths: {\n",
       "                'plotly': ['https://cdn.plot.ly/plotly-latest.min']\n",
       "            }\n",
       "        });\n",
       "        require(['plotly'], function(Plotly) {\n",
       "            window._Plotly = Plotly;\n",
       "        });\n",
       "        }\n",
       "        </script>\n",
       "        "
      ]
     },
     "metadata": {},
     "output_type": "display_data"
    }
   ],
   "source": [
    "import numpy as np # linear algebra\n",
    "import pandas as pd # data processing, CSV file I/O (e.g. pd.read_csv)\n",
    "import matplotlib.pyplot as plt\n",
    "import seaborn as sns\n",
    "color = sns.color_palette()\n",
    "%matplotlib inline\n",
    "\n",
    "import plotly.offline as py\n",
    "py.init_notebook_mode(connected=True)\n",
    "import plotly.graph_objs as go\n",
    "import plotly.tools as tls\n",
    "\n",
    "pd.options.mode.chained_assignment = None\n",
    "pd.options.display.max_columns = 999"
   ]
  },
  {
   "cell_type": "code",
   "execution_count": 3,
   "metadata": {
    "_cell_guid": "feda524a-58d1-4a55-bb98-351ac0a381b0",
    "_uuid": "0227a41508e1177f53746c1af1d3409a8fde2590"
   },
   "outputs": [
    {
     "ename": "FileNotFoundError",
     "evalue": "[WinError 2] The system cannot find the file specified",
     "output_type": "error",
     "traceback": [
      "\u001b[1;31m---------------------------------------------------------------------------\u001b[0m",
      "\u001b[1;31mFileNotFoundError\u001b[0m                         Traceback (most recent call last)",
      "\u001b[1;32m<ipython-input-3-101dae7fa773>\u001b[0m in \u001b[0;36m<module>\u001b[1;34m\u001b[0m\n\u001b[0;32m      1\u001b[0m \u001b[1;32mfrom\u001b[0m \u001b[0msubprocess\u001b[0m \u001b[1;32mimport\u001b[0m \u001b[0mcheck_output\u001b[0m\u001b[1;33m\u001b[0m\u001b[1;33m\u001b[0m\u001b[0m\n\u001b[1;32m----> 2\u001b[1;33m \u001b[0mprint\u001b[0m\u001b[1;33m(\u001b[0m\u001b[0mcheck_output\u001b[0m\u001b[1;33m(\u001b[0m\u001b[1;33m[\u001b[0m\u001b[1;34m\"ls\"\u001b[0m\u001b[1;33m,\u001b[0m \u001b[1;34m\"./data/2017_conversionRates.csv\"\u001b[0m\u001b[1;33m]\u001b[0m\u001b[1;33m)\u001b[0m\u001b[1;33m.\u001b[0m\u001b[0mdecode\u001b[0m\u001b[1;33m(\u001b[0m\u001b[1;34m\"utf8\"\u001b[0m\u001b[1;33m)\u001b[0m\u001b[1;33m)\u001b[0m\u001b[1;33m\u001b[0m\u001b[1;33m\u001b[0m\u001b[0m\n\u001b[0m",
      "\u001b[1;32m~\\Anaconda3\\lib\\subprocess.py\u001b[0m in \u001b[0;36mcheck_output\u001b[1;34m(timeout, *popenargs, **kwargs)\u001b[0m\n\u001b[0;32m    393\u001b[0m \u001b[1;33m\u001b[0m\u001b[0m\n\u001b[0;32m    394\u001b[0m     return run(*popenargs, stdout=PIPE, timeout=timeout, check=True,\n\u001b[1;32m--> 395\u001b[1;33m                **kwargs).stdout\n\u001b[0m\u001b[0;32m    396\u001b[0m \u001b[1;33m\u001b[0m\u001b[0m\n\u001b[0;32m    397\u001b[0m \u001b[1;33m\u001b[0m\u001b[0m\n",
      "\u001b[1;32m~\\Anaconda3\\lib\\subprocess.py\u001b[0m in \u001b[0;36mrun\u001b[1;34m(input, capture_output, timeout, check, *popenargs, **kwargs)\u001b[0m\n\u001b[0;32m    470\u001b[0m         \u001b[0mkwargs\u001b[0m\u001b[1;33m[\u001b[0m\u001b[1;34m'stderr'\u001b[0m\u001b[1;33m]\u001b[0m \u001b[1;33m=\u001b[0m \u001b[0mPIPE\u001b[0m\u001b[1;33m\u001b[0m\u001b[1;33m\u001b[0m\u001b[0m\n\u001b[0;32m    471\u001b[0m \u001b[1;33m\u001b[0m\u001b[0m\n\u001b[1;32m--> 472\u001b[1;33m     \u001b[1;32mwith\u001b[0m \u001b[0mPopen\u001b[0m\u001b[1;33m(\u001b[0m\u001b[1;33m*\u001b[0m\u001b[0mpopenargs\u001b[0m\u001b[1;33m,\u001b[0m \u001b[1;33m**\u001b[0m\u001b[0mkwargs\u001b[0m\u001b[1;33m)\u001b[0m \u001b[1;32mas\u001b[0m \u001b[0mprocess\u001b[0m\u001b[1;33m:\u001b[0m\u001b[1;33m\u001b[0m\u001b[1;33m\u001b[0m\u001b[0m\n\u001b[0m\u001b[0;32m    473\u001b[0m         \u001b[1;32mtry\u001b[0m\u001b[1;33m:\u001b[0m\u001b[1;33m\u001b[0m\u001b[1;33m\u001b[0m\u001b[0m\n\u001b[0;32m    474\u001b[0m             \u001b[0mstdout\u001b[0m\u001b[1;33m,\u001b[0m \u001b[0mstderr\u001b[0m \u001b[1;33m=\u001b[0m \u001b[0mprocess\u001b[0m\u001b[1;33m.\u001b[0m\u001b[0mcommunicate\u001b[0m\u001b[1;33m(\u001b[0m\u001b[0minput\u001b[0m\u001b[1;33m,\u001b[0m \u001b[0mtimeout\u001b[0m\u001b[1;33m=\u001b[0m\u001b[0mtimeout\u001b[0m\u001b[1;33m)\u001b[0m\u001b[1;33m\u001b[0m\u001b[1;33m\u001b[0m\u001b[0m\n",
      "\u001b[1;32m~\\Anaconda3\\lib\\subprocess.py\u001b[0m in \u001b[0;36m__init__\u001b[1;34m(self, args, bufsize, executable, stdin, stdout, stderr, preexec_fn, close_fds, shell, cwd, env, universal_newlines, startupinfo, creationflags, restore_signals, start_new_session, pass_fds, encoding, errors, text)\u001b[0m\n\u001b[0;32m    773\u001b[0m                                 \u001b[0mc2pread\u001b[0m\u001b[1;33m,\u001b[0m \u001b[0mc2pwrite\u001b[0m\u001b[1;33m,\u001b[0m\u001b[1;33m\u001b[0m\u001b[1;33m\u001b[0m\u001b[0m\n\u001b[0;32m    774\u001b[0m                                 \u001b[0merrread\u001b[0m\u001b[1;33m,\u001b[0m \u001b[0merrwrite\u001b[0m\u001b[1;33m,\u001b[0m\u001b[1;33m\u001b[0m\u001b[1;33m\u001b[0m\u001b[0m\n\u001b[1;32m--> 775\u001b[1;33m                                 restore_signals, start_new_session)\n\u001b[0m\u001b[0;32m    776\u001b[0m         \u001b[1;32mexcept\u001b[0m\u001b[1;33m:\u001b[0m\u001b[1;33m\u001b[0m\u001b[1;33m\u001b[0m\u001b[0m\n\u001b[0;32m    777\u001b[0m             \u001b[1;31m# Cleanup if the child failed starting.\u001b[0m\u001b[1;33m\u001b[0m\u001b[1;33m\u001b[0m\u001b[1;33m\u001b[0m\u001b[0m\n",
      "\u001b[1;32m~\\Anaconda3\\lib\\subprocess.py\u001b[0m in \u001b[0;36m_execute_child\u001b[1;34m(self, args, executable, preexec_fn, close_fds, pass_fds, cwd, env, startupinfo, creationflags, shell, p2cread, p2cwrite, c2pread, c2pwrite, errread, errwrite, unused_restore_signals, unused_start_new_session)\u001b[0m\n\u001b[0;32m   1176\u001b[0m                                          \u001b[0menv\u001b[0m\u001b[1;33m,\u001b[0m\u001b[1;33m\u001b[0m\u001b[1;33m\u001b[0m\u001b[0m\n\u001b[0;32m   1177\u001b[0m                                          \u001b[0mos\u001b[0m\u001b[1;33m.\u001b[0m\u001b[0mfspath\u001b[0m\u001b[1;33m(\u001b[0m\u001b[0mcwd\u001b[0m\u001b[1;33m)\u001b[0m \u001b[1;32mif\u001b[0m \u001b[0mcwd\u001b[0m \u001b[1;32mis\u001b[0m \u001b[1;32mnot\u001b[0m \u001b[1;32mNone\u001b[0m \u001b[1;32melse\u001b[0m \u001b[1;32mNone\u001b[0m\u001b[1;33m,\u001b[0m\u001b[1;33m\u001b[0m\u001b[1;33m\u001b[0m\u001b[0m\n\u001b[1;32m-> 1178\u001b[1;33m                                          startupinfo)\n\u001b[0m\u001b[0;32m   1179\u001b[0m             \u001b[1;32mfinally\u001b[0m\u001b[1;33m:\u001b[0m\u001b[1;33m\u001b[0m\u001b[1;33m\u001b[0m\u001b[0m\n\u001b[0;32m   1180\u001b[0m                 \u001b[1;31m# Child is launched. Close the parent's copy of those pipe\u001b[0m\u001b[1;33m\u001b[0m\u001b[1;33m\u001b[0m\u001b[1;33m\u001b[0m\u001b[0m\n",
      "\u001b[1;31mFileNotFoundError\u001b[0m: [WinError 2] The system cannot find the file specified"
     ]
    }
   ],
   "source": [
    "from subprocess import check_output\n",
    "print(check_output([\"ls\", \"./data/2017_conversionRates.csv\"]).decode(\"utf8\"))"
   ]
  },
  {
   "cell_type": "markdown",
   "metadata": {
    "_cell_guid": "55e20a69-6e67-4990-8e16-b7d7f4bc8297",
    "_uuid": "918c763105307015a52c422d7ce0248db00a4837"
   },
   "source": [
    "There are five files with the results of the survey.\n",
    "\n",
    "1. **schema.csv **- A CSV file with survey schema. This schema includes the questions that correspond to each column name in both the multipleChoiceResponses.csv and freeformResponses.csv.\n",
    "2. **RespondentTypeREADME.txt **- This is a schema for decoding the responses in the \"Asked\" column of the schema.csv file.\n",
    "3. **multipleChoiceResponses.csv **- Respondents' answers to multiple choice and ranking questions. These are non-randomized and thus a single row does correspond to all of a single user's answers.\n",
    "4. **freeformResponses.csv** - Respondents' freeform answers to Kaggle's survey questions. These responses are randomized within a column, so that reading across a single row does not give a single user's answers.\n",
    "5. **conversionRates.csv **- Currency conversion rates (to USD) as accessed from the R package \"quantmod\" on September 14, 2017."
   ]
  },
  {
   "cell_type": "markdown",
   "metadata": {
    "_cell_guid": "e57c29ad-c27a-4c2b-8f91-679fc1214cc7",
    "_uuid": "e161a5d80eb4baaf76c8bca34d7490397c5fdef9"
   },
   "source": [
    "Let us start our analysis by looking at the data from from multipleChoiceResponses.csv file"
   ]
  },
  {
   "cell_type": "code",
   "execution_count": null,
   "metadata": {
    "_cell_guid": "0aeb0a2b-6bde-43af-84dd-866d004ba423",
    "_uuid": "f3460541621b057cde59fdf872ca5687403af860",
    "collapsed": true
   },
   "outputs": [],
   "source": [
    "mcr_df = pd.read_csv(\"../input/multipleChoiceResponses.csv\", encoding=\"ISO-8859-1\", low_memory=False)\n",
    "mcr_df.shape"
   ]
  },
  {
   "cell_type": "code",
   "execution_count": null,
   "metadata": {
    "_cell_guid": "6522c14a-901a-4f06-ab9e-c5c7fd1e5766",
    "_uuid": "69ce0914df068fe925dba5fa768ac1db756e2fd3",
    "collapsed": true
   },
   "outputs": [],
   "source": [
    "mcr_df.head()"
   ]
  },
  {
   "cell_type": "markdown",
   "metadata": {
    "_cell_guid": "42717aa8-d1f4-4c5f-b91b-6dd20a5f0f60",
    "_uuid": "f011b2525b1430affe0a693e67a5afd083825d86",
    "collapsed": true
   },
   "source": [
    "**Understanding the Respondents:**\n",
    "\n",
    "Let us first try to understand the respondents who took the survey. We know that most of the respondents were found primarily through Kaggle channels, like our email list, discussion forums and social media channels.\n",
    "\n",
    "But let us try to understand more about their demographics from the aspects of age, gender, locality, experience etc\n",
    "\n",
    "**Gender:**"
   ]
  },
  {
   "cell_type": "code",
   "execution_count": null,
   "metadata": {
    "_cell_guid": "f6d5ff28-11af-4586-abc6-964b206127aa",
    "_kg_hide-input": true,
    "_uuid": "e9d46aec67638be606be8bf6821e99c2202b4db8",
    "collapsed": true
   },
   "outputs": [],
   "source": [
    "temp_series = mcr_df['GenderSelect'].value_counts()\n",
    "labels = (np.array(temp_series.index))\n",
    "sizes = (np.array((temp_series / temp_series.sum())*100))\n",
    "\n",
    "trace = go.Pie(labels=labels, values=sizes)\n",
    "layout = go.Layout(\n",
    "    title='Gender distribution'\n",
    ")\n",
    "data = [trace]\n",
    "fig = go.Figure(data=data, layout=layout)\n",
    "py.iplot(fig, filename=\"gender\")"
   ]
  },
  {
   "cell_type": "markdown",
   "metadata": {
    "_cell_guid": "4a0f1b95-62bb-44b5-ba19-0eaf40485873",
    "_uuid": "c7b981656476419ac49bde4fe268ae86ed046b4e"
   },
   "source": [
    "A high number of respondents are males compared to females\n",
    "\n",
    "**Employment Status:**"
   ]
  },
  {
   "cell_type": "code",
   "execution_count": null,
   "metadata": {
    "_cell_guid": "798176f0-dd5c-4739-85a5-453b737ab90d",
    "_kg_hide-input": true,
    "_uuid": "bc5a805915e6bde0eb11f5bfe45c9af85632f7ca",
    "collapsed": true
   },
   "outputs": [],
   "source": [
    "temp_series = mcr_df['EmploymentStatus'].value_counts()\n",
    "labels = (np.array(temp_series.index))\n",
    "sizes = (np.array((temp_series / temp_series.sum())*100))\n",
    "\n",
    "trace = go.Pie(labels=labels, values=sizes)\n",
    "layout = go.Layout(\n",
    "    title='Employment Status distribution'\n",
    ")\n",
    "data = [trace]\n",
    "fig = go.Figure(data=data, layout=layout)\n",
    "py.iplot(fig, filename=\"employmentstatus\")"
   ]
  },
  {
   "cell_type": "markdown",
   "metadata": {
    "_cell_guid": "3216489a-84c9-4c45-80f1-5fbea2b4a7ab",
    "_uuid": "2bb05d935577f72c741a1382e67b82a8a8f9d6fb"
   },
   "source": [
    "Employed full time forms the major chunk followed by people looking for work\n",
    "\n",
    "**Age:**\n",
    "\n",
    "Let us look at the histaogram of age."
   ]
  },
  {
   "cell_type": "code",
   "execution_count": null,
   "metadata": {
    "_cell_guid": "0b8e3452-5a95-413c-823f-ea0dc6b3fbcc",
    "_kg_hide-input": true,
    "_uuid": "a176f399a6dd23d06196729a11581583d9de743b",
    "collapsed": true
   },
   "outputs": [],
   "source": [
    "cnt_srs = mcr_df['Age'].value_counts()\n",
    "trace = go.Bar(\n",
    "    x=cnt_srs.index,\n",
    "    y=cnt_srs.values,\n",
    "    marker=dict(\n",
    "        #color = np.random.randn(500), #set color equal to a variable\n",
    "        color = cnt_srs.values,\n",
    "        colorscale='Viridius',\n",
    "        showscale=True\n",
    "    ),\n",
    ")\n",
    "layout = go.Layout(\n",
    "    title='Age distribution'\n",
    ")\n",
    "data = [trace]\n",
    "fig = go.Figure(data=data, layout=layout)\n",
    "py.iplot(fig, filename=\"age\")"
   ]
  },
  {
   "cell_type": "markdown",
   "metadata": {
    "_cell_guid": "7ad3c018-7baf-469f-8189-e567941f9546",
    "_uuid": "e002cb0d65e8566419ceaf9b711897571e17e0d5"
   },
   "source": [
    "Majority of the people have age between 18 to 60. Clearly we can see some increments is round values like 20, 25, 30 and so on. \n",
    "\n",
    "Also looks like we have few respondents with age 0 and 100 ;) \n",
    "\n",
    "**Country:**\n",
    "\n",
    "Let us look at the top countries from where we get the responses."
   ]
  },
  {
   "cell_type": "code",
   "execution_count": null,
   "metadata": {
    "_cell_guid": "2343de8b-2225-41b8-ab5d-30870eea358f",
    "_kg_hide-input": true,
    "_uuid": "67cf43de52b8160448e6c7a94ed103312d3d2ff7",
    "collapsed": true
   },
   "outputs": [],
   "source": [
    "cnt_srs = mcr_df['Country'].value_counts().head(25)\n",
    "plt.figure(figsize=(8,12))\n",
    "sns.barplot(y=cnt_srs.index, x=cnt_srs.values, alpha=0.8)\n",
    "plt.xlabel('Number of respondents', fontsize=12)\n",
    "plt.ylabel('Country', fontsize=12)\n",
    "plt.title(\"Country wise number of respondents\", fontsize=15)\n",
    "plt.show()"
   ]
  },
  {
   "cell_type": "code",
   "execution_count": null,
   "metadata": {
    "_cell_guid": "7b7a12db-0b71-45c5-a7dc-e01a98720ba1",
    "_kg_hide-input": true,
    "_kg_hide-output": true,
    "_uuid": "b6f2e6ee8f2cbc1c18af0d9f792b5fb3eeff5fb4",
    "collapsed": true
   },
   "outputs": [],
   "source": [
    "LOCDATA=\"\"\"COUNTRY,GDP (BILLIONS),CODE\n",
    "Afghanistan,21.71,AFG\n",
    "Albania,13.40,ALB\n",
    "Algeria,227.80,DZA\n",
    "American Samoa,0.75,ASM\n",
    "Andorra,4.80,AND\n",
    "Angola,131.40,AGO\n",
    "Anguilla,0.18,AIA\n",
    "Antigua and Barbuda,1.24,ATG\n",
    "Argentina,536.20,ARG\n",
    "Armenia,10.88,ARM\n",
    "Aruba,2.52,ABW\n",
    "Australia,1483.00,AUS\n",
    "Austria,436.10,AUT\n",
    "Azerbaijan,77.91,AZE\n",
    "\"Bahamas, The\",8.65,BHM\n",
    "Bahrain,34.05,BHR\n",
    "Bangladesh,186.60,BGD\n",
    "Barbados,4.28,BRB\n",
    "Belarus,75.25,BLR\n",
    "Belgium,527.80,BEL\n",
    "Belize,1.67,BLZ\n",
    "Benin,9.24,BEN\n",
    "Bermuda,5.20,BMU\n",
    "Bhutan,2.09,BTN\n",
    "Bolivia,34.08,BOL\n",
    "Bosnia and Herzegovina,19.55,BIH\n",
    "Botswana,16.30,BWA\n",
    "Brazil,2244.00,BRA\n",
    "British Virgin Islands,1.10,VGB\n",
    "Brunei,17.43,BRN\n",
    "Bulgaria,55.08,BGR\n",
    "Burkina Faso,13.38,BFA\n",
    "Burma,65.29,MMR\n",
    "Burundi,3.04,BDI\n",
    "Cabo Verde,1.98,CPV\n",
    "Cambodia,16.90,KHM\n",
    "Cameroon,32.16,CMR\n",
    "Canada,1794.00,CAN\n",
    "Cayman Islands,2.25,CYM\n",
    "Central African Republic,1.73,CAF\n",
    "Chad,15.84,TCD\n",
    "Chile,264.10,CHL\n",
    "\"People 's Republic of China\",10360.00,CHN\n",
    "Colombia,400.10,COL\n",
    "Comoros,0.72,COM\n",
    "\"Congo, Democratic Republic of the\",32.67,COD\n",
    "\"Congo, Republic of the\",14.11,COG\n",
    "Cook Islands,0.18,COK\n",
    "Costa Rica,50.46,CRI\n",
    "Cote d'Ivoire,33.96,CIV\n",
    "Croatia,57.18,HRV\n",
    "Cuba,77.15,CUB\n",
    "Curacao,5.60,CUW\n",
    "Cyprus,21.34,CYP\n",
    "Czech Republic,205.60,CZE\n",
    "Denmark,347.20,DNK\n",
    "Djibouti,1.58,DJI\n",
    "Dominica,0.51,DMA\n",
    "Dominican Republic,64.05,DOM\n",
    "Ecuador,100.50,ECU\n",
    "Egypt,284.90,EGY\n",
    "El Salvador,25.14,SLV\n",
    "Equatorial Guinea,15.40,GNQ\n",
    "Eritrea,3.87,ERI\n",
    "Estonia,26.36,EST\n",
    "Ethiopia,49.86,ETH\n",
    "Falkland Islands (Islas Malvinas),0.16,FLK\n",
    "Faroe Islands,2.32,FRO\n",
    "Fiji,4.17,FJI\n",
    "Finland,276.30,FIN\n",
    "France,2902.00,FRA\n",
    "French Polynesia,7.15,PYF\n",
    "Gabon,20.68,GAB\n",
    "\"Gambia, The\",0.92,GMB\n",
    "Georgia,16.13,GEO\n",
    "Germany,3820.00,DEU\n",
    "Ghana,35.48,GHA\n",
    "Gibraltar,1.85,GIB\n",
    "Greece,246.40,GRC\n",
    "Greenland,2.16,GRL\n",
    "Grenada,0.84,GRD\n",
    "Guam,4.60,GUM\n",
    "Guatemala,58.30,GTM\n",
    "Guernsey,2.74,GGY\n",
    "Guinea-Bissau,1.04,GNB\n",
    "Guinea,6.77,GIN\n",
    "Guyana,3.14,GUY\n",
    "Haiti,8.92,HTI\n",
    "Honduras,19.37,HND\n",
    "Hong Kong,292.70,HKG\n",
    "Hungary,129.70,HUN\n",
    "Iceland,16.20,ISL\n",
    "India,2048.00,IND\n",
    "Indonesia,856.10,IDN\n",
    "Iran,402.70,IRN\n",
    "Iraq,232.20,IRQ\n",
    "Ireland,245.80,IRL\n",
    "Isle of Man,4.08,IMN\n",
    "Israel,305.00,ISR\n",
    "Italy,2129.00,ITA\n",
    "Jamaica,13.92,JAM\n",
    "Japan,4770.00,JPN\n",
    "Jersey,5.77,JEY\n",
    "Jordan,36.55,JOR\n",
    "Kazakhstan,225.60,KAZ\n",
    "Kenya,62.72,KEN\n",
    "Kiribati,0.16,KIR\n",
    "\"Korea, North\",28.00,PRK\n",
    "\"Korea, South\",1410.00,KOR\n",
    "Kosovo,5.99,KSV\n",
    "Kuwait,179.30,KWT\n",
    "Kyrgyzstan,7.65,KGZ\n",
    "Laos,11.71,LAO\n",
    "Latvia,32.82,LVA\n",
    "Lebanon,47.50,LBN\n",
    "Lesotho,2.46,LSO\n",
    "Liberia,2.07,LBR\n",
    "Libya,49.34,LBY\n",
    "Liechtenstein,5.11,LIE\n",
    "Lithuania,48.72,LTU\n",
    "Luxembourg,63.93,LUX\n",
    "Macau,51.68,MAC\n",
    "Macedonia,10.92,MKD\n",
    "Madagascar,11.19,MDG\n",
    "Malawi,4.41,MWI\n",
    "Malaysia,336.90,MYS\n",
    "Maldives,2.41,MDV\n",
    "Mali,12.04,MLI\n",
    "Malta,10.57,MLT\n",
    "Marshall Islands,0.18,MHL\n",
    "Mauritania,4.29,MRT\n",
    "Mauritius,12.72,MUS\n",
    "Mexico,1296.00,MEX\n",
    "\"Micronesia, Federated States of\",0.34,FSM\n",
    "Moldova,7.74,MDA\n",
    "Monaco,6.06,MCO\n",
    "Mongolia,11.73,MNG\n",
    "Montenegro,4.66,MNE\n",
    "Morocco,112.60,MAR\n",
    "Mozambique,16.59,MOZ\n",
    "Namibia,13.11,NAM\n",
    "Nepal,19.64,NPL\n",
    "Netherlands,880.40,NLD\n",
    "New Caledonia,11.10,NCL\n",
    "New Zealand,201.00,NZL\n",
    "Nicaragua,11.85,NIC\n",
    "Nigeria,594.30,NGA\n",
    "Niger,8.29,NER\n",
    "Niue,0.01,NIU\n",
    "Northern Mariana Islands,1.23,MNP\n",
    "Norway,511.60,NOR\n",
    "Oman,80.54,OMN\n",
    "Pakistan,237.50,PAK\n",
    "Palau,0.65,PLW\n",
    "Panama,44.69,PAN\n",
    "Papua New Guinea,16.10,PNG\n",
    "Paraguay,31.30,PRY\n",
    "Peru,208.20,PER\n",
    "Philippines,284.60,PHL\n",
    "Poland,552.20,POL\n",
    "Portugal,228.20,PRT\n",
    "Puerto Rico,93.52,PRI\n",
    "Qatar,212.00,QAT\n",
    "Romania,199.00,ROU\n",
    "Russia,2057.00,RUS\n",
    "Rwanda,8.00,RWA\n",
    "Saint Kitts and Nevis,0.81,KNA\n",
    "Saint Lucia,1.35,LCA\n",
    "Saint Martin,0.56,MAF\n",
    "Saint Pierre and Miquelon,0.22,SPM\n",
    "Saint Vincent and the Grenadines,0.75,VCT\n",
    "Samoa,0.83,WSM\n",
    "San Marino,1.86,SMR\n",
    "Sao Tome and Principe,0.36,STP\n",
    "Saudi Arabia,777.90,SAU\n",
    "Senegal,15.88,SEN\n",
    "Serbia,42.65,SRB\n",
    "Seychelles,1.47,SYC\n",
    "Sierra Leone,5.41,SLE\n",
    "Singapore,307.90,SGP\n",
    "Sint Maarten,304.10,SXM\n",
    "Slovakia,99.75,SVK\n",
    "Slovenia,49.93,SVN\n",
    "Solomon Islands,1.16,SLB\n",
    "Somalia,2.37,SOM\n",
    "South Africa,341.20,ZAF\n",
    "South Sudan,11.89,SSD\n",
    "Spain,1400.00,ESP\n",
    "Sri Lanka,71.57,LKA\n",
    "Sudan,70.03,SDN\n",
    "Suriname,5.27,SUR\n",
    "Swaziland,3.84,SWZ\n",
    "Sweden,559.10,SWE\n",
    "Switzerland,679.00,CHE\n",
    "Syria,64.70,SYR\n",
    "Taiwan,529.50,TWN\n",
    "Tajikistan,9.16,TJK\n",
    "Tanzania,36.62,TZA\n",
    "Thailand,373.80,THA\n",
    "Timor-Leste,4.51,TLS\n",
    "Togo,4.84,TGO\n",
    "Tonga,0.49,TON\n",
    "Trinidad and Tobago,29.63,TTO\n",
    "Tunisia,49.12,TUN\n",
    "Turkey,813.30,TUR\n",
    "Turkmenistan,43.50,TKM\n",
    "Tuvalu,0.04,TUV\n",
    "Uganda,26.09,UGA\n",
    "Ukraine,134.90,UKR\n",
    "United Arab Emirates,416.40,ARE\n",
    "United Kingdom,2848.00,GBR\n",
    "United States,17420.00,USA\n",
    "Uruguay,55.60,URY\n",
    "Uzbekistan,63.08,UZB\n",
    "Vanuatu,0.82,VUT\n",
    "Venezuela,209.20,VEN\n",
    "Vietnam,187.80,VNM\n",
    "Virgin Islands,5.08,VGB\n",
    "West Bank,6.64,WBG\n",
    "Yemen,45.45,YEM\n",
    "Zambia,25.61,ZMB\n",
    "Zimbabwe,13.74,ZWE\n",
    "    \"\"\"\n",
    "\n",
    "with open(\"location_map.csv\", \"w\") as ofile:\n",
    "    ofile.write(LOCDATA)"
   ]
  },
  {
   "cell_type": "code",
   "execution_count": null,
   "metadata": {
    "_cell_guid": "c958d59b-bcf4-448d-9fcd-5e600b2b7870",
    "_kg_hide-input": true,
    "_uuid": "718d969df3dca06c028df502a4d3aa1429e46a2b",
    "collapsed": true
   },
   "outputs": [],
   "source": [
    "loc_df = pd.read_csv(\"./location_map.csv\")\n",
    "new_df = pd.merge(mcr_df[[\"Country\",\"Age\"]], loc_df, left_on=\"Country\", right_on=\"COUNTRY\")\n",
    "new_df = new_df.groupby([\"Country\", \"CODE\"])[\"Age\"].aggregate('count').reset_index()\n",
    "new_df.columns = [\"Country\", \"Code\", \"Count\"]\n",
    "#new_df['Percentage'] =  new_df['Count'] / float(new_df[\"Count\"].sum())\n",
    "\n",
    "data = [ dict(\n",
    "        type = 'choropleth',\n",
    "        locations = new_df['Code'],\n",
    "        z = new_df['Count'],\n",
    "        text = new_df['Country'],\n",
    "        #colorscale = [[0,\"rgb(5, 10, 172)\"],[10,\"rgb(40, 60, 190)\"],[20,\"rgb(70, 100, 245)\"],\\\n",
    "        #    [30,\"rgb(90, 120, 245)\"],[40,\"rgb(200, 200, 200)\"],[4500,\"rgb(220, 220, 220)\"]],\n",
    "        colorscale = [[0,\"rgb(210, 210, 210)\"], [4500,\"rgb(220, 220, 220)\"]],\n",
    "        autocolorscale = False,\n",
    "        reversescale = True,\n",
    "        marker = dict(\n",
    "            line = dict (\n",
    "                color = 'rgb(180,180,180)',\n",
    "                width = 0.5\n",
    "            ) ),\n",
    "        colorbar = dict(\n",
    "            autotick = False,\n",
    "            title = 'Count of respondents'),\n",
    "      ) ]\n",
    "\n",
    "layout = dict(\n",
    "    title = 'Country wise number of respondents',\n",
    "    geo = dict(\n",
    "        showframe = False,\n",
    "        showcoastlines = True,\n",
    "        projection = dict(\n",
    "            type = 'Mercator'\n",
    "        )\n",
    "    )\n",
    ")\n",
    "\n",
    "fig = dict( data=data, layout=layout )\n",
    "py.iplot( fig, validate=False, filename='d3-world-map' )"
   ]
  },
  {
   "cell_type": "markdown",
   "metadata": {
    "_cell_guid": "042f5408-d40e-4198-8792-b63534c0139d",
    "_uuid": "f437e448660fa39e44538c4a59909fbb8d7b49cc"
   },
   "source": [
    "Highest number of respondents are from US followed by India. Others is a category where if a country or territory received less than 50 respondents, Kaggle grouped them into a group named “Other” for anonymity.\n",
    "\n",
    "**Formal Education:**\n",
    "\n",
    "Let us look at the formal education status of the respondents"
   ]
  },
  {
   "cell_type": "code",
   "execution_count": null,
   "metadata": {
    "_cell_guid": "4a3a901e-a3a6-4422-a634-fb3b06aa5309",
    "_kg_hide-input": true,
    "_uuid": "240b5e8c8695181cfe1813f95e0f587f8f77f868",
    "collapsed": true
   },
   "outputs": [],
   "source": [
    "cnt_srs = mcr_df['FormalEducation'].value_counts()\n",
    "\n",
    "trace = go.Scatter(\n",
    "    x=cnt_srs.index,\n",
    "    y=cnt_srs.values,\n",
    "    mode='markers',\n",
    "    marker=dict(\n",
    "        sizemode = 'diameter',\n",
    "        sizeref = 1,\n",
    "        size = 50,\n",
    "        #color = np.random.randn(500), #set color equal to a variable\n",
    "        color = cnt_srs.values,\n",
    "        colorscale='Portland',\n",
    "        showscale=True\n",
    "    ),\n",
    ")\n",
    "\n",
    "layout = go.Layout(\n",
    "    title='Formal Education distribution'\n",
    ")\n",
    "\n",
    "data = [trace]\n",
    "fig = go.Figure(data=data, layout=layout)\n",
    "py.iplot(fig, filename=\"formaleducation\")"
   ]
  },
  {
   "cell_type": "markdown",
   "metadata": {
    "_cell_guid": "07e2f803-d5be-4654-9e1f-9e1af3d7cf8f",
    "_uuid": "10459c24bc38f7c62e9b4ee313d95a04969eada3"
   },
   "source": [
    "Looks like most of the respondents have Masters degree followed by Bachelors and then Doctoral. Let us now look at the education of the parents.\n",
    "\n",
    "**Parents Education:**"
   ]
  },
  {
   "cell_type": "code",
   "execution_count": null,
   "metadata": {
    "_cell_guid": "7f2bd2e9-c25e-4c8f-bc26-60a4513fac2b",
    "_kg_hide-input": true,
    "_uuid": "f4dc6987e77a402b49a1cffc12d7cdab7037b9ce",
    "collapsed": true
   },
   "outputs": [],
   "source": [
    "cnt_srs = mcr_df['ParentsEducation'].value_counts()\n",
    "\n",
    "trace = go.Scatter(\n",
    "    x=cnt_srs.index,\n",
    "    y=cnt_srs.values,\n",
    "    mode='markers',\n",
    "    marker=dict(\n",
    "        sizemode = 'diameter',\n",
    "        sizeref = 1,\n",
    "        size = 50,\n",
    "        #color = np.random.randn(500), #set color equal to a variable\n",
    "        color = cnt_srs.values,\n",
    "        colorscale='Portland',\n",
    "        showscale=True\n",
    "    ),\n",
    ")\n",
    "\n",
    "layout = go.Layout(\n",
    "    title='Parents Education distribution'\n",
    ")\n",
    "\n",
    "data = [trace]\n",
    "fig = go.Figure(data=data, layout=layout)\n",
    "py.iplot(fig, filename=\"ParentsEducation\")"
   ]
  },
  {
   "cell_type": "markdown",
   "metadata": {
    "_cell_guid": "086fc2d8-2b35-4ae7-82a5-0b2a8500781a",
    "_uuid": "766b45ab721f6057ccc73e12d5904e14e5d2ee76"
   },
   "source": [
    "In parents education, bachelors comes first followed by masters and then high school. There seems to be an improvement in the highest level of education over years.\n",
    "\n",
    "**Tenure:**\n",
    "\n",
    "Tenure represents how long the respondents have been writing code to analyze the data. Let us look at it."
   ]
  },
  {
   "cell_type": "code",
   "execution_count": null,
   "metadata": {
    "_cell_guid": "0850451b-4255-46e3-80ce-a4255150d3c3",
    "_kg_hide-input": true,
    "_uuid": "df427f2bf54c5a4ae1bcfef14ffb5e316d17c343",
    "collapsed": true
   },
   "outputs": [],
   "source": [
    "cnt_srs = mcr_df['Tenure'].value_counts()\n",
    "\n",
    "trace = go.Bar(\n",
    "    x=cnt_srs.index,\n",
    "    y=cnt_srs.values,\n",
    "    marker=dict(\n",
    "        #color = np.random.randn(500), #set color equal to a variable\n",
    "        color = cnt_srs.values,\n",
    "        colorscale='Jet',\n",
    "        showscale=True\n",
    "    ),\n",
    ")\n",
    "\n",
    "layout = go.Layout(\n",
    "    title='Tenure distribution'\n",
    ")\n",
    "\n",
    "data = [trace]\n",
    "fig = go.Figure(data=data, layout=layout)\n",
    "py.iplot(fig, filename=\"tenure\")"
   ]
  },
  {
   "cell_type": "markdown",
   "metadata": {
    "_cell_guid": "29b1f339-799a-4b5c-96c1-3a6bf289f049",
    "_uuid": "96e811c99b87d4804955556fbde46e41eb1e3833"
   },
   "source": [
    "Majority of them have less than 5 years of experience.!\n",
    "\n",
    "**Students Analysis:**\n",
    "\n",
    "**Student Status:**\n",
    "\n",
    "This field tells whether the respondent has currently enrolled as a student at a degree granting school or not. This question is asked only for the people who are not working."
   ]
  },
  {
   "cell_type": "code",
   "execution_count": null,
   "metadata": {
    "_cell_guid": "82815eed-1013-4417-b2a2-65d698756f93",
    "_kg_hide-input": true,
    "_uuid": "5dd2e99c3f5f93ec5eb6acaf2fc7c922901dea50",
    "collapsed": true
   },
   "outputs": [],
   "source": [
    "cnt_srs = mcr_df['StudentStatus'].value_counts()\n",
    "\n",
    "trace = go.Bar(\n",
    "    x=cnt_srs.index,\n",
    "    y=cnt_srs.values,\n",
    "    marker=dict(\n",
    "        #color = np.random.randn(500), #set color equal to a variable\n",
    "        color = cnt_srs.values,\n",
    "        showscale=False\n",
    "    ),\n",
    ")\n",
    "\n",
    "layout = go.Layout(\n",
    "    title='StudentStatus distribution'\n",
    ")\n",
    "\n",
    "data = [trace]\n",
    "fig = go.Figure(data=data, layout=layout)\n",
    "py.iplot(fig, filename=\"studentstatus\")"
   ]
  },
  {
   "cell_type": "markdown",
   "metadata": {
    "_cell_guid": "667fce65-84d5-4355-b7f4-a2f79be1c4a8",
    "_uuid": "843b8156f36263982235454b4f764626276f8806"
   },
   "source": [
    "Majority of the students are from degree granting school. Now let us check whether the student respondents are learning data science skills formally or informally. Hopfully we will see a lot of yes since the survey mostly caters to Kaggle community.\n",
    "\n",
    "**Students Learning Datascience:**"
   ]
  },
  {
   "cell_type": "code",
   "execution_count": null,
   "metadata": {
    "_cell_guid": "53aefd2b-d827-4e5a-a6b1-20bd16fc95e6",
    "_kg_hide-input": true,
    "_uuid": "d1192c1d40e7e4d68319a2a9678c82489c099017",
    "collapsed": true
   },
   "outputs": [],
   "source": [
    "cnt_srs = mcr_df['LearningDataScience'].value_counts()\n",
    "\n",
    "trace = go.Scatter(\n",
    "    x=cnt_srs.index,\n",
    "    y=cnt_srs.values,\n",
    "    mode='markers',\n",
    "    marker=dict(\n",
    "        sizemode = 'diameter',\n",
    "        sizeref = 3,\n",
    "        size = cnt_srs.values,\n",
    "        #color = np.random.randn(500), #set color equal to a variable\n",
    "        color = cnt_srs.values,\n",
    "        colorscale='Portland',\n",
    "        showscale=False\n",
    "    ),\n",
    ")\n",
    "\n",
    "layout = go.Layout(\n",
    "    title='Students Learning Data Science'\n",
    ")\n",
    "\n",
    "data = [trace]\n",
    "fig = go.Figure(data=data, layout=layout)\n",
    "py.iplot(fig, filename=\"LearningDataScience\")"
   ]
  },
  {
   "cell_type": "markdown",
   "metadata": {
    "_cell_guid": "827fa2f0-ac8c-4cd4-ab2a-d110379bf1cb",
    "_uuid": "cb7d9b43e23a920f8b3f815e9a6c909be2d61cbd"
   },
   "source": [
    "As expected most of the students are looking to learn DS.\n",
    "\n",
    "**Working Professionals Analysis:**\n",
    "\n",
    "Now let us look at the working professionals data. First let us start with how many people want to switch to DS career.\n",
    "\n",
    "**Looking to Switch Jobs:**"
   ]
  },
  {
   "cell_type": "code",
   "execution_count": null,
   "metadata": {
    "_cell_guid": "5f00571d-06c6-4119-83cc-a3678195c3fe",
    "_kg_hide-input": true,
    "_uuid": "935a5efe420393666670fd6464d67de384d0e850",
    "collapsed": true
   },
   "outputs": [],
   "source": [
    "temp_series = mcr_df['CareerSwitcher'].value_counts()\n",
    "labels = (np.array(temp_series.index))\n",
    "sizes = (np.array((temp_series / temp_series.sum())*100))\n",
    "\n",
    "trace = go.Pie(labels=labels, values=sizes)\n",
    "layout = go.Layout(\n",
    "    title='Working people looking for career switch'\n",
    ")\n",
    "data = [trace]\n",
    "fig = go.Figure(data=data, layout=layout)\n",
    "py.iplot(fig, filename=\"CareerSwitcher\")"
   ]
  },
  {
   "cell_type": "markdown",
   "metadata": {
    "_cell_guid": "12609d31-b672-4012-97e8-079cf2718406",
    "_uuid": "5f214007e68351f20ba849bd54bdb9888c30a8dd"
   },
   "source": [
    "About 70% of the repondents are looking for a career switch.\n",
    "\n",
    "**Current Job Title:**\n",
    "\n",
    "Since most of the people are looking for a career switch, let us look a the job title of working professionals."
   ]
  },
  {
   "cell_type": "code",
   "execution_count": null,
   "metadata": {
    "_cell_guid": "65b10565-9286-4c79-8701-682ba36aa315",
    "_kg_hide-input": true,
    "_uuid": "ca890e979632fb0bbda96f94e44361d7d1c08f45",
    "collapsed": true
   },
   "outputs": [],
   "source": [
    "cnt_srs = mcr_df['CurrentJobTitleSelect'].value_counts()\n",
    "\n",
    "trace = go.Scatter(\n",
    "    x=cnt_srs.index,\n",
    "    y=cnt_srs.values,\n",
    "    mode='markers',\n",
    "    marker=dict(\n",
    "        sizemode = 'diameter',\n",
    "        sizeref = 20,\n",
    "        size = cnt_srs.values,\n",
    "        #color = np.random.randn(500), #set color equal to a variable\n",
    "        color = cnt_srs.values,\n",
    "        colorscale='Portland',\n",
    "        showscale=True\n",
    "    ),\n",
    ")\n",
    "\n",
    "layout = go.Layout(\n",
    "    title='Current Job Title Distribution'\n",
    ")\n",
    "\n",
    "data = [trace]\n",
    "fig = go.Figure(data=data, layout=layout)\n",
    "py.iplot(fig, filename=\"CurrentJobTitleSelect\")"
   ]
  },
  {
   "cell_type": "markdown",
   "metadata": {
    "_cell_guid": "17f4a6d5-29b2-4478-b2b8-e32e83a16439",
    "_uuid": "343415b7428f52abc7cd9daa2da5278daff60308"
   },
   "source": [
    "Majority of the respondents have title as \"Data Scientist\" followed by \"Software Developer\".\n",
    "\n",
    "Now let us see how many people believe that the title fits what they have been doing."
   ]
  },
  {
   "cell_type": "code",
   "execution_count": null,
   "metadata": {
    "_cell_guid": "c36cef63-15a0-4eea-a70b-1cec43973e8f",
    "_kg_hide-input": true,
    "_uuid": "ab4ceff43a0189d8bbee41854ea05a6f42a6e7c9",
    "collapsed": true
   },
   "outputs": [],
   "source": [
    "cnt_srs = mcr_df['TitleFit'].value_counts()\n",
    "\n",
    "trace = go.Bar(\n",
    "    x=cnt_srs.index,\n",
    "    y=cnt_srs.values,\n",
    "    marker=dict(\n",
    "        #color = np.random.randn(500), #set color equal to a variable\n",
    "        color = cnt_srs.values,\n",
    "        showscale=False\n",
    "    ),\n",
    ")\n",
    "\n",
    "layout = go.Layout(\n",
    "    title='TitleFit distribution'\n",
    ")\n",
    "\n",
    "data = [trace]\n",
    "fig = go.Figure(data=data, layout=layout)\n",
    "py.iplot(fig, filename=\"TitleFit\")"
   ]
  },
  {
   "cell_type": "markdown",
   "metadata": {
    "_cell_guid": "ab8e69ba-5347-4785-929f-3a27b4e6a981",
    "_uuid": "1d3e15497d91d77f2e2cbf24399130dcb9445cc4"
   },
   "source": [
    "Most of the people feel that the title is fine. Around 1700 people feel that the title fits poorly with what they do.!\n",
    "\n",
    "Let us now look how many people write codes to analyze data of the respondents."
   ]
  },
  {
   "cell_type": "code",
   "execution_count": null,
   "metadata": {
    "_cell_guid": "57344a91-bc04-443d-bd8b-a62c168d87df",
    "_kg_hide-input": true,
    "_uuid": "4a5e8ff445695770d5ecc89e69c9751fdec984e3",
    "collapsed": true
   },
   "outputs": [],
   "source": [
    "cnt_srs = mcr_df['CodeWriter'].value_counts()\n",
    "\n",
    "trace = go.Scatter(\n",
    "    x=cnt_srs.index,\n",
    "    y=cnt_srs.values,\n",
    "    mode='markers',\n",
    "    marker=dict(\n",
    "        sizemode = 'diameter',\n",
    "        sizeref = 40,\n",
    "        size = cnt_srs.values,\n",
    "        #color = np.random.randn(500), #set color equal to a variable\n",
    "        color = cnt_srs.values,\n",
    "        colorscale='Portland',\n",
    "        showscale=False\n",
    "    ),\n",
    ")\n",
    "\n",
    "layout = go.Layout(\n",
    "    title='Writes code to analyze data'\n",
    ")\n",
    "\n",
    "data = [trace]\n",
    "fig = go.Figure(data=data, layout=layout)\n",
    "py.iplot(fig, filename=\"CodeWriter\")"
   ]
  },
  {
   "cell_type": "markdown",
   "metadata": {
    "_cell_guid": "5aabb3bb-bf86-4339-8ae7-91662f4b83d9",
    "_uuid": "065c8c4a3162cae097d352b40ff1ea33d56f0ab7"
   },
   "source": [
    "Majority of the respondents who work, write codes to analyze the data. Let us now look at the top employer type to understand more about them."
   ]
  },
  {
   "cell_type": "code",
   "execution_count": null,
   "metadata": {
    "_cell_guid": "55688944-099f-4cb7-8859-f9c8181a6edd",
    "_kg_hide-input": true,
    "_uuid": "62a87ec4e855f86775936282091189334228bf4d",
    "collapsed": true
   },
   "outputs": [],
   "source": [
    "cnt_srs = mcr_df['CurrentEmployerType'].value_counts().head(20)\n",
    "\n",
    "trace = go.Bar(\n",
    "    x=cnt_srs.index,\n",
    "    y=cnt_srs.values,\n",
    "    marker=dict(\n",
    "        color=cnt_srs.values,\n",
    "        colorscale = 'Viridis',\n",
    "        reversescale = True\n",
    "    ),\n",
    ")\n",
    "\n",
    "layout = dict(\n",
    "    title='Type of current employer',\n",
    "    )\n",
    "data = [trace]\n",
    "fig = go.Figure(data=data, layout=layout)\n",
    "py.iplot(fig, filename=\"CurrentEmployerType\")"
   ]
  },
  {
   "cell_type": "code",
   "execution_count": null,
   "metadata": {
    "_cell_guid": "b11d1141-d6f5-49f7-b391-ea3aed768ab3",
    "_kg_hide-input": true,
    "_uuid": "d0f0fae7d79e353b22ffb038400cd07dce6d93c0",
    "collapsed": true
   },
   "outputs": [],
   "source": [
    "cnt_srs = mcr_df['EmployerSize'].value_counts()\n",
    "\n",
    "index = ['Fewer than 10 employees', '10 to 19 employees', '20 to 99 employees', '100 to 499 employees', '500 to 999 employees', '1,000 to 4,999 employees', '5,000 to 9,999 employees', '10,000 or more employees', \"I don't know\", 'I prefer not to answer']\n",
    "values = cnt_srs[index]\n",
    "\n",
    "trace = go.Scatter(\n",
    "    x=index,\n",
    "    y=values,\n",
    "    mode='markers',\n",
    "    marker=dict(\n",
    "        symbol='hexagram',\n",
    "        sizemode = 'diameter',\n",
    "        sizeref = 1,\n",
    "        size = 50,\n",
    "        #color = np.random.randn(500), #set color equal to a variable\n",
    "        color = values,\n",
    "        colorscale='Portland',\n",
    "        showscale=True\n",
    "    ),\n",
    ")\n",
    "\n",
    "layout = go.Layout(\n",
    "    title='Employer Size'\n",
    ")\n",
    "\n",
    "data = [trace]\n",
    "fig = go.Figure(data=data, layout=layout)\n",
    "py.iplot(fig, filename=\"EmployerSize\")"
   ]
  },
  {
   "cell_type": "markdown",
   "metadata": {
    "_cell_guid": "32ac555c-f185-4b4d-896f-e7d39b2e33df",
    "_uuid": "001fef3077b56bcb80920debaf5ad87ccc1f5772"
   },
   "source": [
    "Most of the repondent's employers have a size of 10,000 or more employees. "
   ]
  },
  {
   "cell_type": "code",
   "execution_count": null,
   "metadata": {
    "_cell_guid": "ceafc1fa-a8f3-4bb5-be57-7e7d430d8635",
    "_kg_hide-input": true,
    "_uuid": "7d17e1bad0e33dda545c6b585f92201abbe9e62c",
    "collapsed": true
   },
   "outputs": [],
   "source": [
    "cnt_srs = mcr_df['EmployerIndustry'].value_counts()\n",
    "\n",
    "trace = go.Scatter(\n",
    "    x=cnt_srs.index,\n",
    "    y=cnt_srs.values,\n",
    "    mode='markers',\n",
    "    marker=dict(\n",
    "        symbol='star-diamond',\n",
    "        sizemode = 'diameter',\n",
    "        sizeref = 1,\n",
    "        size = 50,\n",
    "        #color = np.random.randn(500), #set color equal to a variable\n",
    "        color = cnt_srs.values,\n",
    "        colorscale='Portland',\n",
    "        showscale=True\n",
    "    ),\n",
    ")\n",
    "\n",
    "layout = go.Layout(\n",
    "    title='Employer Industry distribution'\n",
    ")\n",
    "\n",
    "data = [trace]\n",
    "fig = go.Figure(data=data, layout=layout)\n",
    "py.iplot(fig, filename=\"EmployerIndustry\")"
   ]
  },
  {
   "cell_type": "markdown",
   "metadata": {
    "_cell_guid": "da5a49b6-3ecb-4ef6-9154-efb5d05527c7",
    "_uuid": "830432a7e31fb656c0640af007481dd6f899d6bb"
   },
   "source": [
    "Most of the employers are from Technology industry followed by Academics.\n",
    "\n",
    "Now let us look at the the number of years the employer is using advanced analytics / datascience."
   ]
  },
  {
   "cell_type": "code",
   "execution_count": null,
   "metadata": {
    "_cell_guid": "494f1dbf-f878-451f-b14b-77d813d67352",
    "_kg_hide-input": true,
    "_uuid": "3cbe4bbea2edd7db8ee1a894ee3e1c20f35e8f30",
    "collapsed": true
   },
   "outputs": [],
   "source": [
    "cnt_srs = mcr_df['EmployerMLTime'].value_counts().head(25)\n",
    "\n",
    "index = ['Less than one year', '1-2 years', '3-5 years', '6-10 years', 'More than 10 years', \"Don't know\"]\n",
    "values = cnt_srs[index]\n",
    "\n",
    "trace = go.Bar(\n",
    "    x=index,\n",
    "    y=values,\n",
    "    marker=dict(\n",
    "        color=values,\n",
    "        colorscale = 'Viridis',\n",
    "        reversescale = True\n",
    "    ),\n",
    ")\n",
    "\n",
    "layout = dict(\n",
    "    title='Number of years employer using ML / DS',\n",
    "    )\n",
    "data = [trace]\n",
    "fig = go.Figure(data=data, layout=layout)\n",
    "py.iplot(fig, filename=\"EmployerMLTime\")"
   ]
  },
  {
   "cell_type": "markdown",
   "metadata": {
    "_cell_guid": "f8227176-fa42-42f5-853c-c1c02c7994e6",
    "_uuid": "74591ae0b2f27f59d0149bd129d4067ebbf55a65"
   },
   "source": [
    "There seems to be sudden drop in 6 to 10 years."
   ]
  },
  {
   "cell_type": "markdown",
   "metadata": {
    "_cell_guid": "e5c536d8-925f-4624-87b0-31fdeee39abf",
    "_uuid": "a29f32d4c417b959a0d54f84ec6dafefc87b5278"
   },
   "source": [
    "**Analysis on interesting questions asked to all participants:**\n",
    "\n",
    "In this part, let us do some analysis on the interesting questions that has been asked to all the participants.\n",
    "\n",
    "**Do you currently consider yourself a Data Scientist?**\n",
    "\n",
    "What a question to begin with. Let us now see hoe people responded to that."
   ]
  },
  {
   "cell_type": "code",
   "execution_count": null,
   "metadata": {
    "_cell_guid": "37a397bc-ed4f-4ecd-a5e2-25cf8fad8bab",
    "_kg_hide-input": true,
    "_uuid": "c74718aac6fd1f15df4e42baafc9eee7ed6b9bc1",
    "collapsed": true
   },
   "outputs": [],
   "source": [
    "temp_series = mcr_df['DataScienceIdentitySelect'].value_counts()\n",
    "labels = (np.array(temp_series.index))\n",
    "sizes = (np.array((temp_series / temp_series.sum())*100))\n",
    "\n",
    "trace = go.Pie(labels=labels, values=sizes)\n",
    "layout = go.Layout(\n",
    "    title='Do you consider yourself a DS?'\n",
    ")\n",
    "data = [trace]\n",
    "fig = go.Figure(data=data, layout=layout)\n",
    "py.iplot(fig, filename=\"DataScienceIdentitySelect\")"
   ]
  },
  {
   "cell_type": "markdown",
   "metadata": {
    "_cell_guid": "cc10eff1-97bc-4153-94fa-5e229a47357d",
    "_uuid": "6b327e749192513c5976e83284b58e1ced6917f3"
   },
   "source": [
    "Interestingly, higher number of people said \"no\" than \"yes\". I was expecting the other way around though.\n",
    "\n",
    "We can now see how these numbers change based on Employment status."
   ]
  },
  {
   "cell_type": "code",
   "execution_count": null,
   "metadata": {
    "_cell_guid": "e00d64bd-d7f7-4f92-8cba-1a940cc80765",
    "_kg_hide-input": true,
    "_uuid": "8c18bb80e86f766dee7bc4258247509df43fd783",
    "collapsed": true
   },
   "outputs": [],
   "source": [
    "plt.figure(figsize=(12,8))\n",
    "sns.countplot(x='EmploymentStatus', hue='DataScienceIdentitySelect', data=mcr_df)\n",
    "plt.ylabel('Number of Occurrences', fontsize=12)\n",
    "plt.xlabel('EmploymentStatus', fontsize=12)\n",
    "plt.xticks(rotation=90)\n",
    "plt.title(\"Employment Status\")\n",
    "plt.show()"
   ]
  },
  {
   "cell_type": "markdown",
   "metadata": {
    "_cell_guid": "98d517fe-6d3b-4238-9aa9-00306919dbf9",
    "_uuid": "368473c86b675eb09357bfce2d293ab5edf49025"
   },
   "source": [
    "Interestingly again, people who are employed answered \"No\" for this question than \"Not Employed but looking for work\" people.\n",
    "\n",
    "**How did you first start your DS / ML training?**\n",
    "\n",
    "Let us see what is the response for this question."
   ]
  },
  {
   "cell_type": "code",
   "execution_count": null,
   "metadata": {
    "_cell_guid": "d2b18895-6685-4e2f-84a2-0a4642eb1693",
    "_kg_hide-input": true,
    "_uuid": "fb8d9a4591af591c1ce3737a3eac408714fa3a2a",
    "collapsed": true
   },
   "outputs": [],
   "source": [
    "cnt_srs = mcr_df['FirstTrainingSelect'].value_counts()\n",
    "\n",
    "trace = go.Scatter(\n",
    "    x=cnt_srs.index,\n",
    "    y=cnt_srs.values,\n",
    "    mode='markers',\n",
    "    marker=dict(\n",
    "        symbol = 'diamond',\n",
    "        sizemode = 'diameter',\n",
    "        sizeref = 1,\n",
    "        size = 50,\n",
    "        #color = np.random.randn(500), #set color equal to a variable\n",
    "        color = cnt_srs.values,\n",
    "        colorscale='Portland',\n",
    "        showscale=True\n",
    "    ),\n",
    ")\n",
    "\n",
    "layout = go.Layout(\n",
    "    title='How did you first start your ML / DS training?'\n",
    ")\n",
    "\n",
    "data = [trace]\n",
    "fig = go.Figure(data=data, layout=layout)\n",
    "py.iplot(fig, filename=\"FirstTrainingSelect\")"
   ]
  },
  {
   "cell_type": "markdown",
   "metadata": {
    "_cell_guid": "3753fd21-b086-40ba-997f-2cd35f710380",
    "_uuid": "e0d60a8e04a18d67e2fd60094993d4f2810ff2b7"
   },
   "source": [
    "Most people responded as online courses followed by university and self-taught. **There are quite a few people who started  through Kaggle competitions as well.**\n",
    "\n",
    "**Which ML tool or technology are you most excited to learn next year?**\n",
    "\n",
    "This is a very interesting question and I would love to know the answer as well.\n",
    "\n"
   ]
  },
  {
   "cell_type": "code",
   "execution_count": null,
   "metadata": {
    "_cell_guid": "7fd01ba8-c119-4146-a66a-1b8925127f32",
    "_kg_hide-input": true,
    "_uuid": "54620755526dc349c9a4591153c4331fab0b4b8c",
    "collapsed": true
   },
   "outputs": [],
   "source": [
    "cnt_srs = mcr_df['MLToolNextYearSelect'].value_counts().head(30)\n",
    "\n",
    "trace = go.Scatter(\n",
    "    x=cnt_srs.index,\n",
    "    y=cnt_srs.values,\n",
    "    mode='markers',\n",
    "    marker=dict(\n",
    "        sizemode = 'diameter',\n",
    "        sizeref = 20,\n",
    "        size = cnt_srs.values,\n",
    "        #color = np.random.randn(500), #set color equal to a variable\n",
    "        color = cnt_srs.values,\n",
    "        colorscale='Portland',\n",
    "        showscale=True\n",
    "    ),\n",
    ")\n",
    "\n",
    "layout = go.Layout(\n",
    "    title='ML Tool / Technology to learn planning to learn next year'\n",
    ")\n",
    "\n",
    "data = [trace]\n",
    "fig = go.Figure(data=data, layout=layout)\n",
    "py.iplot(fig, filename=\"MLToolNextYearSelect\")"
   ]
  },
  {
   "cell_type": "markdown",
   "metadata": {
    "_cell_guid": "1633e3ea-0f30-477a-8c4b-48484cdb71b7",
    "_uuid": "75266bd4e011ae5da7673954414364d8ed5b5b3d"
   },
   "source": [
    "Tensorflow seems to be a clear winner followed by Python and R. Big data technologies like Spark / MLlib, Hadoop are fast catching up as well.\n",
    "\n",
    "**Which ML method are you most excited to learn next year?:**\n",
    "\n",
    "Here is one more interesting question."
   ]
  },
  {
   "cell_type": "code",
   "execution_count": null,
   "metadata": {
    "_cell_guid": "06862184-888c-41cc-a390-a2546c7d872e",
    "_kg_hide-input": true,
    "_uuid": "a30a3b5a1a95d6f6a6b01563f1a1d8687c692891",
    "collapsed": true
   },
   "outputs": [],
   "source": [
    "temp_series = mcr_df['MLMethodNextYearSelect'].value_counts().head(20)\n",
    "\n",
    "labels = (np.array(temp_series.index))\n",
    "sizes = (np.array((temp_series / temp_series.sum())*100))\n",
    "\n",
    "trace = go.Pie(labels=labels, values=sizes)\n",
    "layout = go.Layout(\n",
    "    title='ML method planning to learn next year'\n",
    ")\n",
    "data = [trace]\n",
    "fig = go.Figure(data=data, layout=layout)\n",
    "py.iplot(fig, filename=\"MLMethodNextYearSelect\")"
   ]
  },
  {
   "cell_type": "markdown",
   "metadata": {
    "_cell_guid": "73e71a58-d24c-4587-8e09-b8c5a5097b85",
    "_uuid": "6f01e64d4c8072af4d757829e619eddae2d7e7d3"
   },
   "source": [
    "In line with Tensorflow, Deep learning is the most popular method which people want to learn next year.!\n",
    "\n",
    "** Which language would you recommend to a new DS to learn first?:**\n",
    "\n",
    "One more interesting question to start the language war."
   ]
  },
  {
   "cell_type": "code",
   "execution_count": null,
   "metadata": {
    "_cell_guid": "e7a041f2-8a79-4e79-a467-220e511f7934",
    "_kg_hide-input": true,
    "_uuid": "faf383ac8523ef0893c196d2ca6cfdc8b0bcfa6c",
    "collapsed": true
   },
   "outputs": [],
   "source": [
    "cnt_srs = mcr_df['LanguageRecommendationSelect'].value_counts().head(20)\n",
    "\n",
    "trace = go.Bar(\n",
    "    x=cnt_srs.index,\n",
    "    y=cnt_srs.values,\n",
    "    marker=dict(\n",
    "        color=cnt_srs.values,\n",
    "        colorscale = 'Viridis',\n",
    "        reversescale = True\n",
    "    ),\n",
    ")\n",
    "layout = dict(\n",
    "    title='Which language do you recommend for new DS people?',\n",
    "    )\n",
    "\n",
    "data = [trace]\n",
    "fig = go.Figure(data=data, layout=layout)\n",
    "py.iplot(fig, filename=\"LanguageRecommendationSelect\")"
   ]
  },
  {
   "cell_type": "markdown",
   "metadata": {
    "_cell_guid": "68d31a4e-8469-4a92-be75-db5eca371da0",
    "_uuid": "a60362df970b9c110325a751f2d879c072069a05"
   },
   "source": [
    "Wow. Python is so tall followed by R. This also goes well with the previous two questions since tensorflow primarily used python and also many deep learning methods.\n",
    "\n",
    "**Most important way to prove knowledge of ML / DS:**\n",
    "\n",
    "One more nice question and let us see what people think.\n"
   ]
  },
  {
   "cell_type": "code",
   "execution_count": null,
   "metadata": {
    "_cell_guid": "b1c66c7a-8920-4b20-8689-0e818aafe6a8",
    "_kg_hide-input": true,
    "_uuid": "72bd3a625de31396fec0e6304c4b2df5351e7a6e",
    "collapsed": true
   },
   "outputs": [],
   "source": [
    "cnt_srs = mcr_df['ProveKnowledgeSelect'].value_counts()\n",
    "\n",
    "trace = go.Scatter(\n",
    "    x=cnt_srs.index,\n",
    "    y=cnt_srs.values,\n",
    "    mode='markers',\n",
    "    marker=dict(\n",
    "        symbol = 'hexagon',\n",
    "        sizemode = 'diameter',\n",
    "        sizeref = 1,\n",
    "        size = 50,\n",
    "        #color = np.random.randn(500), #set color equal to a variable\n",
    "        color = cnt_srs.values,\n",
    "        colorscale='Viridius',\n",
    "        showscale=True\n",
    "    ),\n",
    ")\n",
    "\n",
    "layout = go.Layout(\n",
    "    title='Most important way to prove knowledge of ML / DS knowledge'\n",
    ")\n",
    "\n",
    "data = [trace]\n",
    "fig = go.Figure(data=data, layout=layout)\n",
    "py.iplot(fig, filename=\"ProveKnowledgeSelect\")"
   ]
  },
  {
   "cell_type": "markdown",
   "metadata": {
    "_cell_guid": "bd51538f-8d6e-4a4d-a649-ec715e49285e",
    "_uuid": "a35bdf66093677886c4faa9fb119c2f86c856b77"
   },
   "source": [
    "Experience from work turns out to be the most important one. Guess what came second? Kaggle competitions.!\n",
    "\n",
    "**Time spent on different aspects of DS projects during work:**\n",
    "\n",
    "In this section let us see how people spend time on different aspects of Data science like\n",
    "\n",
    "* Gathering and cleaning data\n",
    "* Model building\n",
    "* Putting the work Production\n",
    "* Visualizing data\n",
    "* Finding insights in the data\n",
    "* Others\n",
    "\n",
    "Sum of all the different aspects should sum up to 100 as per the instructions given during the survey."
   ]
  },
  {
   "cell_type": "code",
   "execution_count": null,
   "metadata": {
    "_cell_guid": "ebbb453b-bcbe-4eca-b2a4-946920d8cb15",
    "_kg_hide-input": true,
    "_uuid": "36baf71e03cb8de6260a40280616a22838e973a8",
    "collapsed": true
   },
   "outputs": [],
   "source": [
    "mcr_df[\"TimeFindingInsights\"].loc[mcr_df[\"TimeFindingInsights\"]>100] = 100\n",
    "\n",
    "ys = [mcr_df.TimeGatheringData.values, mcr_df.TimeModelBuilding.values, mcr_df.TimeProduction.values, mcr_df.TimeVisualizing.values, mcr_df.TimeFindingInsights.values, mcr_df.TimeOtherSelect.values]\n",
    "names = [\"Gathering Data\", \"Model Building\", \"Productionizing\", \"Visualizing\", \"Finding Insights\", \"Others\"]\n",
    "colors = ['rgba(93, 164, 214, 0.5)', 'rgba(255, 144, 14, 0.5)', 'rgba(44, 160, 101, 0.5)', 'rgba(255, 65, 54, 0.5)', 'rgba(207, 114, 255, 0.5)', 'rgba(127, 96, 0, 0.5)']\n",
    "\n",
    "trace = []\n",
    "\n",
    "for i in range(6):\n",
    "    trace.append ( \n",
    "        go.Box(\n",
    "            y=ys[i],\n",
    "            name=names[i],\n",
    "            marker = dict(\n",
    "                color=colors[i],\n",
    "            )\n",
    "        )\n",
    "    )\n",
    "layout = go.Layout(\n",
    "    title='Time spent on different aspects of DS'\n",
    ")\n",
    "#data = [trace0, trace1]\n",
    "fig = go.Figure(data=trace, layout=layout)\n",
    "py.iplot(fig, filename=\"TimeSpent\")"
   ]
  },
  {
   "cell_type": "markdown",
   "metadata": {
    "_cell_guid": "983a666b-ab74-4a73-8963-ab3be2ad04d4",
    "_uuid": "db9de29841cb0f46af25b2f768e8cbc21fa528b9"
   },
   "source": [
    "From the graphs, most part of the time is spent on cleaning / pre-processing the data. It is atleast inline with my experience as well. Looks like productioning the models take lesser time compared to others.\n",
    "\n",
    "**Percentage of current ML training categories:**\n",
    "\n",
    "In this section, let us analyze the different catefories that contributes to the ML / DS training of a person. The sum of all the actegories should be 100. So we could get the percentage share of each of the different categories."
   ]
  },
  {
   "cell_type": "code",
   "execution_count": null,
   "metadata": {
    "_cell_guid": "77599466-495c-48b3-9ef3-ffa26f7c40f2",
    "_kg_hide-input": true,
    "_uuid": "9f8add5050c6f89a03305cc5bee78ad9f8a9b626",
    "collapsed": true
   },
   "outputs": [],
   "source": [
    "ys = [mcr_df.LearningCategorySelftTaught.values, mcr_df.LearningCategoryOnlineCourses.values, mcr_df.LearningCategoryWork.values, mcr_df.LearningCategoryUniversity.values, mcr_df.LearningCategoryKaggle.values, mcr_df.LearningCategoryOther.values]\n",
    "names = [\"Self Taught\", \"Online Courses\", \"Work\", \"University\", \"Kaggle\", \"Others\"]\n",
    "#colors = ['rgba(93, 164, 214, 0.5)', 'rgba(255, 144, 14, 0.5)', 'rgba(44, 160, 101, 0.5)', 'rgba(255, 65, 54, 0.5)', 'rgba(207, 114, 255, 0.5)', 'rgba(127, 96, 0, 0.5)']\n",
    "colors = ['hsl('+str(h)+',50%'+',50%)' for h in np.linspace(0, 360, 6)]\n",
    "trace = []\n",
    "for i in range(6):\n",
    "    trace.append ( \n",
    "        go.Box(\n",
    "            x=ys[i],\n",
    "            name=names[i],\n",
    "            marker = dict(\n",
    "                color=colors[i],\n",
    "            )\n",
    "        )\n",
    "    )\n",
    "layout = go.Layout(\n",
    "    title='Percentage contribution of different categories in ML Learning'\n",
    ")\n",
    "\n",
    "fig = go.Figure(data=trace, layout=layout)\n",
    "py.iplot(fig, filename=\"CategoriesLearning\")"
   ]
  },
  {
   "cell_type": "markdown",
   "metadata": {
    "_cell_guid": "7ffa30ea-01b1-490c-96db-72ca9a22ec8f",
    "_uuid": "301543622c111f4b00c4a20ed78a2a873d0134ec"
   },
   "source": [
    "\"Self taught\" seems to be the most important contributor followed by \"Online courses\".\n",
    "\n",
    "As a follow up of the previous plot, we can also look at how long people have been learning data science."
   ]
  },
  {
   "cell_type": "code",
   "execution_count": null,
   "metadata": {
    "_cell_guid": "0efc4cc8-4700-46ed-9b4b-88efd42ac5e1",
    "_kg_hide-input": true,
    "_uuid": "7d36cce0c3d9ff03cfdcde322e0af9ce3dd24896",
    "collapsed": true
   },
   "outputs": [],
   "source": [
    "temp_series = mcr_df['LearningDataScienceTime'].value_counts().head(20)\n",
    "\n",
    "labels = (np.array(temp_series.index))\n",
    "sizes = (np.array((temp_series / temp_series.sum())*100))\n",
    "\n",
    "trace = go.Pie(labels=labels, values=sizes)\n",
    "layout = go.Layout(\n",
    "    title='How long have you been learning DS?'\n",
    ")\n",
    "data = [trace]\n",
    "fig = go.Figure(data=data, layout=layout)\n",
    "py.iplot(fig, filename=\"LearningDataScienceTime\")"
   ]
  },
  {
   "cell_type": "markdown",
   "metadata": {
    "_cell_guid": "a366e7fd-7ee1-4cbd-8a84-c3749ea04a06",
    "_uuid": "bb0576fcccb1fa20c61c73ce42a720a734cb3b92"
   },
   "source": [
    "Almost 50% of the respondents mentioned that it is less than 1 year that they have started learning DS.\n",
    "\n",
    "Now let us also check how many hours people spend studying DS in a week."
   ]
  },
  {
   "cell_type": "code",
   "execution_count": null,
   "metadata": {
    "_cell_guid": "c663ca6c-1c85-4c4c-b2c9-b012f22282bd",
    "_kg_hide-input": true,
    "_uuid": "f1347bd57821a9152183bf5306b94c59bc5d6514",
    "collapsed": true
   },
   "outputs": [],
   "source": [
    "cnt_srs = mcr_df['TimeSpentStudying'].value_counts().head(20)\n",
    "\n",
    "index = [\"0 - 1 hour\", \"2 - 10 hours\", \"11 - 39 hours\", \"40+\"]\n",
    "values = cnt_srs[index]\n",
    "\n",
    "trace = go.Bar(\n",
    "    x=index,\n",
    "    y=values,\n",
    "    marker=dict(\n",
    "        color=values,\n",
    "        colorscale = 'Jet',\n",
    "        reversescale = True\n",
    "    ),\n",
    ")\n",
    "layout = dict(\n",
    "    title='Time spent studying DS in a week',\n",
    "    )\n",
    "\n",
    "data = [trace]\n",
    "fig = go.Figure(data=data, layout=layout)\n",
    "py.iplot(fig, filename=\"TimeSpentStudying\")"
   ]
  },
  {
   "cell_type": "markdown",
   "metadata": {
    "_cell_guid": "79a12567-a15b-49c1-83eb-42ec37324254",
    "_uuid": "45ad2041c1184a9446beb334d876b59319a8d315"
   },
   "source": [
    "**Work Details Analysis:**\n",
    "\n",
    "In this section, let us analyze the different work related details that has been asked as part of the survey. Let us start with the dataset size which people used to work with as part of their job."
   ]
  },
  {
   "cell_type": "code",
   "execution_count": null,
   "metadata": {
    "_cell_guid": "6cbb5299-174e-417b-81f4-22ac8319fdf3",
    "_kg_hide-input": true,
    "_uuid": "75d6a36b1348e4c30498ce7b751e67ba6f4797ea",
    "collapsed": true
   },
   "outputs": [],
   "source": [
    "cnt_srs = mcr_df['WorkDatasetSize'].value_counts().head(25)\n",
    "\n",
    "index = ['<1MB', '1MB', '10MB', '100MB', '1GB', '10GB', '100GB', '1TB', '10TB', '100TB', '1PB', '10PB', '100PB', '1EB', '>1EB']\n",
    "values = cnt_srs[index]\n",
    "\n",
    "trace = go.Bar(\n",
    "    x=index,\n",
    "    y=values,\n",
    "    marker=dict(\n",
    "        color=values,\n",
    "        colorscale = 'Viridis',\n",
    "        reversescale = True\n",
    "    ),\n",
    ")\n",
    "\n",
    "layout = dict(\n",
    "    title='Dataset size worked',\n",
    "    )\n",
    "data = [trace]\n",
    "fig = go.Figure(data=data, layout=layout)\n",
    "py.iplot(fig, filename=\"WorkDatasetSize\")"
   ]
  },
  {
   "cell_type": "markdown",
   "metadata": {
    "_cell_guid": "1735f56a-24e9-4988-8a3f-97289e849239",
    "_uuid": "8d997e77b7e276a5ddd35f26003fdb89ede1968f"
   },
   "source": [
    "A right skewed normal distribution with a peak at 1 GB.\n",
    "\n",
    "**Computing Hardware used in work:**"
   ]
  },
  {
   "cell_type": "code",
   "execution_count": null,
   "metadata": {
    "_cell_guid": "613a33da-e1e5-4a2f-9e52-2a72aab3d36f",
    "_kg_hide-input": true,
    "_uuid": "81c0fd540f12be4ccaae8e0a3c2b2b5cfcec5b8e",
    "collapsed": true
   },
   "outputs": [],
   "source": [
    "hardware_used = []\n",
    "for hardwares in mcr_df.WorkHardwareSelect.values:\n",
    "    hardwares = str(hardwares).replace(\"AWS,\", \"AWS\").replace(\"Azure,\", \"Azure\")\n",
    "    if str(hardwares) != \"nan\":\n",
    "        hardware_used.extend( hardwares.split(\",\") )\n",
    "cnt_srs = pd.Series(hardware_used).value_counts()\n",
    "\n",
    "trace = go.Scatter(\n",
    "    y=cnt_srs.index[::-1],\n",
    "    x=cnt_srs.values[::-1],\n",
    "    mode='markers',\n",
    "    marker=dict(\n",
    "        symbol = 'triangle-down',\n",
    "        sizemode = 'diameter',\n",
    "        sizeref = 30,\n",
    "        size = 50,\n",
    "        #color = np.random.randn(500), #set color equal to a variable\n",
    "        color = cnt_srs.values[::-1],\n",
    "        colorscale='Viridius',\n",
    "        showscale=True\n",
    "    ),\n",
    ")\n",
    "\n",
    "layout = go.Layout(\n",
    "    title='Computing Hardware used in work'\n",
    ")\n",
    "\n",
    "data = [trace]\n",
    "fig = go.Figure(data=data, layout=layout)\n",
    "py.iplot(fig, filename=\"WorkhardwareSelect\")"
   ]
  },
  {
   "cell_type": "markdown",
   "metadata": {
    "_cell_guid": "f37a06ef-2d42-4901-8327-d6dc39858fa7",
    "_uuid": "a260789edc0141d28f016c68fd52901883c6a29b"
   },
   "source": [
    "Basic laptop - Macbook is the most commonly used hardware.\n",
    "\n",
    "**Data type used in work:**\n",
    "\n",
    "Now let us check the different types of data people use in work."
   ]
  },
  {
   "cell_type": "code",
   "execution_count": null,
   "metadata": {
    "_cell_guid": "25fbba15-2b72-481c-bc4a-a7c9f8995737",
    "_kg_hide-input": true,
    "_uuid": "71bee53a25c28ff4489abed47950df8158a54c13",
    "collapsed": true
   },
   "outputs": [],
   "source": [
    "olist = []\n",
    "for ll in mcr_df.WorkDataTypeSelect.values:\n",
    "    if str(ll) != \"nan\":\n",
    "        olist.extend( ll.split(\",\") )\n",
    "cnt_srs = pd.Series(olist).value_counts()\n",
    "\n",
    "trace = go.Scatter(\n",
    "    x=cnt_srs.index,\n",
    "    y=cnt_srs.values,\n",
    "    mode='markers',\n",
    "    marker=dict(\n",
    "        symbol = 'octagon',\n",
    "        sizemode = 'diameter',\n",
    "        sizeref = 30,\n",
    "        size = 50,\n",
    "        #color = np.random.randn(500), #set color equal to a variable\n",
    "        color = cnt_srs.values,\n",
    "        colorscale='Portland',\n",
    "        showscale=True\n",
    "    ),\n",
    ")\n",
    "\n",
    "layout = go.Layout(\n",
    "    title='Data type used in work'\n",
    ")\n",
    "\n",
    "data = [trace]\n",
    "fig = go.Figure(data=data, layout=layout)\n",
    "py.iplot(fig, filename=\"WorkDataTypeSelect\")"
   ]
  },
  {
   "cell_type": "markdown",
   "metadata": {
    "_cell_guid": "c38f83b7-2f68-46a6-a9b8-3e21bced2bb1",
    "_uuid": "16526ff440d25cb86bc5e4005c13b5a31d9fd604"
   },
   "source": [
    "Relational data is the most commonly used data type followed by Text data."
   ]
  },
  {
   "cell_type": "code",
   "execution_count": null,
   "metadata": {
    "_cell_guid": "51a0d3b8-c6da-42bc-9350-2ffdff05f519",
    "_kg_hide-input": true,
    "_uuid": "af63e3c780d08d208ac53e1055cf96c22e7e830a",
    "collapsed": true
   },
   "outputs": [],
   "source": [
    "temp_series = mcr_df['WorkProductionFrequency'].value_counts().head(20)\n",
    "\n",
    "labels = (np.array(temp_series.index))\n",
    "sizes = (np.array((temp_series / temp_series.sum())*100))\n",
    "\n",
    "trace = go.Pie(labels=labels, values=sizes)\n",
    "layout = go.Layout(\n",
    "    title='How often the models built get into production in work?'\n",
    ")\n",
    "data = [trace]\n",
    "fig = go.Figure(data=data, layout=layout)\n",
    "py.iplot(fig, filename=\"WorkProductionFrequency\")"
   ]
  },
  {
   "cell_type": "markdown",
   "metadata": {
    "_cell_guid": "2c87fe4c-749e-4de6-b950-8e0e26e68e66",
    "_uuid": "4de8712190b9aeb17fa64e6ab742ae214f0a9bb9"
   },
   "source": [
    "So 35% of the people responded that sometimes the ML models go to production. Only 7% of the respondents say that it always go to production.\n",
    "\n",
    "**Algorithms used in work:**"
   ]
  },
  {
   "cell_type": "code",
   "execution_count": null,
   "metadata": {
    "_cell_guid": "337e7ddd-15a6-4eab-84dc-a86403563ffa",
    "_kg_hide-input": true,
    "_uuid": "e63576d749ec60752cb5e3064dd6096f390d6c50",
    "collapsed": true
   },
   "outputs": [],
   "source": [
    "olist = []\n",
    "for ll in mcr_df[\"WorkAlgorithmsSelect\"].values:\n",
    "    if str(ll) != \"nan\":\n",
    "        olist.extend( ll.split(\",\") )\n",
    "cnt_srs = pd.Series(olist).value_counts()\n",
    "\n",
    "trace = go.Bar(\n",
    "    x=cnt_srs.index,\n",
    "    y=cnt_srs.values,\n",
    "    marker=dict(\n",
    "        color=cnt_srs.values,\n",
    "        colorscale = 'Rainbow',\n",
    "        reversescale = True\n",
    "    ),\n",
    ")\n",
    "\n",
    "layout = go.Layout(\n",
    "    title='Algorithms used in work'\n",
    ")\n",
    "\n",
    "data = [trace]\n",
    "fig = go.Figure(data=data, layout=layout)\n",
    "py.iplot(fig, filename=\"WorkAlgorithmsSelect\")"
   ]
  },
  {
   "cell_type": "markdown",
   "metadata": {
    "_cell_guid": "6d7d0126-c3fe-4762-b94a-3a9070346179",
    "_uuid": "79284f56dac2bf906c5838696131bfe3746a4cd4"
   },
   "source": [
    "Logistic Regression is the most commonly used algorithm is work followed by Decision trees still. But it is worthy to note that neural networks occupy the 4th position and is fast catching up.\n",
    "\n",
    "**Tools used in work:**"
   ]
  },
  {
   "cell_type": "code",
   "execution_count": null,
   "metadata": {
    "_cell_guid": "098338a8-abf3-4271-af2c-d60804cfa869",
    "_kg_hide-input": true,
    "_uuid": "e3fa4b729e7c6218599f3c4a3e96a430bee9a21e",
    "collapsed": true
   },
   "outputs": [],
   "source": [
    "olist = []\n",
    "for ll in mcr_df[\"WorkToolsSelect\"].values:\n",
    "    if str(ll) != \"nan\":\n",
    "        olist.extend( ll.split(\",\") )\n",
    "cnt_srs = pd.Series(olist).value_counts().head(25)\n",
    "\n",
    "trace = go.Scatter(\n",
    "    x=cnt_srs.index,\n",
    "    y=cnt_srs.values,\n",
    "    mode='markers',\n",
    "    marker=dict(\n",
    "        sizemode = 'diameter',\n",
    "        sizeref = 50,\n",
    "        size = cnt_srs.values,\n",
    "        #color = np.random.randn(500), #set color equal to a variable\n",
    "        color = cnt_srs.values,\n",
    "        colorscale='Picnic',\n",
    "        showscale=True\n",
    "    ),\n",
    ")\n",
    "\n",
    "layout = go.Layout(\n",
    "    title='Tools used in work'\n",
    ")\n",
    "\n",
    "data = [trace]\n",
    "fig = go.Figure(data=data, layout=layout)\n",
    "py.iplot(fig, filename=\"WorkToolsSelect\")"
   ]
  },
  {
   "cell_type": "markdown",
   "metadata": {
    "_cell_guid": "0331b19b-5fd9-4b1c-80b3-8dc86dcdf401",
    "_uuid": "df31300fd16b412838258d8097b331adbac3e06a"
   },
   "source": [
    "Python seems to be the most commonly used tool at work followed by R and SQL.\n",
    "\n",
    "**Methods used in work:**"
   ]
  },
  {
   "cell_type": "code",
   "execution_count": null,
   "metadata": {
    "_cell_guid": "48fd5492-b860-43e8-ab8b-4ad0fe015033",
    "_kg_hide-input": true,
    "_uuid": "17e0ac04f28f1e4a294b18e4cbc843048d350509",
    "collapsed": true
   },
   "outputs": [],
   "source": [
    "olist = []\n",
    "for ll in mcr_df[\"WorkMethodsSelect\"].values:\n",
    "    if str(ll) != \"nan\":\n",
    "        olist.extend( ll.split(\",\") )\n",
    "cnt_srs = pd.Series(olist).value_counts().head(25)\n",
    "\n",
    "trace = go.Scatter(\n",
    "    x=cnt_srs.index,\n",
    "    y=cnt_srs.values,\n",
    "    mode='markers',\n",
    "    marker=dict(\n",
    "        symbol='diamond',\n",
    "        sizemode = 'diameter',\n",
    "        sizeref = 50,\n",
    "        size = cnt_srs.values,\n",
    "        #color = np.random.randn(500), #set color equal to a variable\n",
    "        color = cnt_srs.values,\n",
    "        colorscale='Hot',\n",
    "        showscale=True\n",
    "    ),\n",
    ")\n",
    "\n",
    "layout = go.Layout(\n",
    "    title='Methods used in work'\n",
    ")\n",
    "\n",
    "data = [trace]\n",
    "fig = go.Figure(data=data, layout=layout)\n",
    "py.iplot(fig, filename=\"WorkMethodsSelect\")"
   ]
  },
  {
   "cell_type": "markdown",
   "metadata": {
    "_cell_guid": "f9b3abb1-540c-402d-a7f4-1d530b7137e5",
    "_uuid": "169fc8780e4f9481fb0b83cf9f7f865c127670ca"
   },
   "source": [
    "Data visualisation is the most common method used in work followed by logistic regressiona dn cross validation.\n",
    "\n",
    "**Challenges faced in work:**"
   ]
  },
  {
   "cell_type": "code",
   "execution_count": null,
   "metadata": {
    "_cell_guid": "81bea8ed-d497-4780-a04b-19ab09b3fdc3",
    "_kg_hide-input": true,
    "_uuid": "1e1be1e8a20d1bfa47fb7463055f599592c80022",
    "collapsed": true
   },
   "outputs": [],
   "source": [
    "olist = []\n",
    "for ll in mcr_df[\"WorkChallengesSelect\"].values:\n",
    "    if str(ll) != \"nan\":\n",
    "        olist.extend( ll.split(\",\") )\n",
    "cnt_srs = pd.Series(olist).value_counts().head(25)\n",
    "\n",
    "trace = go.Scatter(\n",
    "    x=cnt_srs.index,\n",
    "    y=cnt_srs.values,\n",
    "    mode='markers',\n",
    "    marker=dict(\n",
    "        symbol='hexagon',\n",
    "        sizemode = 'diameter',\n",
    "        sizeref = 1,\n",
    "        size = 50,\n",
    "        #color = np.random.randn(500), #set color equal to a variable\n",
    "        color = cnt_srs.values,\n",
    "        colorscale='Rainbow',\n",
    "        showscale=True\n",
    "    ),\n",
    ")\n",
    "\n",
    "layout = go.Layout(\n",
    "    title='Challenges faced in work'\n",
    ")\n",
    "\n",
    "data = [trace]\n",
    "fig = go.Figure(data=data, layout=layout)\n",
    "py.iplot(fig, filename=\"WorkChallengesSelect\")"
   ]
  },
  {
   "cell_type": "markdown",
   "metadata": {
    "_cell_guid": "5cf9d310-2a26-4642-9ef2-2f4a95ca3e9e",
    "_uuid": "b7997ea93075e3970d08c0deb12dcbe84e40dedf"
   },
   "source": [
    "The top challenges are dirty data followed by lack of data. Company politics comes in third.\n",
    "\n",
    "**Data Visualizations in work:**"
   ]
  },
  {
   "cell_type": "code",
   "execution_count": null,
   "metadata": {
    "_cell_guid": "77ca8ad7-f9aa-495d-b5d4-d0254e250190",
    "_kg_hide-input": true,
    "_uuid": "90bf646001d3cdb8873ddcc168ebf88957ad5f45",
    "collapsed": true
   },
   "outputs": [],
   "source": [
    "cnt_srs = mcr_df['WorkDataVisualizations'].value_counts().head(25)\n",
    "\n",
    "index = [\"None\", \"Less than 10% of projects\", \"10-25% of projects\", \"26-50% of projects\", \"51-75% of projects\", \"76-99% of projects\", \"100% of projects\"]\n",
    "values = cnt_srs[index]\n",
    "\n",
    "trace = go.Bar(\n",
    "    x=index,\n",
    "    y=values,\n",
    "    marker=dict(\n",
    "        color=values,\n",
    "        colorscale = 'Picnic',\n",
    "        reversescale = True\n",
    "    ),\n",
    ")\n",
    "\n",
    "layout = go.Layout(\n",
    "    title='Data visualizations used in work'\n",
    ")\n",
    "\n",
    "data = [trace]\n",
    "fig = go.Figure(data=data, layout=layout)\n",
    "py.iplot(fig, filename=\"WorkDataVisualizations\")"
   ]
  },
  {
   "cell_type": "markdown",
   "metadata": {
    "_cell_guid": "32afa0ca-01f7-402d-8d8b-9383739e4f56",
    "_uuid": "69a07356452946715cc930b9a3f7dd7fc95b984c"
   },
   "source": [
    "\"None\" category is the lowest of all. So most of the companies are using visualization in atleast some of the projects. \n",
    "\n",
    "**Usage of Internal and External tools at work:**"
   ]
  },
  {
   "cell_type": "code",
   "execution_count": null,
   "metadata": {
    "_cell_guid": "9012b1ea-f1ad-414f-9562-fd8eb49ced5e",
    "_kg_hide-input": true,
    "_uuid": "85587a135adb3267a0c39774532caecd6ac83bc3",
    "collapsed": true
   },
   "outputs": [],
   "source": [
    "cnt_srs = mcr_df['WorkInternalVsExternalTools'].value_counts()\n",
    "\n",
    "index = [\"Entirely internal\", \"More internal than external\", \"Approximately half internal\", \"More external than internal\", \"Entirely external\", \"Do not know\"]\n",
    "values = cnt_srs[index]\n",
    "\n",
    "trace = go.Scatter(\n",
    "    x=cnt_srs.index,\n",
    "    y=cnt_srs.values,\n",
    "    mode='markers',\n",
    "    marker=dict(\n",
    "        symbol='hexagon',\n",
    "        sizemode = 'diameter',\n",
    "        sizeref = 10,\n",
    "        size = cnt_srs.values,\n",
    "        #color = np.random.randn(500), #set color equal to a variable\n",
    "        color = cnt_srs.values,\n",
    "        colorscale='Rainbow',\n",
    "        showscale=True\n",
    "    ),\n",
    ")\n",
    "\n",
    "layout = go.Layout(\n",
    "    title='Interval & External Tools in work'\n",
    ")\n",
    "\n",
    "data = [trace]\n",
    "fig = go.Figure(data=data, layout=layout)\n",
    "py.iplot(fig, filename=\"WorkInternalVsExternalTools\")"
   ]
  },
  {
   "cell_type": "markdown",
   "metadata": {
    "_cell_guid": "49c879af-f80f-444e-8c63-36db8046c954",
    "_uuid": "5b8b73cf1f3151d908825c1680c58742e5f31bc9"
   },
   "source": [
    "Mostly internal tools are prefereed over external tools.\n",
    "\n",
    "**Where does DS team sit in work:**\n"
   ]
  },
  {
   "cell_type": "code",
   "execution_count": null,
   "metadata": {
    "_cell_guid": "6111e5fd-89f0-447b-befc-f6b29a9e4efa",
    "_kg_hide-input": true,
    "_uuid": "a266ee21156d68ee5dc0fa660791dcd75f692e7e",
    "collapsed": true
   },
   "outputs": [],
   "source": [
    "temp_series = mcr_df['WorkMLTeamSeatSelect'].value_counts().head(20)\n",
    "\n",
    "labels = (np.array(temp_series.index))\n",
    "sizes = (np.array((temp_series / temp_series.sum())*100))\n",
    "\n",
    "trace = go.Pie(labels=labels, values=sizes)\n",
    "layout = go.Layout(\n",
    "    title='At work, where does the DS team sit?'\n",
    ")\n",
    "data = [trace]\n",
    "fig = go.Figure(data=data, layout=layout)\n",
    "py.iplot(fig, filename=\"WorkMLTeamSeatSelect\")"
   ]
  },
  {
   "cell_type": "markdown",
   "metadata": {
    "_cell_guid": "c0991959-d796-4af8-bf75-f0f55621b493",
    "_uuid": "0fd1b8b86dea2d61cf3af2278c354e4980bcea36"
   },
   "source": [
    "Standalone is the top answer followed by IT team.\n",
    "\n",
    "**Data Storage Models at work:**\n",
    "\n",
    "Now let us look at the data storage models people use at work."
   ]
  },
  {
   "cell_type": "code",
   "execution_count": null,
   "metadata": {
    "_cell_guid": "0a8d7a7c-2739-480c-acb7-9d3c13fafc64",
    "_kg_hide-input": true,
    "_uuid": "1603aa72ec1a5dce29a3613c28455d7aa67655a6",
    "collapsed": true
   },
   "outputs": [],
   "source": [
    "olist = []\n",
    "for ll in mcr_df[\"WorkDataStorage\"].values:\n",
    "    ll = str(ll).replace(\", PNG\",\" PNG\").replace(\", XML\",\" XML\").replace(\", JSON\",\" JSON\").replace(\", MPG\", \" MPG\")\n",
    "    if str(ll) != \"nan\":\n",
    "        olist.extend( ll.split(\",\") )\n",
    "cnt_srs = pd.Series(olist).value_counts().head(25)\n",
    "\n",
    "trace = go.Scatter(\n",
    "    x=cnt_srs.index,\n",
    "    y=cnt_srs.values,\n",
    "    mode='markers',\n",
    "    marker=dict(\n",
    "        symbol='hexagram',\n",
    "        sizemode = 'diameter',\n",
    "        sizeref = 30,\n",
    "        size = cnt_srs.values,\n",
    "        #color = np.random.randn(500), #set color equal to a variable\n",
    "        color = cnt_srs.values,\n",
    "        colorscale='Viridius',\n",
    "        showscale=True\n",
    "    ),\n",
    ")\n",
    "\n",
    "layout = go.Layout(\n",
    "    title='Data storage models used at work'\n",
    ")\n",
    "\n",
    "data = [trace]\n",
    "fig = go.Figure(data=data, layout=layout)\n",
    "py.iplot(fig, filename=\"WorkDataStorage\")"
   ]
  },
  {
   "cell_type": "markdown",
   "metadata": {
    "_cell_guid": "fac9ec10-02c6-4645-8f29-ea4650a64214",
    "_uuid": "47b4c9ba5e55ea7f7acb2239d7326c3420f8f0b6"
   },
   "source": [
    "Flat files are the most commonly used data storage methodology. \n",
    "\n",
    "**Data sharing at work:**\n",
    "\n",
    "At work, how do people share source data with each other."
   ]
  },
  {
   "cell_type": "code",
   "execution_count": null,
   "metadata": {
    "_cell_guid": "a7bba064-c49f-4174-8efb-be694f912cd6",
    "_kg_hide-input": true,
    "_uuid": "2fd8cc39a4c29e5f8d23a06614559353a38e56eb",
    "collapsed": true
   },
   "outputs": [],
   "source": [
    "olist = []\n",
    "for ll in mcr_df.WorkDataSharing.values:\n",
    "    if str(ll) != \"nan\":\n",
    "        olist.extend( ll.split(\",\") )\n",
    "cnt_srs = pd.Series(olist).value_counts()\n",
    "\n",
    "trace = go.Scatter(\n",
    "    x=cnt_srs.index,\n",
    "    y=cnt_srs.values,\n",
    "    mode='markers',\n",
    "    marker=dict(\n",
    "        symbol = 'star-diamond',\n",
    "        sizemode = 'diameter',\n",
    "        sizeref = 3,\n",
    "        size = 100,\n",
    "        #color = np.random.randn(500), #set color equal to a variable\n",
    "        color = cnt_srs.values,\n",
    "        colorscale='Portland',\n",
    "        showscale=True\n",
    "    ),\n",
    ")\n",
    "\n",
    "layout = go.Layout(\n",
    "    title='How do you share data at work?'\n",
    ")\n",
    "\n",
    "data = [trace]\n",
    "fig = go.Figure(data=data, layout=layout)\n",
    "py.iplot(fig, filename=\"WorkDataSharing\")"
   ]
  },
  {
   "cell_type": "markdown",
   "metadata": {
    "_cell_guid": "ac417132-a4a8-49f4-9255-875f07fa49d3",
    "_uuid": "8604b473c658f7f64657d72cfcdf91d583111adc"
   },
   "source": [
    "Most used method is shared drive / sharepoint followed by email. Let us now check how people share the codes at work."
   ]
  },
  {
   "cell_type": "code",
   "execution_count": null,
   "metadata": {
    "_cell_guid": "7861ee08-7d36-4383-8c96-6b836d139305",
    "_kg_hide-input": true,
    "_uuid": "60d7d1c1624c3e00073d4b9ce0702a8ab47e3033",
    "collapsed": true
   },
   "outputs": [],
   "source": [
    "olist = []\n",
    "for ll in mcr_df[\"WorkCodeSharing\"].values:\n",
    "    if str(ll) != \"nan\":\n",
    "        olist.extend( ll.split(\",\") )\n",
    "cnt_srs = pd.Series(olist).value_counts()\n",
    "\n",
    "trace = go.Bar(\n",
    "    x=cnt_srs.index,\n",
    "    y=cnt_srs.values,\n",
    "    marker=dict(\n",
    "        color=cnt_srs.values,\n",
    "        colorscale = 'Rainbow',\n",
    "        reversescale = True\n",
    "    ),\n",
    ")\n",
    "\n",
    "layout = go.Layout(\n",
    "    title='How do you share code at work?'\n",
    ")\n",
    "\n",
    "data = [trace]\n",
    "fig = go.Figure(data=data, layout=layout)\n",
    "py.iplot(fig, filename=\"WorkCodeSharing\")"
   ]
  },
  {
   "cell_type": "markdown",
   "metadata": {
    "_cell_guid": "7fca92d3-be5c-43b2-bb18-4bea24124c51",
    "_uuid": "b162e8feff2c793f238aa76c8dfdb6c5ccf33f9e"
   },
   "source": [
    "Github is the popular way of sharing the codes with each other at work.\n",
    "\n",
    "**Mathematical Understanding of the Algos used in Work:**"
   ]
  },
  {
   "cell_type": "code",
   "execution_count": null,
   "metadata": {
    "_cell_guid": "d9311c6b-7400-4379-beeb-fef71f6e0999",
    "_kg_hide-input": true,
    "_uuid": "65b72062edf0f4ff69819f54a5efe206e52b2096",
    "collapsed": true
   },
   "outputs": [],
   "source": [
    "cnt_srs = mcr_df[\"AlgorithmUnderstandingLevel\"].value_counts()\n",
    "\n",
    "trace = go.Scatter(\n",
    "    x=cnt_srs.index,\n",
    "    y=cnt_srs.values,\n",
    "    mode='markers',\n",
    "    marker=dict(\n",
    "        symbol = 'triangle-up',\n",
    "        sizemode = 'diameter',\n",
    "        sizeref = 3,\n",
    "        size = 75,\n",
    "        #color = np.random.randn(500), #set color equal to a variable\n",
    "        color = cnt_srs.values,\n",
    "        colorscale='Rainbow',\n",
    "        showscale=True\n",
    "    ),\n",
    ")\n",
    "\n",
    "layout = go.Layout(\n",
    "    title='Understanding of math behind algos used at work?'\n",
    ")\n",
    "\n",
    "data = [trace]\n",
    "fig = go.Figure(data=data, layout=layout)\n",
    "py.iplot(fig, filename=\"AlgorithmUnderstandingLevel\")\n",
    "\n",
    "\n",
    "temp_series = mcr_df['AlgorithmUnderstandingLevel'].value_counts().head(20)"
   ]
  },
  {
   "cell_type": "markdown",
   "metadata": {
    "_cell_guid": "cd58b069-6997-4839-aae7-0f61b5ab257b",
    "_uuid": "957e7e97b1ea9c81d97eb39a5976ff49ad524d36"
   },
   "source": [
    "Most people feel that they are able to explian the algorithm to someone non technical.\n",
    "\n",
    "**Usage of different tools at work:**\n",
    "\n",
    "Now we can have a look at how often different tools are being used by the people at work. Please hoven over the bars to get the actual numbers."
   ]
  },
  {
   "cell_type": "code",
   "execution_count": null,
   "metadata": {
    "_cell_guid": "b4e0d364-ebea-4403-a6eb-d84c068e9630",
    "_kg_hide-input": true,
    "_uuid": "8497e6f279acd7645223d6af36d680822cc8b0c0",
    "collapsed": true
   },
   "outputs": [],
   "source": [
    "names = []\n",
    "rarely_count = []\n",
    "sometimes_count = []\n",
    "often_count = []\n",
    "mostly_count = []\n",
    "cols_to_use = [\"WorkToolsFrequencyAmazonML\",\"WorkToolsFrequencyAWS\",\"WorkToolsFrequencyAngoss\",\n",
    "              \"WorkToolsFrequencyC\", \"WorkToolsFrequencyCloudera\", \"WorkToolsFrequencyDataRobot\",\n",
    "              \"WorkToolsFrequencyFlume\", \"WorkToolsFrequencyGCP\", \"WorkToolsFrequencyHadoop\",\n",
    "              \"WorkToolsFrequencyIBMCognos\", \"WorkToolsFrequencyIBMSPSSModeler\", \"WorkToolsFrequencyIBMSPSSStatistics\",\n",
    "              \"WorkToolsFrequencyIBMWatson\", \"WorkToolsFrequencyImpala\", \"WorkToolsFrequencyJava\",\n",
    "              \"WorkToolsFrequencyJulia\", \"WorkToolsFrequencyJupyter\", \"WorkToolsFrequencyKNIMECommercial\",\n",
    "              \"WorkToolsFrequencyKNIMEFree\", \"WorkToolsFrequencyMathematica\", \"WorkToolsFrequencyMATLAB\",\n",
    "              \"WorkToolsFrequencyAzure\", \"WorkToolsFrequencyExcel\", \"WorkToolsFrequencyMicrosoftRServer\",\n",
    "              \"WorkToolsFrequencyMicrosoftSQL\", \"WorkToolsFrequencyMinitab\", \"WorkToolsFrequencyNoSQL\",\n",
    "               \"WorkToolsFrequencyOracle\", \"WorkToolsFrequencyOrange\", \"WorkToolsFrequencyPerl\",\n",
    "              \"WorkToolsFrequencyPython\", \"WorkToolsFrequencyQlik\", \"WorkToolsFrequencyR\",\n",
    "              \"WorkToolsFrequencyRapidMinerCommercial\", \"WorkToolsFrequencyRapidMinerFree\", \"WorkToolsFrequencySalfrod\",\n",
    "              \"WorkToolsFrequencySAPBusinessObjects\", \"WorkToolsFrequencySASBase\", \"WorkToolsFrequencySASEnterprise\",\n",
    "              \"WorkToolsFrequencySASJMP\", \"WorkToolsFrequencySpark\", \"WorkToolsFrequencySQL\", \"WorkToolsFrequencyStan\",\n",
    "              \"WorkToolsFrequencyStatistica\", \"WorkToolsFrequencyTableau\", \"WorkToolsFrequencyTensorFlow\",\n",
    "              \"WorkToolsFrequencyTIBCO\", \"WorkToolsFrequencyUnix\"]\n",
    "for col in cols_to_use:\n",
    "    cnt_srs = mcr_df[col].value_counts()\n",
    "    names.append(col.replace(\"WorkToolsFrequency\",\"\"))\n",
    "    rarely_count.append(cnt_srs[\"Rarely\"])\n",
    "    sometimes_count.append(cnt_srs[\"Sometimes\"])\n",
    "    often_count.append(cnt_srs[\"Often\"])\n",
    "    mostly_count.append(cnt_srs[\"Most of the time\"])\n",
    "\n",
    "trace1 = go.Bar(\n",
    "    y=names,\n",
    "    x=rarely_count,\n",
    "    orientation = 'h',\n",
    "    name = \"Rarely\"\n",
    ")\n",
    "trace2 = go.Bar(\n",
    "    y=names,\n",
    "    x=sometimes_count,\n",
    "    orientation = 'h',\n",
    "    name = \"Sometimes\"\n",
    ")\n",
    "trace3 = go.Bar(\n",
    "    y=names,\n",
    "    x=often_count,\n",
    "    orientation = 'h',\n",
    "    name = \"Often\"\n",
    ")\n",
    "trace4 = go.Bar(\n",
    "    y=names,\n",
    "    x=mostly_count,\n",
    "    orientation = 'h',\n",
    "    name = \"Most of the time\"\n",
    ")\n",
    "\n",
    "layout = go.Layout(\n",
    "    title='How often do you the use given DS tool',\n",
    "    barmode='stack',\n",
    "    width = 800,\n",
    "    height = 2250\n",
    "    #yaxis=dict(tickangle=-45),\n",
    ")\n",
    "\n",
    "data = [trace1, trace2, trace3, trace4]\n",
    "fig = go.Figure(data=data, layout=layout)\n",
    "py.iplot(fig, filename=\"WorkToolsFrequency\")"
   ]
  },
  {
   "cell_type": "code",
   "execution_count": null,
   "metadata": {
    "_cell_guid": "57f9e1bf-a693-47da-8ea0-f57b335837b3",
    "_kg_hide-input": true,
    "_uuid": "351787b581d7d340899a4ceee221c682730ac804",
    "collapsed": true
   },
   "outputs": [],
   "source": [
    "names = []\n",
    "rarely_count = []\n",
    "sometimes_count = []\n",
    "often_count = []\n",
    "mostly_count = []\n",
    "cols_to_use = [\"WorkMethodsFrequencyA/B\", \"WorkMethodsFrequencyAssociationRules\", \"WorkMethodsFrequencyBayesian\",\n",
    "              \"WorkMethodsFrequencyCNNs\", \"WorkMethodsFrequencyCollaborativeFiltering\", \"WorkMethodsFrequencyCross-Validation\",\n",
    "              \"WorkMethodsFrequencyDataVisualization\", \"WorkMethodsFrequencyDecisionTrees\", \"WorkMethodsFrequencyEnsembleMethods\",\n",
    "              \"WorkMethodsFrequencyEvolutionaryApproaches\", \"WorkMethodsFrequencyGANs\", \"WorkMethodsFrequencyGBM\",\n",
    "              \"WorkMethodsFrequencyHMMs\", \"WorkMethodsFrequencyKNN\", \"WorkMethodsFrequencyLiftAnalysis\",\n",
    "              \"WorkMethodsFrequencyLogisticRegression\", \"WorkMethodsFrequencyMLN\", \"WorkMethodsFrequencyNaiveBayes\",\n",
    "              \"WorkMethodsFrequencyNLP\", \"WorkMethodsFrequencyNeuralNetworks\", \"WorkMethodsFrequencyPCA\",\n",
    "              \"WorkMethodsFrequencyPrescriptiveModeling\", \"WorkMethodsFrequencyRandomForests\", \"WorkMethodsFrequencyRecommenderSystems\",\n",
    "              \"WorkMethodsFrequencyRNNs\", \"WorkMethodsFrequencySegmentation\", \"WorkMethodsFrequencySimulation\",\n",
    "              \"WorkMethodsFrequencySVMs\", \"WorkMethodsFrequencyTextAnalysis\", \"WorkMethodsFrequencyTimeSeriesAnalysis\"]\n",
    "for col in cols_to_use:\n",
    "    cnt_srs = mcr_df[col].value_counts()\n",
    "    names.append(col.replace(\"WorkMethodsFrequency\",\"\"))\n",
    "    rarely_count.append(cnt_srs[\"Rarely\"])\n",
    "    sometimes_count.append(cnt_srs[\"Sometimes\"])\n",
    "    often_count.append(cnt_srs[\"Often\"])\n",
    "    mostly_count.append(cnt_srs[\"Most of the time\"])\n",
    "\n",
    "trace1 = go.Bar(\n",
    "    y=names,\n",
    "    x=rarely_count,\n",
    "    orientation = 'h',\n",
    "    name = \"Rarely\",\n",
    "    marker = dict(color='rgba(55, 128, 191, 0.7)')\n",
    ")\n",
    "trace2 = go.Bar(\n",
    "    y=names,\n",
    "    x=sometimes_count,\n",
    "    orientation = 'h',\n",
    "    name = \"Sometimes\",\n",
    "    marker = dict(color = 'rgba(246, 78, 139, 0.6)')\n",
    ")\n",
    "trace3 = go.Bar(\n",
    "    y=names,\n",
    "    x=often_count,\n",
    "    orientation = 'h',\n",
    "    name = \"Often\",\n",
    "    marker = dict(color = 'rgba(222,45,38,0.8)')\n",
    ")\n",
    "trace4 = go.Bar(\n",
    "    y=names,\n",
    "    x=mostly_count,\n",
    "    orientation = 'h',\n",
    "    name = \"Most of the time\",\n",
    "    marker = dict(color='rgba(50, 171, 96, 0.6)')\n",
    ")\n",
    "\n",
    "layout = go.Layout(\n",
    "    title='How often do you the use given DS method?',\n",
    "    barmode='stack',\n",
    "    width = 800,\n",
    "    height = 2000\n",
    "    #yaxis=dict(tickangle=-45),\n",
    ")\n",
    "\n",
    "data = [trace1, trace2, trace3, trace4]\n",
    "fig = go.Figure(data=data, layout=layout)\n",
    "py.iplot(fig, filename=\"WorkMethodsFrequency\")"
   ]
  },
  {
   "cell_type": "markdown",
   "metadata": {
    "_cell_guid": "6e61cc8a-bc37-484c-8c39-bc6dc1002004",
    "_uuid": "2a7e7c734c2e51723d9e73830b6ad156945b9cbe"
   },
   "source": [
    "**Job Satisfaction:**\n",
    "\n",
    "Here comes one more important questions. How satisfied are you with your job? The results are on a scale from 0 (Highly dissatisfied) to 10 (Highly Satisfied). I have removed the people who preferred not to share from the below plot."
   ]
  },
  {
   "cell_type": "code",
   "execution_count": null,
   "metadata": {
    "_cell_guid": "8ba4f5b3-a0d7-4b56-999b-1ee76f35f7fc",
    "_kg_hide-input": true,
    "_uuid": "576b2fdaa5f3cdd5ac7609ee39a76eeb71d3deba",
    "collapsed": true
   },
   "outputs": [],
   "source": [
    "job_satisfaction_map = {\"1 - Highly Dissatisfied\":1, \"2\":2, \"3\":3, \"4\":4, \"5\":5, \"6\":6, \"7\":7, \"8\":8, \"9\":9, \"10 - Highly Satisfied\":10, \"I prefer not to share\":\"I prefer not to share\"}\n",
    "mcr_df[\"JobSatisfactionNew\"] = mcr_df[\"JobSatisfaction\"].map(job_satisfaction_map)\n",
    "cnt_srs = mcr_df[\"JobSatisfactionNew\"].value_counts()\n",
    "\n",
    "trace = go.Bar(\n",
    "    x=cnt_srs.index,\n",
    "    y=cnt_srs.values,\n",
    "    marker=dict(\n",
    "        color=cnt_srs.values,\n",
    "        colorscale = 'Rainbow',\n",
    "        reversescale = True\n",
    "    ),\n",
    ")\n",
    "\n",
    "layout = go.Layout(\n",
    "    title='How satisfied are you with current job - 1(High dissatisfaction) to 10(High Satisfaction)?'\n",
    ")\n",
    "\n",
    "data = [trace]\n",
    "fig = go.Figure(data=data, layout=layout)\n",
    "py.iplot(fig, filename=\"JobSatisfaction\")"
   ]
  },
  {
   "cell_type": "markdown",
   "metadata": {
    "_cell_guid": "cc6b6b0f-d198-4e1b-aab4-3fb2ba7ecefc",
    "_uuid": "a2d38f5549bb053f3371597dd992806d18b35d2a"
   },
   "source": [
    "The peak occurs at 7 and 8 and most people are fairly satisfied with the job. Now let us check how the job satisfation level varies based on the country. Please bear in mind that different countries have different number of respondents as seen from the previous map plot."
   ]
  },
  {
   "cell_type": "code",
   "execution_count": null,
   "metadata": {
    "_cell_guid": "cca27191-d0b6-4d41-be33-8bb0490ff04a",
    "_kg_hide-input": true,
    "_uuid": "c7a41f4b97a32d3e4cef77012342f7dc3ff1c98c",
    "collapsed": true
   },
   "outputs": [],
   "source": [
    "job_satisfaction_map = {\"1 - Highly Dissatisfied\":1, \"2\":2, \"3\":3, \"4\":4, \"5\":5, \"6\":6, \"7\":7, \"8\":8, \"9\":9, \"10 - Highly Satisfied\":10, \"I prefer not to share\":-1}\n",
    "mcr_df[\"JobSatisfactionNew\"] = mcr_df[\"JobSatisfaction\"].map(job_satisfaction_map)\n",
    "new_df = pd.merge(mcr_df[[\"Country\",\"JobSatisfactionNew\"]], loc_df, left_on=\"Country\", right_on=\"COUNTRY\")\n",
    "new_df = new_df.loc[new_df[\"JobSatisfactionNew\"]>0]\n",
    "new_df = new_df.groupby([\"Country\", \"CODE\"])[\"JobSatisfactionNew\"].aggregate('mean').reset_index()\n",
    "new_df.columns = [\"Country\", \"Code\", \"Mean\"]\n",
    "#new_df['Percentage'] =  new_df['Count'] / float(new_df[\"Count\"].sum())\n",
    "\n",
    "data = [ dict(\n",
    "        type = 'choropleth',\n",
    "        locations = new_df['Code'],\n",
    "        z = new_df['Mean'],\n",
    "        text = new_df['Country'],\n",
    "        #colorscale = [[0,\"rgb(5, 10, 172)\"],[10,\"rgb(40, 60, 190)\"],[20,\"rgb(70, 100, 245)\"],\\\n",
    "        #    [30,\"rgb(90, 120, 245)\"],[40,\"rgb(200, 200, 200)\"],[4500,\"rgb(220, 220, 220)\"]],\n",
    "        colorscale = [[0,\"rgb(10, 10, 10)\"], [10,\"rgb(20, 20, 20)\"]],\n",
    "        autocolorscale = False,\n",
    "        reversescale = True,\n",
    "        marker = dict(\n",
    "            line = dict (\n",
    "                color = 'rgb(180,180,180)',\n",
    "                width = 0.5\n",
    "            ) ),\n",
    "        colorbar = dict(\n",
    "            autotick = False,\n",
    "            title = 'Mean Job Satisfaction Score'),\n",
    "      ) ]\n",
    "\n",
    "layout = dict(\n",
    "    title = 'Country wise mean job satisfaction score',\n",
    "    geo = dict(\n",
    "        showframe = False,\n",
    "        showcoastlines = True,\n",
    "        projection = dict(\n",
    "            type = 'Mercator'\n",
    "        )\n",
    "    )\n",
    ")\n",
    "\n",
    "fig = dict( data=data, layout=layout )\n",
    "py.iplot( fig, validate=False, filename='d3-world-map' )"
   ]
  },
  {
   "cell_type": "markdown",
   "metadata": {
    "_cell_guid": "e8a2b253-e721-46c1-9e9d-e818470d9f9a",
    "_uuid": "34e67a475cfc8bdf44a071d6ca1293f93e8cbad4"
   },
   "source": [
    "\n",
    "\n",
    "**Top Data Science Blogs / Podcasts / Newsletters:**\n",
    "\n",
    "Let us see the responses for \"What are your top 3 favorite DS blogs / podcass / newsletters?\""
   ]
  },
  {
   "cell_type": "code",
   "execution_count": null,
   "metadata": {
    "_cell_guid": "f0dd6b6d-ae31-4cd1-8a65-f7d0f4961d54",
    "_kg_hide-input": true,
    "_uuid": "a94896b80d3c941a3437a45014c2a3a9034f8b7d",
    "collapsed": true
   },
   "outputs": [],
   "source": [
    "olist = []\n",
    "for ll in mcr_df[\"BlogsPodcastsNewslettersSelect\"].values:\n",
    "    if str(ll) != \"nan\":\n",
    "        olist.extend( ll.split(\",\") )\n",
    "cnt_srs = pd.Series(olist).value_counts().head(25)\n",
    "\n",
    "trace = go.Scatter(\n",
    "    x=cnt_srs.index,\n",
    "    y=cnt_srs.values,\n",
    "    mode='markers',\n",
    "    marker=dict(\n",
    "        sizemode = 'diameter',\n",
    "        sizeref = 25,\n",
    "        size = cnt_srs.values,\n",
    "        #color = np.random.randn(500), #set color equal to a variable\n",
    "        color = cnt_srs.values,\n",
    "        colorscale='Rainbow',\n",
    "        showscale=True\n",
    "    ),\n",
    ")\n",
    "\n",
    "layout = go.Layout(\n",
    "    title='Top Data Science Blogs / Podcasts / Newsletters'\n",
    ")\n",
    "\n",
    "data = [trace]\n",
    "fig = go.Figure(data=data, layout=layout)\n",
    "py.iplot(fig, filename=\"BlogsPodcastsNewslettersSelect\")"
   ]
  },
  {
   "cell_type": "markdown",
   "metadata": {
    "_cell_guid": "232bfa93-f091-4722-93b1-22a67c583bc2",
    "_uuid": "51ad932ff509e06100f7f9293396ce91436bca78"
   },
   "source": [
    "Kdnuggets is the most popular blog followed by R bloggers.\n",
    "\n",
    "**Compensation Analysis:**\n",
    "\n",
    "In this section, let us take a deeper look at the compensation details. \n",
    "\n",
    "Before we delve deep, a quick look into the data revealed that there are 11492 null values out 16716 rows. *So in the following analysis, we are only using the rows where the compensation is provided. So please note that there might be some bias in the following analysis.*\n",
    "\n",
    "Let us first do a scatter plot to see if there are any outliers."
   ]
  },
  {
   "cell_type": "code",
   "execution_count": null,
   "metadata": {
    "_cell_guid": "3de19982-c6da-437c-b2c1-be9e3d89fe34",
    "_kg_hide-input": true,
    "_uuid": "2971d074352886cfb0542232677cf6a15043456a",
    "collapsed": true
   },
   "outputs": [],
   "source": [
    "#mcr_df[\"CompensationAmount\"] = mcr_df[\"CompensationAmount\"].replace(r'\\s+', np.nan, regex=True)\n",
    "comp_mcr = mcr_df[mcr_df.CompensationAmount.notnull()]\n",
    "comp_mcr = comp_mcr[comp_mcr.CompensationCurrency.notnull()]\n",
    "comp_mcr = comp_mcr[comp_mcr.CompensationAmount!=\"-\"].reset_index()\n",
    "comp_mcr[\"CompensationAmount\"] = comp_mcr[\"CompensationAmount\"].str.replace(\",\",\"\").astype(\"float\")\n",
    "\n",
    "trace = go.Scatter(\n",
    "    x = list(range(comp_mcr.shape[0])),\n",
    "    y = comp_mcr[\"CompensationAmount\"].values,\n",
    "    mode = \"markers\"\n",
    ")\n",
    "\n",
    "layout = go.Layout(\n",
    "    title='Compensation Amount'\n",
    ")\n",
    "\n",
    "data = [trace]\n",
    "fig = go.Figure(data=data, layout=layout)\n",
    "py.iplot(fig, filename=\"CompensationScatter\")\n"
   ]
  },
  {
   "cell_type": "markdown",
   "metadata": {
    "_cell_guid": "cf144ce6-45a3-4813-bcd7-52b4a491ebea",
    "_uuid": "d047d0d8248e802ee3f07e81e4642cf743167e67"
   },
   "source": [
    "We could clearly see that there are couple of points which are almost 100B. We can impute them with the median (probably not a good strategy since the currencies are different but since there are only 2 points let us go ahead)  "
   ]
  },
  {
   "cell_type": "code",
   "execution_count": null,
   "metadata": {
    "_cell_guid": "afab6f29-24ff-4f64-a659-6bb718e680d7",
    "_kg_hide-input": true,
    "_kg_hide-output": false,
    "_uuid": "c505ea88f001c102b13bc87bc00feba1acfc1658",
    "collapsed": true
   },
   "outputs": [],
   "source": [
    "median_comp  = np.median(comp_mcr.CompensationAmount.values)\n",
    "comp_mcr[\"CompensationAmount\"].loc[comp_mcr[\"CompensationAmount\"]>10000000000] = 900000\n",
    "\n",
    "trace = go.Scatter(\n",
    "    x = list(range(comp_mcr.shape[0])),\n",
    "    y = comp_mcr[\"CompensationAmount\"].values,\n",
    "    mode = \"markers\"\n",
    ")\n",
    "\n",
    "layout = go.Layout(\n",
    "    title='Compensation Amount'\n",
    ")\n",
    "\n",
    "data = [trace]\n",
    "fig = go.Figure(data=data, layout=layout)\n",
    "py.iplot(fig, filename=\"CompensationScatter\")"
   ]
  },
  {
   "cell_type": "markdown",
   "metadata": {
    "_cell_guid": "857c3163-053a-4dd2-b27f-10c2f90bfda9",
    "_uuid": "4721abbafebe8bd74fd5e15606d8c8e932a64e88"
   },
   "source": [
    "Looks better now. Also please note that there are multiple currencies in the denomination. So we can check how the distribution is for each currency."
   ]
  },
  {
   "cell_type": "code",
   "execution_count": null,
   "metadata": {
    "_cell_guid": "e17f78b3-ffe3-49f2-b7fe-8da6117f970e",
    "_kg_hide-input": true,
    "_uuid": "9aed1e02f2005d32d69a387607750a6507009a6f",
    "collapsed": true
   },
   "outputs": [],
   "source": [
    "trace = []\n",
    "for name, group in comp_mcr.groupby(\"CompensationCurrency\"):\n",
    "    trace.append ( \n",
    "        go.Box(\n",
    "            x=group.CompensationAmount.values,\n",
    "            name=name\n",
    "        )\n",
    "    )\n",
    "layout = go.Layout(\n",
    "    title='Compensation Amount by different currency / country',\n",
    "    width = 800,\n",
    "    height = 2000\n",
    ")\n",
    "#data = [trace0, trace1]\n",
    "fig = go.Figure(data=trace, layout=layout)\n",
    "py.iplot(fig, filename=\"TimeSpent\")"
   ]
  },
  {
   "cell_type": "markdown",
   "metadata": {
    "_cell_guid": "28346d2e-5486-44b9-b445-66d59e2d48c7",
    "_uuid": "45031e22a1332547d52efa995c2d33b0faaf02ae"
   },
   "source": [
    "Most of them are not really visible since some of the currencies like IRR, IDR have very high values.\n",
    "\n",
    "Now let us convert all of them to USD and then check the scatter plot."
   ]
  },
  {
   "cell_type": "code",
   "execution_count": null,
   "metadata": {
    "_cell_guid": "b92ffd11-1f7d-41c3-9e90-89e62427155e",
    "_kg_hide-input": true,
    "_uuid": "c43816a6b5cbd6551790dbaaab2c9f98c25e6340",
    "collapsed": true
   },
   "outputs": [],
   "source": [
    "conv_df = pd.read_csv(\"../input/conversionRates.csv\")\n",
    "comp_mcr = pd.merge(comp_mcr, conv_df, left_on=\"CompensationCurrency\", right_on=\"originCountry\")\n",
    "comp_mcr[\"CompensationNormalized\"] = comp_mcr[\"CompensationAmount\"] * comp_mcr[\"exchangeRate\"]\n",
    "\n",
    "trace = go.Scatter(\n",
    "    x = list(range(comp_mcr.shape[0])),\n",
    "    y = comp_mcr[\"CompensationNormalized\"].values,\n",
    "    mode = \"markers\"\n",
    ")\n",
    "\n",
    "layout = go.Layout(\n",
    "    title='Normalized Compensation Amount'\n",
    ")\n",
    "\n",
    "data = [trace]\n",
    "fig = go.Figure(data=data, layout=layout)\n",
    "py.iplot(fig, filename=\"CompensationScatter\")"
   ]
  },
  {
   "cell_type": "markdown",
   "metadata": {
    "_cell_guid": "69ba2cd2-0fdb-4b5d-9809-a3cc7e0209f3",
    "_uuid": "059be6cb8207bffbcc32ab1115fcb465af9da353"
   },
   "source": [
    "Now the scale of the y-axis has come down from 1.2B to 10M. \n",
    "\n",
    "Now let us again look at the box plot by currency / country but this time let us also impute the compensations greater than 500K USD by median value of 53,812 USD for better visualization."
   ]
  },
  {
   "cell_type": "code",
   "execution_count": null,
   "metadata": {
    "_cell_guid": "0e090807-0b3f-4abb-8dc0-47ab2a2ca368",
    "_kg_hide-input": true,
    "_uuid": "d1b0d5de1ce5b2923c375c45e33d5c22599047f6",
    "collapsed": true
   },
   "outputs": [],
   "source": [
    "comp_mcr[\"CompensationNormalized\"].loc[comp_mcr[\"CompensationNormalized\"]>500000] = 53812\n",
    "\n",
    "trace = []\n",
    "for name, group in comp_mcr.groupby(\"CompensationCurrency\"):\n",
    "    trace.append ( \n",
    "        go.Box(\n",
    "            x=group[\"CompensationNormalized\"].values,\n",
    "            name=name\n",
    "        )\n",
    "    )\n",
    "layout = go.Layout(\n",
    "    title='Normalized Compensation Amount by different currency / country',\n",
    "    width = 800,\n",
    "    height = 2000\n",
    ")\n",
    "#data = [trace0, trace1]\n",
    "fig = go.Figure(data=trace, layout=layout)\n",
    "py.iplot(fig, filename=\"TimeSpent\")"
   ]
  },
  {
   "cell_type": "markdown",
   "metadata": {
    "_cell_guid": "eb584c58-1c05-43be-9493-89c5642c6617",
    "_uuid": "210789432a362ac9b57482d41f3f71d2c3ab1740"
   },
   "source": [
    "This plot might be affected by some currencies whose count is very less. So let us include only those currencies which occurs more than 30 times and plot this again."
   ]
  },
  {
   "cell_type": "code",
   "execution_count": null,
   "metadata": {
    "_cell_guid": "7d0b0ea5-2d35-46b9-b359-2c32018480fc",
    "_kg_hide-input": true,
    "_uuid": "69df836ae2ab715a0e80d3b5a1b6878bdfa4cd0e",
    "collapsed": true
   },
   "outputs": [],
   "source": [
    "trace = []\n",
    "for name, group in comp_mcr.groupby(\"CompensationCurrency\"):\n",
    "    if group.shape[0]<30:\n",
    "        continue\n",
    "    trace.append ( \n",
    "        go.Box(\n",
    "            x=group[\"CompensationNormalized\"].values,\n",
    "            name=name\n",
    "        )\n",
    "    )\n",
    "layout = go.Layout(\n",
    "    title='Normalized Compensation Amount by different currency having more than 30 occurrences',\n",
    "    width = 800,\n",
    "    height = 800\n",
    ")\n",
    "#data = [trace0, trace1]\n",
    "fig = go.Figure(data=trace, layout=layout)\n",
    "py.iplot(fig, filename=\"TimeSpent\")"
   ]
  },
  {
   "cell_type": "markdown",
   "metadata": {
    "_cell_guid": "ab5a857b-1fbc-428c-af66-5865d0cff0ce",
    "_uuid": "a102ae31593af5727185ca5dbab897934f781720"
   },
   "source": [
    "**More to come.Stay tuned.!**"
   ]
  }
 ],
 "metadata": {
  "kernelspec": {
   "display_name": "Python 3",
   "language": "python",
   "name": "python3"
  },
  "language_info": {
   "codemirror_mode": {
    "name": "ipython",
    "version": 3
   },
   "file_extension": ".py",
   "mimetype": "text/x-python",
   "name": "python",
   "nbconvert_exporter": "python",
   "pygments_lexer": "ipython3",
   "version": "3.7.3"
  }
 },
 "nbformat": 4,
 "nbformat_minor": 1
}
