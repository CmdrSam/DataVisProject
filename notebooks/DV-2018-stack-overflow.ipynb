{
 "cells": [
  {
   "cell_type": "code",
   "execution_count": null,
   "metadata": {
    "_cell_guid": "b1076dfc-b9ad-4769-8c92-a6c4dae69d19",
    "_kg_hide-input": true,
    "_uuid": "8f2839f25d086af736a60e9eeb907d3b93b6e0e5"
   },
   "outputs": [],
   "source": [
    "import pandas as pd # package for high-performance, easy-to-use data structures and data analysis\n",
    "import numpy as np # fundamental package for scientific computing with Python\n",
    "from pandas import Series\n",
    "\n",
    "import matplotlib\n",
    "import matplotlib.pyplot as plt # for plotting\n",
    "import seaborn as sns # for making plots with seaborn\n",
    "color = sns.color_palette()\n",
    "# import plotly.plotly as py1\n",
    "import plotly.offline as py\n",
    "py.init_notebook_mode(connected=True)\n",
    "from plotly.offline import init_notebook_mode, iplot\n",
    "init_notebook_mode(connected=True)\n",
    "import plotly.graph_objs as go\n",
    "import plotly.offline as offline\n",
    "offline.init_notebook_mode()\n",
    "from plotly import tools\n",
    "# from mpl_toolkits.basemap import Basemap\n",
    "from numpy import array\n",
    "from matplotlib import cm\n",
    "\n",
    "# import cufflinks and offline mode\n",
    "# import cufflinks as cf\n",
    "# cf.go_offline()\n",
    "\n",
    "from wordcloud import WordCloud, STOPWORDS\n",
    "# from scipy.misc import imread\n",
    "import base64\n",
    "\n",
    "from sklearn import preprocessing\n",
    "# Supress unnecessary warnings so that presentation looks clean\n",
    "import warnings\n",
    "warnings.filterwarnings(\"ignore\")\n",
    "\n",
    "# Print all rows and columns\n",
    "pd.set_option('display.max_columns', None)\n",
    "pd.set_option('display.max_rows', None)"
   ]
  },
  {
   "cell_type": "code",
   "execution_count": null,
   "metadata": {
    "_cell_guid": "79c7e3d0-c299-4dcb-8224-4455121ee9b0",
    "_kg_hide-input": true,
    "_uuid": "d629ff2d2480ee46fbb7e2d37f6b5fab8052498a"
   },
   "outputs": [],
   "source": [
    "stack_data = pd.read_csv('../data/Stack_overflow_survey_results_public.csv')\n",
    "schema = pd.read_csv('../data/Stack_overflow_survey_results_schema.csv')"
   ]
  },
  {
   "cell_type": "code",
   "execution_count": null,
   "metadata": {
    "_kg_hide-input": true,
    "_uuid": "1de88f0518e048f24381b61c0477569ab114da66"
   },
   "outputs": [],
   "source": [
    "print(\"Size of data\", stack_data.shape)"
   ]
  },
  {
   "cell_type": "code",
   "execution_count": null,
   "metadata": {
    "_kg_hide-input": true,
    "_uuid": "c52df2629e2de8fb4e5ebd71a42f5985e2586915",
    "scrolled": true
   },
   "outputs": [],
   "source": [
    "stack_data.head()"
   ]
  },
  {
   "cell_type": "code",
   "execution_count": null,
   "metadata": {
    "_kg_hide-input": true,
    "_uuid": "37105840f0650d8064ca98d6bf911e9320d8af72"
   },
   "outputs": [],
   "source": [
    "pd.options.display.max_colwidth = 300\n",
    "schema"
   ]
  },
  {
   "cell_type": "code",
   "execution_count": null,
   "metadata": {
    "_kg_hide-input": true,
    "_uuid": "3d33f1be661043f8f8412fa60d6496fa556bd7b3"
   },
   "outputs": [],
   "source": [
    "# checking missing data in stack data \n",
    "total = stack_data.isnull().sum().sort_values(ascending = False)\n",
    "percent = (stack_data.isnull().sum()/stack_data.isnull().count()*100).sort_values(ascending = False)\n",
    "missing_stack_data  = pd.concat([total, percent], axis=1, keys=['Total', 'Percent'])\n",
    "missing_stack_data"
   ]
  },
  {
   "cell_type": "code",
   "execution_count": null,
   "metadata": {
    "_kg_hide-input": true,
    "_uuid": "f1070a386979157a8b15553af48d39b4c851ddd3"
   },
   "outputs": [],
   "source": [
    "temp = stack_data['Hobby'].value_counts()\n",
    "df = pd.DataFrame({'labels': temp.index,\n",
    "                   'values': temp.values\n",
    "                  })\n",
    "df.iplot(kind='pie',labels='labels',values='values', title='% of Developers who codes as their hobby', hole = 0.8, color = ['#00FFFF','#CDC0B0'])"
   ]
  },
  {
   "cell_type": "markdown",
   "metadata": {
    "_uuid": "e66c2342cde0b48d6780c752d9fe38fbbb828666"
   },
   "source": [
    "Approx. 90 % developers codes as their hobby and the reasons for others 10 % developers can be for** getting good compnay or for higher package or better college placement**.... anything can be."
   ]
  },
  {
   "cell_type": "code",
   "execution_count": null,
   "metadata": {
    "_kg_hide-input": true,
    "_uuid": "90fb5d0c0402ff4d58a4d7e304929afd74c20493"
   },
   "outputs": [],
   "source": [
    "temp = stack_data['OpenSource'].value_counts()\n",
    "df = pd.DataFrame({'labels': temp.index,\n",
    "                   'values': temp.values\n",
    "                  })\n",
    "df.iplot(kind='pie',labels='labels',values='values', title='% of Developers who contributes to open source projects', hole = 0.5, color = ['#FAEBD7','#7FFFD4'])"
   ]
  },
  {
   "cell_type": "markdown",
   "metadata": {
    "_uuid": "9f2dfadebfa655c700c0f2c191d658d7e13f88f0"
   },
   "source": [
    "Approx. 56 % Developers were contributed to open source projects"
   ]
  },
  {
   "cell_type": "code",
   "execution_count": null,
   "metadata": {
    "_kg_hide-input": true,
    "_uuid": "8cca171c56356654251d3d85fb13130fca8e799b"
   },
   "outputs": [],
   "source": [
    "temp = stack_data[\"Country\"].dropna().value_counts().head(10)\n",
    "temp.iplot(kind='bar', xTitle = 'Country name', yTitle = \"Count\", title = 'Which Country having highest number of respondents', color='#8A360F')"
   ]
  },
  {
   "cell_type": "markdown",
   "metadata": {
    "_uuid": "aa0ef028489371c1ff722ac86355379918a98435"
   },
   "source": [
    "Out of 98,855 developers, which Country having highest number of respondents :\n",
    "  * United States : 20,309 Developers\n",
    "  * India : 13,721 Developers\n",
    "  * Germany : 6,459 Developers\n",
    "  * United Kingdom : 6,221 Developers\n",
    "  * Canada : 3,393 Developers"
   ]
  },
  {
   "cell_type": "code",
   "execution_count": null,
   "metadata": {
    "_kg_hide-input": true,
    "_uuid": "96933ccd69e2a25bda651b313c8232c95417b300"
   },
   "outputs": [],
   "source": [
    "temp = stack_data['Student'].value_counts()\n",
    "df = pd.DataFrame({'labels': temp.index,\n",
    "                   'values': temp.values\n",
    "                  })\n",
    "df.iplot(kind='pie',labels='labels',values='values', title='% of Developers who are students', hole = 0.6, color = ['#7FFF00','#FF6103','#8A360F'])"
   ]
  },
  {
   "cell_type": "markdown",
   "metadata": {
    "_uuid": "dcfee3163c93d7c125618b3e02cc65f248b30100"
   },
   "source": [
    "Approx. 74 % Developers are not students. They are working professional. Approx. 19 % Developers are full-time students and Approx. 7 % Developers are part-time students."
   ]
  },
  {
   "cell_type": "code",
   "execution_count": null,
   "metadata": {
    "_kg_hide-input": true,
    "_uuid": "5b00916bce0b8ec6d31d10976e31e6d38f599025"
   },
   "outputs": [],
   "source": [
    "temp = stack_data['Employment'].value_counts()\n",
    "df = pd.DataFrame({'labels': temp.index,\n",
    "                   'values': temp.values\n",
    "                  })\n",
    "df.iplot(kind='pie',labels='labels',values='values', title='Employment Status of Developers', hole = 0.8, color = ['#8B7355','#FF6103','#8EE5EE','#458B00','#FFF8DC','#68228B'])"
   ]
  },
  {
   "cell_type": "markdown",
   "metadata": {
    "_uuid": "68e57933a953089c2025b5443eef25f5b3d5b439"
   },
   "source": [
    "**Employment Status of Developers :**\n",
    "  * Employeed full-time : 74 % \n",
    "  * Independent Contractor, Freelancer or Self-employed : 9.74 %\n",
    "  * Not employed but looking for work : 6.09 %\n",
    "  * Employed part-time : 5.64 %\n",
    "  * Not employeed and not looking for work : 4.33 %\n",
    "  * Retired : 0.238 %"
   ]
  },
  {
   "cell_type": "code",
   "execution_count": null,
   "metadata": {
    "_kg_hide-input": true,
    "_uuid": "24d6b4a642718aa3b144c8f8c1eaff151c862703"
   },
   "outputs": [],
   "source": [
    "cnt_srs = stack_data[\"FormalEducation\"].value_counts()\n",
    "trace = go.Bar(\n",
    "    y=cnt_srs.index[::-1],\n",
    "    x=(cnt_srs/cnt_srs.sum() * 100)[::-1],\n",
    "    orientation = 'h',\n",
    "    marker=dict(\n",
    "        color=['#8B7355','#BF3EFF','#FF6103','#8EE5EE','#458B00','#FFF8DC','#68228B','#1E90FF','#FFC125'],\n",
    "        colorscale = 'Blues',\n",
    "        reversescale = True\n",
    "    ),\n",
    ")\n",
    "\n",
    "layout = dict(\n",
    "    title='highest level of formal education of Developers in %',\n",
    "    margin=dict(\n",
    "    l=600,\n",
    ")\n",
    "    )\n",
    "data = [trace]\n",
    "fig = go.Figure(data=data, layout=layout)\n",
    "py.iplot(fig)"
   ]
  },
  {
   "cell_type": "markdown",
   "metadata": {
    "_uuid": "75bf99a8cd59b258193ac7142f2f0f4647e245a4"
   },
   "source": [
    "**About highest level of formal education of Developers :**\n",
    "  * Approx. 46 % Developers having Bachelor's degree\n",
    "  * Approx. 23 % Developers having Master's degree\n",
    "  * Approx. 12 % having some college/university study without earning a degree\n",
    "  * Approx. 9 % having Secondary schools(eg. American high school etc.)\n",
    "  * Approx 3 % having Associate degree\n",
    "  * Approx. 2 % having other doctral degree (Phd. , Ed.D etc.)\n",
    "  * Approx. 2 % having Primary/elementry school\n",
    "  * Approx. 2 % having Professional degree (JD, MD etc.)\n",
    "  * Approx. 1 % never completed any formal education."
   ]
  },
  {
   "cell_type": "code",
   "execution_count": null,
   "metadata": {
    "_kg_hide-input": true,
    "_uuid": "f41d6efb7232bd79431c55f636f72aadaa0b24bd"
   },
   "outputs": [],
   "source": [
    "cnt_srs = stack_data[\"UndergradMajor\"].value_counts()\n",
    "trace = go.Bar(\n",
    "    y=cnt_srs.index[::-1],\n",
    "    x=(cnt_srs/cnt_srs.sum() * 100)[::-1],\n",
    "    orientation = 'h',\n",
    "    marker=dict(\n",
    "        color=['#8B7355','#BF3EFF','#FF6103','#8EE5EE','#458B00','#FFF8DC','#68228B','#1E90FF','#FFC125','#8B8B00','#FF3E96'],\n",
    "        colorscale = 'Blues',\n",
    "        reversescale = True\n",
    "    ),\n",
    ")\n",
    "\n",
    "layout = dict(\n",
    "    title='highest level of formal education of Developers in %',\n",
    "    margin=dict(\n",
    "    l=500,\n",
    ")\n",
    "    )\n",
    "data = [trace]\n",
    "fig = go.Figure(data=data, layout=layout)\n",
    "py.iplot(fig)"
   ]
  },
  {
   "cell_type": "markdown",
   "metadata": {
    "_uuid": "6496f17382cb48e05820a628814167af410c7022"
   },
   "source": [
    "* **Main field of study of Developers :** Most of the Developers **(63.7 %)** having **Computer Science, Computer engineering or Software engineering** field of study followed by **8.79 %** Developers having **Another engineering discipline(ex. civil, electrical or mechanical)** followed by **8.23 %** Developers having **Information Systems, Information Tecnology or system administration**. Only Approx 1 % Developers never declared their field of study."
   ]
  },
  {
   "cell_type": "code",
   "execution_count": null,
   "metadata": {
    "_kg_hide-input": true,
    "_uuid": "49fd3807f4727772db91f49a40ed29733b58d525"
   },
   "outputs": [],
   "source": [
    "cnt_srs = stack_data[\"CompanySize\"].value_counts()\n",
    "trace = go.Bar(\n",
    "    y=cnt_srs.index[::-1],\n",
    "    x=(cnt_srs/cnt_srs.sum() * 100)[::-1],\n",
    "    orientation = 'h',\n",
    "    marker=dict(\n",
    "        color=['#8B7355','#BF3EFF','#FF6103','#8EE5EE','#458B00','#FFF8DC','#68228B','#1E90FF','#FFC125'],\n",
    "        colorscale = 'Blues',\n",
    "        reversescale = True\n",
    "    ),\n",
    ")\n",
    "\n",
    "layout = dict(\n",
    "    title='Number of people are employed by the company or organization they work for in %',\n",
    "    margin=dict(\n",
    "    l=200,\n",
    ")\n",
    "    )\n",
    "data = [trace]\n",
    "fig = go.Figure(data=data, layout=layout)\n",
    "py.iplot(fig)"
   ]
  },
  {
   "cell_type": "markdown",
   "metadata": {
    "_uuid": "bda90f1f56513d4209ad870e493e755d6a62cd9a"
   },
   "source": [
    "**Number of people are employed by the company or organization they work for :**\n",
    "  * ** Approx. 10 %** people work in company or organization having **Fewer than 10 employees**.\n",
    "  * ** Approx. 11 %** people work in company or organization having **10 to 19 employees**.\n",
    "  * ** Approx. 24 %** people work in company or organization having **22 to 99 employees**.\n",
    "  * ** Approx. 20 %** people work in company or organization having **100 to 499 employees**.\n",
    "  * ** Approx. 7 %** people work in company or organization having **500 to 999 employees**.\n",
    "  * ** Approx. 11 %** people work in company or organization having **1,000 to 4,999 employees**.\n",
    "  * ** Approx. 4 %** people work in company or organization having **5,000 to 9,999 employees**.\n",
    "  * ** Approx. 14 %** people work in company or organization having **10,000 or employees**."
   ]
  },
  {
   "cell_type": "code",
   "execution_count": null,
   "metadata": {
    "_kg_hide-input": true,
    "_uuid": "501fbed6d150e5ad3adeed320228c5b64559c810"
   },
   "outputs": [],
   "source": [
    "temp1 = pd.DataFrame(stack_data['DevType'].dropna().str.split(';').tolist()).stack()\n",
    "cnt_srs = temp1.value_counts().sort_values(ascending=False)\n",
    "trace = go.Bar(\n",
    "    y=cnt_srs.index[::-1],\n",
    "    x=(cnt_srs/cnt_srs.sum() * 100)[::-1],\n",
    "    orientation = 'h',\n",
    ")\n",
    "\n",
    "layout = dict(\n",
    "    title='Description of people who participated in survey (%)',\n",
    "    margin=dict(\n",
    "    l=400,\n",
    ")\n",
    "    )\n",
    "data = [trace]\n",
    "fig = go.Figure(data=data, layout=layout)\n",
    "py.iplot(fig)"
   ]
  },
  {
   "cell_type": "markdown",
   "metadata": {
    "_uuid": "bf5916e0ca79ec2134411532e9b03d35278d4ed4",
    "collapsed": true
   },
   "source": [
    "**Description of peoples who participated in the survey :**\n",
    "  * Approx. **19 %** peoples called themselves **Back-end developers**.\n",
    "  * Approx. **16 %** peoples called themselves **Full-stack developers**.\n",
    "  * Approx. **13 %** peoples called themselves **Front-end developers**.\n",
    "  * Approx. **7 %** peoples called themselves **Mobile developer**.\n",
    "  * Approx. **6 %** peoples called themselves **Desktop or enterprise application developer**.\n",
    "  * Approx. **6 %** peoples called themselves **Student**.\n",
    "  * etc."
   ]
  },
  {
   "cell_type": "code",
   "execution_count": null,
   "metadata": {
    "_kg_hide-input": true,
    "_uuid": "726d125042205e8fbefbd6a4b8c0092e852cbf81"
   },
   "outputs": [],
   "source": [
    "temp = stack_data[\"JobSatisfaction\"].value_counts()\n",
    "df = pd.DataFrame({'labels': temp.index,\n",
    "                   'values': temp.values\n",
    "                  })\n",
    "df.iplot(kind='pie',labels='labels',values='values', title='Satisfaction of peoples with their current job', hole = 0.8, color = ['#8B7355','#FFFF00','#FF6103','#8EE5EE','#458B00','#FFF8DC','#68228B'])"
   ]
  },
  {
   "cell_type": "markdown",
   "metadata": {
    "_uuid": "2e25eb760c49cd00e62b89c24d99abdd4e01a31b",
    "collapsed": true
   },
   "source": [
    "**Satisfaction of peoples with their current job :**\n",
    "  * **37.5 %** peoples are **Moderately Satisfied**.\n",
    "  * **18 %** peoples are **Extremely Satisfied**.\n",
    "  * **14.5 %** peoples are **Slightly Satisfied**.\n",
    "  * **10.2 %** peoples are **Slightly dissatisfied**.\n",
    "  * **9.12 %** peoples are **Moderately dissatified**.\n",
    "  * **7.17 %** peoples are **Neither satisfied nor dissatisfied**.\n",
    "  * **3.58 %** peoples are **Extremely dissatisfied**."
   ]
  },
  {
   "cell_type": "code",
   "execution_count": null,
   "metadata": {
    "_kg_hide-input": true,
    "_uuid": "0c81efa26f936ca101d68d7436d4ac62bc43830a"
   },
   "outputs": [],
   "source": [
    "temp = stack_data[\"CareerSatisfaction\"].value_counts()\n",
    "df = pd.DataFrame({'labels': temp.index,\n",
    "                   'values': temp.values\n",
    "                  })\n",
    "df.iplot(kind='pie',labels='labels',values='values', title='Satisfaction of peoples with their career thus far', hole = 0.8, color = ['#FFF8DC','#68228B','#1E90FF','#8B7355','#FFC125'])"
   ]
  },
  {
   "cell_type": "markdown",
   "metadata": {
    "_uuid": "3948a1103ebbe592d7f5f60a33bdeb2bd912a96b",
    "collapsed": true
   },
   "source": [
    "**Satisfaction of peoples with their career thus far :**\n",
    "  * **36.5 %** peoples are **Moderately Satisfied**.\n",
    "  * **18.7 %** peoples are **Extremely Satisfied**.\n",
    "  * **17.6 %** peoples are **Slightly Satisfied**.\n",
    "  * **8.61 %** peoples are **Slightly dissatisfied**.\n",
    "  * **8.26 %** peoples are **Neither satisfied nor dissatisfied**.\n",
    "  * **6.88 %** peoples are **Moderately dissatified**.\n",
    "  * **3.42 %** peoples are **Extremely dissatisfied**."
   ]
  },
  {
   "cell_type": "code",
   "execution_count": null,
   "metadata": {
    "_kg_hide-input": true,
    "_uuid": "8ccb810cd5ceb40cfe1b4733ba1fb36f374e9683"
   },
   "outputs": [],
   "source": [
    "temp = stack_data[\"SurveyEasy\"].value_counts()\n",
    "#print(\"Total number of states : \",len(temp))\n",
    "trace = go.Bar(\n",
    "    x = temp.index,\n",
    "    y = (temp / temp.sum())*100,\n",
    "    marker=dict(\n",
    "        color=['#FFF8DC','#68228B','#1E90FF','#FFC125'],\n",
    "        colorscale = 'Blues',\n",
    "        reversescale = True\n",
    "    ),\n",
    ")\n",
    "data = [trace]\n",
    "layout = go.Layout(\n",
    "    title = \"# of peoples with Difficulty of the survey in % \",\n",
    "    xaxis=dict(\n",
    "        title='Survey was easy or difficult',\n",
    "        tickfont=dict(\n",
    "            size=14,\n",
    "            color='rgb(107, 107, 107)'\n",
    "        )\n",
    "    ),\n",
    "    yaxis=dict(\n",
    "        title='Count in %',\n",
    "        titlefont=dict(\n",
    "            size=16,\n",
    "            color='rgb(107, 107, 107)'\n",
    "        ),\n",
    "        tickfont=dict(\n",
    "            size=14,\n",
    "            color='rgb(107, 107, 107)'\n",
    "        )\n",
    ")\n",
    ")\n",
    "fig = go.Figure(data=data, layout=layout)\n",
    "py.iplot(fig, filename='schoolStateNames')"
   ]
  },
  {
   "cell_type": "markdown",
   "metadata": {
    "_uuid": "376ab20988309a9ea05a1a46c0f2a149402e1298"
   },
   "source": [
    "**People thought about difficulty of survey :**\n",
    "  * Approx. **37 %** peoples think survey was **Somewhat easy**.\n",
    "  * Approx. **33 %** peoples think survey was **Very easy**.\n",
    "  * Approx. **23 %** peoples think survey was **Neither easy nor difficult**.\n",
    "  * Approx. **6 %** peoples think survey was **Somewhat difficult**.\n",
    "  * Approx. **1 %** peoples think survey was **Very difficult**."
   ]
  },
  {
   "cell_type": "code",
   "execution_count": null,
   "metadata": {
    "_kg_hide-input": true,
    "_uuid": "6bcff654e26659360d89c9d719cd85f0d4c42a2b"
   },
   "outputs": [],
   "source": [
    "cnt_srs = stack_data[\"SurveyTooLong\"].value_counts()\n",
    "trace = go.Bar(\n",
    "    y=cnt_srs.index[::-1],\n",
    "    x=(cnt_srs/cnt_srs.sum() * 100)[::-1],\n",
    "    orientation = 'h',\n",
    "    marker=dict(\n",
    "        color=['#8B7355','#BF3EFF','#FF6103','#FFC125'],\n",
    "        colorscale = 'Blues',\n",
    "        reversescale = True\n",
    "    ),\n",
    ")\n",
    "\n",
    "layout = dict(\n",
    "    title='# of people thinking about length of the survey (%)',\n",
    "    margin=dict(\n",
    "    l=300,\n",
    ")\n",
    "    )\n",
    "data = [trace]\n",
    "fig = go.Figure(data=data, layout=layout)\n",
    "py.iplot(fig)"
   ]
  },
  {
   "cell_type": "markdown",
   "metadata": {
    "_uuid": "ff4a53b2abc144f4608eff81e983500587ad3901"
   },
   "source": [
    "**Peoples thinking about length of the survey :**\n",
    "  * Approx **50 %** peoples thinks **The survey was an appropriate length.**\n",
    "  * Approx. **49 %** peoples thinks **The survey was too long**.\n",
    "  * Approx. **1 %** peoples thinks **The survey was too short**."
   ]
  },
  {
   "cell_type": "code",
   "execution_count": null,
   "metadata": {
    "_kg_hide-input": true,
    "_uuid": "52ebd18914f35cb0553d2db0fcf4979373b7513b"
   },
   "outputs": [],
   "source": [
    "temp = stack_data[\"YearsCoding\"].value_counts()\n",
    "#print(\"Total number of states : \",len(temp))\n",
    "trace = go.Bar(\n",
    "    x = temp.index,\n",
    "    y = (temp / temp.sum())*100,\n",
    "    marker=dict(\n",
    "        color=['#FF3E96','#00E5EE','#FFF8DC','#68228B','#1E90FF','#FFC125','#FF6103','#8EE5EE','#458B00','#FFF8DC'],\n",
    "        colorscale = 'Blues',\n",
    "        reversescale = True\n",
    "    ),\n",
    ")\n",
    "data = [trace]\n",
    "layout = go.Layout(\n",
    "    title = \"for how many years have peoples been coding (%) \",\n",
    "    xaxis=dict(\n",
    "        title='Years',\n",
    "        tickfont=dict(\n",
    "            size=11,\n",
    "            color='rgb(107, 107, 107)'\n",
    "        )\n",
    "    ),\n",
    "    yaxis=dict(\n",
    "        title='Count in %',\n",
    "        titlefont=dict(\n",
    "            size=16,\n",
    "            color='rgb(107, 107, 107)'\n",
    "        ),\n",
    "        tickfont=dict(\n",
    "            size=14,\n",
    "            color='rgb(107, 107, 107)'\n",
    "        )\n",
    ")\n",
    ")\n",
    "fig = go.Figure(data=data, layout=layout)\n",
    "py.iplot(fig, filename='schoolStateNames')"
   ]
  },
  {
   "cell_type": "markdown",
   "metadata": {
    "_uuid": "1fdf4ed453296120f5cf5c7273cfa5ebe96c3801"
   },
   "source": [
    "**for how many years have peoples been coding :**\n",
    "  * 3-5 years : Approx. 25 % peoples\n",
    "  * 6-8 years : Approx. 21 % peoples\n",
    "  * 9-11 years : Approx. 13 % peopels\n",
    "  * 0-2 years : Approx. 11 % peoples\n",
    "  * etc."
   ]
  },
  {
   "cell_type": "code",
   "execution_count": null,
   "metadata": {
    "_kg_hide-input": true,
    "_uuid": "e39d1c33f4524288ba73ac3cae29a418e95339df"
   },
   "outputs": [],
   "source": [
    "temp = stack_data[\"YearsCodingProf\"].value_counts()\n",
    "#print(\"Total number of states : \",len(temp))\n",
    "trace = go.Bar(\n",
    "    x = temp.index,\n",
    "    y = (temp / temp.sum())*100,\n",
    "    marker=dict(\n",
    "        color=['#FF3E96','#00E5EE','#FFF8DC','#68228B','#1E90FF','#FFC125','#FF6103','#8EE5EE','#458B00','#FFF8DC'],\n",
    "        colorscale = 'Blues',\n",
    "        reversescale = True\n",
    "    ),\n",
    ")\n",
    "data = [trace]\n",
    "layout = go.Layout(\n",
    "    title = \"for how many years have peoples been coding (%) \",\n",
    "    xaxis=dict(\n",
    "        title='Years',\n",
    "        tickfont=dict(\n",
    "            size=11,\n",
    "            color='rgb(107, 107, 107)'\n",
    "        )\n",
    "    ),\n",
    "    yaxis=dict(\n",
    "        title='Count in %',\n",
    "        titlefont=dict(\n",
    "            size=16,\n",
    "            color='rgb(107, 107, 107)'\n",
    "        ),\n",
    "        tickfont=dict(\n",
    "            size=14,\n",
    "            color='rgb(107, 107, 107)'\n",
    "        )\n",
    ")\n",
    ")\n",
    "fig = go.Figure(data=data, layout=layout)\n",
    "py.iplot(fig, filename='schoolStateNames')"
   ]
  },
  {
   "cell_type": "markdown",
   "metadata": {
    "_uuid": "04d82fdd7c84fadee724ddf876682e6e0110b687",
    "collapsed": true
   },
   "source": [
    "**For how many years have peoples coded professionally  :**\n",
    "  * 0-2 years : Approx. 30 % peoples\n",
    "  * 3-5 years : Approx. 27 % peoples\n",
    "  * 6-8 years : Approx. 15 % peoples\n",
    "  * 9-11 years : Approx. 10 % peoples\n",
    "  * etc."
   ]
  },
  {
   "cell_type": "code",
   "execution_count": null,
   "metadata": {
    "_kg_hide-input": true,
    "_uuid": "c80901d86ea34b93c9a761c4019bd8b4260dc496"
   },
   "outputs": [],
   "source": [
    "cnt_srs = stack_data[\"HopeFiveYears\"].value_counts()\n",
    "trace = go.Bar(\n",
    "    y=cnt_srs.index[::-1],\n",
    "    x=(cnt_srs/cnt_srs.sum() * 100)[::-1],\n",
    "    orientation = 'h',\n",
    "    marker=dict(\n",
    "        color=['#FF6103','#8EE5EE','#458B00','#FFF8DC' ,'#BF3EFF','#FF6103','#FFC125'],\n",
    "        colorscale = 'Blues',\n",
    "        reversescale = True\n",
    "    ),\n",
    ")\n",
    "\n",
    "layout = dict(\n",
    "    title='Peoples hope to be doing in the next five years (%)',\n",
    "    margin=dict(\n",
    "    l=500,\n",
    ")\n",
    "    )\n",
    "data = [trace]\n",
    "fig = go.Figure(data=data, layout=layout)\n",
    "py.iplot(fig)"
   ]
  },
  {
   "cell_type": "markdown",
   "metadata": {
    "_uuid": "7a157d8b4e4c502ab9107fe756e673d1dc605c96"
   },
   "source": [
    "**Peoples hope to be doing in the next five years :**\n",
    "  * ** Approx. 34 % peoples** : Working in a different or more specialized technical role than the one I'm in now.\n",
    "  * **Approx. 26 % peoples ** : Working as a founder or co-founder of my own company.\n",
    "  * **Approx. 19 % peoples** : Doing the same work.\n",
    "  * **Approx. 10 % peoples** : Working as a product manager or project manager.\n",
    "  * **Approx. 3 % peoples** : Working in a career completely unrelated to software development.\n",
    "  * **Approx. 2 % peoples** : Retirement"
   ]
  },
  {
   "cell_type": "code",
   "execution_count": null,
   "metadata": {
    "_kg_hide-input": true,
    "_uuid": "316ce632f59715f05690f76ee1a1f56bb0815b5c"
   },
   "outputs": [],
   "source": [
    "cnt_srs = stack_data[\"JobSearchStatus\"].value_counts()\n",
    "trace = go.Bar(\n",
    "    y=cnt_srs.index[::-1],\n",
    "    x=(cnt_srs/cnt_srs.sum() * 100)[::-1],\n",
    "    orientation = 'h',\n",
    "    marker=dict(\n",
    "        color=['#BF3EFF','#FF6103','#FFC125'],\n",
    "        colorscale = 'Blues',\n",
    "        reversescale = True\n",
    "    ),\n",
    ")\n",
    "\n",
    "layout = dict(\n",
    "    title='Peoples current job-seeking status (%)',\n",
    "    margin=dict(\n",
    "    l=500,\n",
    ")\n",
    "    )\n",
    "data = [trace]\n",
    "fig = go.Figure(data=data, layout=layout)\n",
    "py.iplot(fig)"
   ]
  },
  {
   "cell_type": "markdown",
   "metadata": {
    "_uuid": "2031b8f13aa53cd370f25072fe5ba55ee5aaa187"
   },
   "source": [
    "**Peoples current job-seeking status :**\n",
    "  * **Approx 60 % peoples** : I am not actively looking, but i am open to new opportunities.\n",
    "  * **Approx. 24 % peoples** :  I am not interested in new job opportunities.\n",
    "  * **Approx. 16 % peoples** : I am actively looking for job."
   ]
  },
  {
   "cell_type": "code",
   "execution_count": null,
   "metadata": {
    "_kg_hide-input": true,
    "_uuid": "cae86565f9ee8b3eb1c778aea5cc163cccca8556"
   },
   "outputs": [],
   "source": [
    "cnt_srs = stack_data[\"LastNewJob\"].value_counts()\n",
    "trace = go.Bar(\n",
    "    y=cnt_srs.index[::-1],\n",
    "    x=(cnt_srs/cnt_srs.sum() * 100)[::-1],\n",
    "    orientation = 'h',\n",
    "    marker=dict(\n",
    "        color=['#FF6103','#8EE5EE','#458B00','#FFF8DC'],\n",
    "        colorscale = 'Blues',\n",
    "        reversescale = True\n",
    "    ),\n",
    ")\n",
    "\n",
    "layout = dict(\n",
    "    title='When was the last time that peoples took a job with a new employer (%)',\n",
    "    margin=dict(\n",
    "    l=300,\n",
    ")\n",
    "    )\n",
    "data = [trace]\n",
    "fig = go.Figure(data=data, layout=layout)\n",
    "py.iplot(fig)"
   ]
  },
  {
   "cell_type": "markdown",
   "metadata": {
    "_uuid": "d1ee9e7464105cd3db5d95c8a729a0e0b7a41a23"
   },
   "source": [
    "**When was the last time that peoples took a job with a new employer :**\n",
    "  * **Approx. 35 % peoples** : Less than a year ago.\n",
    "  * **Approx. 22 % peoples** : Between 1 and 2 year ago.\n",
    "  * **Approx. 19 % peoples** : More than 4 year ago.\n",
    "  * **Approx. 19 % peoples** : Between 2 and 4 years ago.\n",
    "  * **Approx. 6 % peoples** : I've never had a job"
   ]
  },
  {
   "cell_type": "code",
   "execution_count": null,
   "metadata": {
    "_kg_hide-input": true,
    "_uuid": "33459398b9b9e80a71a0684fa26b4c723982fe64"
   },
   "outputs": [],
   "source": [
    "temp1 = pd.DataFrame(stack_data['CommunicationTools'].dropna().str.split(';').tolist()).stack()\n",
    "temp = temp1.value_counts().sort_values(ascending=False).head(20)\n",
    "trace = go.Bar(\n",
    "    x = temp.index,\n",
    "    y = (temp / temp.sum())*100,\n",
    ")\n",
    "data = [trace]\n",
    "layout = go.Layout(\n",
    "    title = \"Most popular communication tools (%) \",\n",
    "    xaxis=dict(\n",
    "        title='Tool Name',\n",
    "        tickfont=dict(\n",
    "            size=12,\n",
    "            color='rgb(107, 107, 107)'\n",
    "        )\n",
    "    ),\n",
    "    yaxis=dict(\n",
    "        title='Count in %',\n",
    "        titlefont=dict(\n",
    "            size=16,\n",
    "            color='rgb(107, 107, 107)'\n",
    "        ),\n",
    "        tickfont=dict(\n",
    "            size=14,\n",
    "            color='rgb(107, 107, 107)'\n",
    "        )\n",
    ")\n",
    ")\n",
    "fig = go.Figure(data=data, layout=layout)\n",
    "py.iplot(fig)"
   ]
  },
  {
   "cell_type": "markdown",
   "metadata": {
    "_uuid": "4d368d5fed6075bad85d05826f231a8fc5e8f4d3",
    "collapsed": true
   },
   "source": [
    "**Most popular communication tools :**\n",
    "  * **Slack** used by  approx. 19 % developers.\n",
    "  * ** Jira** used by approx. 15 % developers.\n",
    "  * **Office / productivity suite** used by approx. 14 % developers.\n",
    "  * **Stack overflow** used by only approx. 2 % developers."
   ]
  },
  {
   "cell_type": "code",
   "execution_count": null,
   "metadata": {
    "_kg_hide-input": true,
    "_uuid": "9a6e93b6da12a7c93aa2c5c853c9d2b9aaa58a8b"
   },
   "outputs": [],
   "source": [
    "temp1 = pd.DataFrame(stack_data['LanguageWorkedWith'].dropna().str.split(';').tolist()).stack()\n",
    "temp1 = temp1.value_counts().sort_values(ascending=False).head(20)\n",
    "temp2 = pd.DataFrame(stack_data['LanguageDesireNextYear'].dropna().str.split(';').tolist()).stack()\n",
    "temp2 = temp2.value_counts().sort_values(ascending=False).head(20)\n",
    "trace1 = go.Bar(\n",
    "    y=temp1.index[::-1],\n",
    "    x=temp1.values[::-1],\n",
    "    orientation = 'h',\n",
    "    #name = ''\n",
    ")\n",
    "trace2 = go.Bar(\n",
    "    y=temp2.index[::-1],\n",
    "    x=temp2.values[::-1],\n",
    "    orientation = 'h',\n",
    "    #name = ''\n",
    ")\n",
    "\n",
    "fig = tools.make_subplots(rows=1, cols=2, subplot_titles=('On which developers worked with ', 'On which developers want to work in over the next year'))\n",
    "                                                          \n",
    "\n",
    "fig.append_trace(trace1, 1, 1)\n",
    "fig.append_trace(trace2, 1, 2)\n",
    "fig['layout'].update(height=500, width=1000, title='Most popular languages')\n",
    "iplot(fig, filename='simple-subplot')"
   ]
  },
  {
   "cell_type": "markdown",
   "metadata": {
    "_uuid": "3004ad99bfafd3f7b026b9bff615e6874cc23b81",
    "collapsed": true
   },
   "source": [
    "* **JavaScript is the most popular language** on which developer worked and want to work in over the next year. **Python** is most demandable language on which developers want to work followed by **HTML, CSS** and **SQL** etc"
   ]
  },
  {
   "cell_type": "code",
   "execution_count": null,
   "metadata": {
    "_kg_hide-input": true,
    "_uuid": "1a583521d69e4dfe026ad1a9be4aca0fa10c8df3"
   },
   "outputs": [],
   "source": [
    "temp1 = pd.DataFrame(stack_data['DatabaseWorkedWith'].dropna().str.split(';').tolist()).stack()\n",
    "temp1 = temp1.value_counts().sort_values(ascending=False).head(20)\n",
    "temp2 = pd.DataFrame(stack_data['DatabaseDesireNextYear'].dropna().str.split(';').tolist()).stack()\n",
    "temp2 = temp2.value_counts().sort_values(ascending=False).head(20)\n",
    "trace1 = go.Bar(\n",
    "    y=temp1.index[::-1],\n",
    "    x=temp1.values[::-1],\n",
    "    orientation = 'h',\n",
    "    marker=dict(\n",
    "        color=temp2.values[::-1],\n",
    "        colorscale = 'red',\n",
    "#         reversescale = True\n",
    "    ),\n",
    "    #name = ''\n",
    ")\n",
    "trace2 = go.Bar(\n",
    "    y=temp2.index[::-1],\n",
    "    x=temp2.values[::-1],\n",
    "    orientation = 'h',\n",
    "    #name = ''\n",
    ")\n",
    "\n",
    "fig = tools.make_subplots(rows=1, cols=2, subplot_titles=('On which developers worked with ', 'On which developers want to work in over the next year '))\n",
    "                                                          \n",
    "\n",
    "fig.append_trace(trace1, 1, 1)\n",
    "fig.append_trace(trace2, 1, 2)\n",
    "                          \n",
    "fig['layout'].update(height=500, width=1100, title='Most popular Databases', margin=dict(l=285,))\n",
    "iplot(fig, filename='simple-subplot')"
   ]
  },
  {
   "cell_type": "markdown",
   "metadata": {
    "_uuid": "e72f18526d8996683d21e876c031d2fa59284781"
   },
   "source": [
    "* **MySQL is the most popular Database** on which developer worked and want to work in over the next year. **MongoDB** is most demandable Database on which developers want to work followed by **PostgreSQL, SQLServer, redis** and **ElasticsSearch** etc."
   ]
  },
  {
   "cell_type": "code",
   "execution_count": null,
   "metadata": {
    "_kg_hide-input": true,
    "_uuid": "5e1f4671aba1893d37d247dc25ff382daf1898f5"
   },
   "outputs": [],
   "source": [
    "temp1 = pd.DataFrame(stack_data['PlatformWorkedWith'].dropna().str.split(';').tolist()).stack()\n",
    "temp1 = temp1.value_counts().sort_values(ascending=False).head(20)\n",
    "temp2 = pd.DataFrame(stack_data['PlatformDesireNextYear'].dropna().str.split(';').tolist()).stack()\n",
    "temp2 = temp2.value_counts().sort_values(ascending=False).head(20)\n",
    "trace1 = go.Bar(\n",
    "    y=temp1.index[::-1],\n",
    "    x=temp1.values[::-1],\n",
    "    orientation = 'h',\n",
    "    #name = ''\n",
    ")\n",
    "trace2 = go.Bar(\n",
    "    y=temp2.index[::-1],\n",
    "    x=temp2.values[::-1],\n",
    "    orientation = 'h',\n",
    "    #name = ''\n",
    ")\n",
    "\n",
    "fig = tools.make_subplots(rows=1, cols=2, subplot_titles=('On which developers worked with ', 'On which developers want to work in over the next year'))\n",
    "                                                          \n",
    "\n",
    "fig.append_trace(trace1, 1, 1)\n",
    "fig.append_trace(trace2, 1, 2)\n",
    "                          \n",
    "fig['layout'].update(height=500, width=1100, title='Most popular platforms', margin=dict(l=250,))\n",
    "iplot(fig, filename='simple-subplot')"
   ]
  },
  {
   "cell_type": "markdown",
   "metadata": {
    "_uuid": "e636d443b60ad2a4abd0e83d9d9088b3b7e1801c"
   },
   "source": [
    "* **Linux is the most popular platform** on which developer worked and want to work in over the next year followed by  **Android** is most demandable Database on which developers want to work followed by **AWS, Raspberry pie** etc."
   ]
  },
  {
   "cell_type": "code",
   "execution_count": null,
   "metadata": {
    "_kg_hide-input": true,
    "_uuid": "70f66f652bf7d8abb6b795a69cb93bb7bea41a87"
   },
   "outputs": [],
   "source": [
    "temp1 = pd.DataFrame(stack_data['FrameworkWorkedWith'].dropna().str.split(';').tolist()).stack()\n",
    "temp1 = temp1.value_counts().sort_values(ascending=False).head(20)\n",
    "temp2 = pd.DataFrame(stack_data['FrameworkDesireNextYear'].dropna().str.split(';').tolist()).stack()\n",
    "temp2 = temp2.value_counts().sort_values(ascending=False).head(20)\n",
    "trace1 = go.Bar(\n",
    "    y=temp1.index[::-1],\n",
    "    x=temp1.values[::-1],\n",
    "    orientation = 'h',\n",
    "    marker=dict(\n",
    "        color=temp2.values[::-1],\n",
    "        colorscale = 'red',\n",
    "#         reversescale = True\n",
    "    ),\n",
    "    #name = ''\n",
    ")\n",
    "trace2 = go.Bar(\n",
    "    y=temp2.index[::-1],\n",
    "    x=temp2.values[::-1],\n",
    "    orientation = 'h',\n",
    "    #name = ''\n",
    ")\n",
    "\n",
    "fig = tools.make_subplots(rows=1, cols=2, subplot_titles=('On which developers worked with', 'On which developers want to work in over the next year'))\n",
    "                                                          \n",
    "\n",
    "fig.append_trace(trace1, 1, 1)\n",
    "fig.append_trace(trace2, 1, 2)\n",
    "                          \n",
    "fig['layout'].update(height=500, width=1100, title='Most popular Frameworks', margin=dict(l=100,))\n",
    "iplot(fig, filename='simple-subplot')"
   ]
  },
  {
   "cell_type": "markdown",
   "metadata": {
    "_uuid": "d395846d11c1a84f80b1166680bb33f565b1ef25"
   },
   "source": [
    "* **Node.js, Angular, React and .Net core are the most popular frameworks** on which developer worked and want to work in over the next year followed by  **Tansorflow** is most demandable Database on which developers want to work."
   ]
  },
  {
   "cell_type": "code",
   "execution_count": null,
   "metadata": {
    "_kg_hide-input": true,
    "_uuid": "25674338dc19d2276777fce280c6935e51bd8997"
   },
   "outputs": [],
   "source": [
    "temp = stack_data['StackOverflowRecommend'].value_counts()\n",
    "df = pd.DataFrame({'labels': temp.index,\n",
    "                   'values': temp.values\n",
    "                  })\n",
    "df.iplot(kind='pie',labels='labels',values='values', title='StackOverflow Recommendation', hole = 0.8,)"
   ]
  },
  {
   "cell_type": "markdown",
   "metadata": {
    "_uuid": "7b943339f858891bcdde3ac530e2d42f241976f6"
   },
   "source": [
    "* ** 69 % peoples** want to recommend StackOverflow **very likely** and **only 0.35 %** peoples **don't **want to recommend stackoverflow."
   ]
  },
  {
   "cell_type": "code",
   "execution_count": null,
   "metadata": {
    "_kg_hide-input": true,
    "_uuid": "4c09cd6f3f85f87d6fed3d155db310431f924cb5"
   },
   "outputs": [],
   "source": [
    "temp = stack_data['StackOverflowVisit'].value_counts()\n",
    "df = pd.DataFrame({'labels': temp.index,\n",
    "                   'values': temp.values\n",
    "                  })\n",
    "df.iplot(kind='pie',labels='labels',values='values', title='Peoples visiting StackOverflow', hole = 0.6, color =['#FAEBD7','#00FFFF','#458B74','#C1FFC1','#7FFF00','#FF7F24'])"
   ]
  },
  {
   "cell_type": "markdown",
   "metadata": {
    "_uuid": "644d3dc6c72e33f5887f69945962071b93dcdbc1"
   },
   "source": [
    "**Peoples visiting StackOverflow :**\n",
    "  * **32.5 % peoples said** : Daily or almost daily\n",
    "  * **31.1 % peoples said** : multiple times per day\n",
    "  * **22.4 % peoples said** : A few times per week\n",
    "  * **11.5 % peoples said** : A few times per month or weekly"
   ]
  },
  {
   "cell_type": "code",
   "execution_count": null,
   "metadata": {
    "_kg_hide-input": true,
    "_uuid": "cb7cd3ad5cd891ad32bc3b08ff88c802c09d1004"
   },
   "outputs": [],
   "source": [
    "temp = stack_data['StackOverflowHasAccount'].value_counts()\n",
    "df = pd.DataFrame({'labels': temp.index,\n",
    "                   'values': temp.values\n",
    "                  })\n",
    "df.iplot(kind='pie',labels='labels',values='values', title='Has StackOverflow account', hole = 0.6, color =['#FAEBD7','#00FFFF','#458B74'])"
   ]
  },
  {
   "cell_type": "markdown",
   "metadata": {
    "_uuid": "953877325396322dae75efebe98407204a23c0f3"
   },
   "source": [
    "**Respondents having StackOverflow account :**\n",
    "  * **87.4 % Respondents said** : Yes\n",
    "  * **8.73 % Respondents said **: No\n",
    "  * **3.8 % Respondents said **: I'm not sure / I can't remember"
   ]
  },
  {
   "cell_type": "code",
   "execution_count": null,
   "metadata": {
    "_kg_hide-input": true,
    "_uuid": "4378fd14e85bd38a01a38536409fc908f629865e"
   },
   "outputs": [],
   "source": [
    "cnt_srs = stack_data[\"StackOverflowParticipate\"].value_counts()\n",
    "trace = go.Bar(\n",
    "    y=cnt_srs.index[::-1],\n",
    "    x=(cnt_srs/cnt_srs.sum() * 100)[::-1],\n",
    "    orientation = 'h',\n",
    "    marker=dict(\n",
    "        color=['#FFF8DC','#68228B','#1E90FF','#FFC125','#C1FFC1','#7FFF00','#FF7F24'],\n",
    "        colorscale = 'Blues',\n",
    "        reversescale = True\n",
    "    ),\n",
    ")\n",
    "\n",
    "layout = dict(\n",
    "    title='Participation on StackOverflow (%)',\n",
    "    margin=dict(\n",
    "    l=400,\n",
    ")\n",
    "    )\n",
    "data = [trace]\n",
    "fig = go.Figure(data=data, layout=layout)\n",
    "py.iplot(fig)"
   ]
  },
  {
   "cell_type": "markdown",
   "metadata": {
    "_uuid": "7a0796e8cd238567b13b1b7321a608de39e45ec4"
   },
   "source": [
    "**Participation on StackOverflow in Q&A :**\n",
    "  * **Approx. 39 % Respondents said** : Less than once per month or monthly\n",
    "  * **Approx. 23 % Respondents said** : A few times per month or weekly\n",
    "  * **Approx. 17 % Respondents said** : I have never participated in Q&A on StackOverflow\n",
    "  * **Approx. 12 % Respondents said** : A few times per week\n",
    "  * **Approx. 6 % Respondents said** : Daily or almost daily\n",
    "  * **Approx. 3 % Respondents said** : Multiple times per day"
   ]
  },
  {
   "cell_type": "code",
   "execution_count": null,
   "metadata": {
    "_kg_hide-input": true,
    "_uuid": "2afafed565b295f44fb6b768bccf9eca33b26bf9"
   },
   "outputs": [],
   "source": [
    "temp = stack_data['StackOverflowJobs'].value_counts()\n",
    "df = pd.DataFrame({'labels': temp.index,\n",
    "                   'values': temp.values\n",
    "                  })\n",
    "df.iplot(kind='pie',labels='labels',values='values', title='Number of peoples visited StackOverflow jobs board', hole = 0.6, color =['#1E90FF','#FFC125','#C1FFC1'])"
   ]
  },
  {
   "cell_type": "markdown",
   "metadata": {
    "_uuid": "1a9e4e18b27208d4ba622c516adc51cfc18a8097"
   },
   "source": [
    "**Number of peoples visited StackOverflow jobs board :**\n",
    "  * **51.4 % Respondents said** : YES\n",
    "  * **35.8 % Respondents said** : No, I knew that StackOverflow had a jobs board but had never visit or used\n",
    "  * **12.8 % Respondents said** : No, I didn't know that StackOverflow had a jobs board"
   ]
  },
  {
   "cell_type": "code",
   "execution_count": null,
   "metadata": {
    "_kg_hide-input": true,
    "_uuid": "fccbcebe0f52d7fb611bfe2db8f0211f601c6a77"
   },
   "outputs": [],
   "source": [
    "cnt_srs = stack_data[\"StackOverflowDevStory\"].value_counts()\n",
    "trace = go.Bar(\n",
    "    y=cnt_srs.index[::-1],\n",
    "    x=(cnt_srs/cnt_srs.sum() * 100)[::-1],\n",
    "    orientation = 'h',\n",
    "    marker=dict(\n",
    "        color=['#FFF8DC','#68228B','#1E90FF','#FFC125','#C1FFC1','#7FFF00','#FF7F24'],\n",
    "        colorscale = 'Blues',\n",
    "        reversescale = True\n",
    "    ),\n",
    ")\n",
    "\n",
    "layout = dict(\n",
    "    title='Up-to-date developer story on StackOverflow (%)',\n",
    "    margin=dict(\n",
    "    l=300,\n",
    ")\n",
    "    )\n",
    "data = [trace]\n",
    "fig = go.Figure(data=data, layout=layout)\n",
    "py.iplot(fig)"
   ]
  },
  {
   "cell_type": "markdown",
   "metadata": {
    "_uuid": "dd8c9bfe80fa785adb8ab06eb35942bf2556ec1d"
   },
   "source": [
    "**Up-to-date developer story on StackOverflow :**\n",
    "  * **Approx. 37 % Respondents said** : No, I don't know what that is\n",
    "  * **Approx. 24 % Respondents said** : No, I know what it is but i don't have one\n",
    "  * **Approx. 23 % Respondents said** :  No, I have one but it's out of date\n",
    "  * **Approx. 17 % Respondents said** : YES"
   ]
  },
  {
   "cell_type": "code",
   "execution_count": null,
   "metadata": {
    "_kg_hide-input": true,
    "_uuid": "3114a246d49f3052855ebe162621149e015f6386"
   },
   "outputs": [],
   "source": [
    "temp = stack_data['StackOverflowJobsRecommend'].value_counts()\n",
    "df = pd.DataFrame({'labels': temp.index,\n",
    "                   'values': temp.values\n",
    "                  })\n",
    "df.iplot(kind='pie',labels='labels',values='values', title='StackOverflow Jobs Board Recommendation', hole = 0.7, color =['#1E90FF','#FFC125','#C1FFC1','#8B7355','#BF3EFF','#FF6103','#FFF8DC','#68228B','#FF1493','#8B0A50'])"
   ]
  },
  {
   "cell_type": "markdown",
   "metadata": {
    "_uuid": "70e84cfbc1278654b9518446dfb64696091af089"
   },
   "source": [
    "**26.5 %** respondents said we will recommend StackOverflow jobs board **very likely**. **3.23 % **respondents said we **will not** recommend StackOverflow jobs board to anyone."
   ]
  },
  {
   "cell_type": "code",
   "execution_count": null,
   "metadata": {
    "_kg_hide-input": true,
    "_uuid": "9105895782ba41315c2821cc41515626cb512c18"
   },
   "outputs": [],
   "source": [
    "temp = stack_data['StackOverflowConsiderMember'].value_counts()\n",
    "df = pd.DataFrame({'labels': temp.index,\n",
    "                   'values': temp.values\n",
    "                  })\n",
    "df.iplot(kind='pie',labels='labels',values='values', title='Members of the Stack Overflow community', hole = 0.7, color =['#1E90FF','#FFC125','#C1FFC1',])"
   ]
  },
  {
   "cell_type": "markdown",
   "metadata": {
    "_uuid": "ce2d1f030a9963496f60c3b0e0aa5c84ffcd7f43"
   },
   "source": [
    "**Members of the Stack Overflow community :**\n",
    "  * **55.5 % Respondents said** : YES\n",
    "  * **22.4 % Respondents said** : NO\n",
    "  * **22.2 % Respondents said** : I'm not sure"
   ]
  },
  {
   "cell_type": "code",
   "execution_count": null,
   "metadata": {
    "_kg_hide-input": true,
    "_uuid": "3460df34fd0e6a57318f8eda99bcbf510d77c877"
   },
   "outputs": [],
   "source": [
    "so_comm = stack_data[stack_data['StackOverflowConsiderMember'] == 'Yes']"
   ]
  },
  {
   "cell_type": "code",
   "execution_count": null,
   "metadata": {
    "_kg_hide-input": true,
    "_uuid": "1c97d05a99d239d46010ceacef9470958a6bed45"
   },
   "outputs": [],
   "source": [
    "temp1 = so_comm.set_index('Gender').DevType.str.split(';', expand=True).stack().reset_index('Gender')\n",
    "temp1.columns = ['Gender','job']\n",
    "temp = temp1['job'].value_counts()\n",
    "temp_y0 = []\n",
    "temp_y1 = []\n",
    "for val in temp.index:\n",
    "    temp_y1.append(np.sum(temp1[\"Gender\"][temp1[\"job\"] == val] == 'Male'))\n",
    "    temp_y0.append(np.sum(temp1[\"Gender\"][temp1[\"job\"] == val] == 'Female'))    \n",
    "trace1 = go.Bar(\n",
    "    x = temp.index,\n",
    "    y = (temp_y1 / temp.sum()) * 100,\n",
    "    name='Male'\n",
    ")\n",
    "trace2 = go.Bar(\n",
    "    x = temp.index,\n",
    "    y = (temp_y0 / temp.sum()) * 100, \n",
    "    name='Female'\n",
    ")\n",
    "\n",
    "data = [trace1, trace2]\n",
    "layout = go.Layout(\n",
    "    title = \"Top DevType who consider themselves part of the Stack Overflow community (%)\",\n",
    "    barmode='stack',\n",
    "    width = 1000,\n",
    "    xaxis=dict(\n",
    "        title='DevType',\n",
    "        tickfont=dict(\n",
    "            size=8,\n",
    "            color='rgb(107, 107, 107)'\n",
    "        )\n",
    "    ),\n",
    "    yaxis=dict(\n",
    "        title='Count in %',\n",
    "        titlefont=dict(\n",
    "            size=16,\n",
    "            color='rgb(107, 107, 107)'\n",
    "        ),\n",
    "        tickfont=dict(\n",
    "            size=14,\n",
    "            color='rgb(107, 107, 107)'\n",
    "        )\n",
    ")\n",
    ")\n",
    "\n",
    "fig = go.Figure(data=data, layout=layout)\n",
    "iplot(fig)"
   ]
  },
  {
   "cell_type": "markdown",
   "metadata": {
    "_uuid": "4bb84e71b9343dd1d24c5c111b04959a471f69f7"
   },
   "source": [
    "The hypotherical tools are : \n",
    "  * ht1 : A peer mentoring system\n",
    "  * ht2 : A private area for people new to programming\n",
    "  * ht3 : A programming-oriented blog platform\n",
    "  * ht4 : An employer or job review system\n",
    "  * ht5 : An area for Q&A related to career growth\n",
    "  \n",
    "where **1 is not at all interested** and **5 is extremely interested**.So, here i will take sum of individual columns(ht1, ht2,...etc) . So, finally i will rank them in a order of most participated tools.** Less the value** of a column means **less participated tool** and **higher the value** means **most participated tool**."
   ]
  },
  {
   "cell_type": "code",
   "execution_count": null,
   "metadata": {
    "_kg_hide-input": true,
    "_uuid": "d34eb569aadcfa7a23f5b02f63f4e5bf28d53f07"
   },
   "outputs": [],
   "source": [
    "print('ht1 sum', stack_data['HypotheticalTools1'].map({'Not at all interested' : 1, 'A little bit interested' : 2,'Somewhat interested' : 3, 'Very interested' : 4, 'Extremely interested' : 5}).sum())\n",
    "print('ht2 sum', stack_data['HypotheticalTools2'].map({'Not at all interested' : 1, 'A little bit interested' : 2,'Somewhat interested' : 3, 'Very interested' : 4, 'Extremely interested' : 5}).sum())\n",
    "print('ht3 sum', stack_data['HypotheticalTools3'].map({'Not at all interested' : 1, 'A little bit interested' : 2,'Somewhat interested' : 3, 'Very interested' : 4, 'Extremely interested' : 5}).sum())\n",
    "print('ht4 sum', stack_data['HypotheticalTools4'].map({'Not at all interested' : 1, 'A little bit interested' : 2,'Somewhat interested' : 3, 'Very interested' : 4, 'Extremely interested' : 5}).sum())\n",
    "print('ht5 sum', stack_data['HypotheticalTools5'].map({'Not at all interested' : 1, 'A little bit interested' : 2,'Somewhat interested' : 3, 'Very interested' : 4, 'Extremely interested' : 5}).sum())\n"
   ]
  },
  {
   "cell_type": "markdown",
   "metadata": {
    "_uuid": "a3e5a6eac826c87ae11b48adc21721f6968e176d"
   },
   "source": [
    "**Interest of developers in participating in the  hypothetical tools on Stack Overflow :**\n",
    "  * **Rank 1 :** An employer or job review system **(Most participated tool)**\n",
    "  * **Rank 2 :** An area for Q&A related to career growth\n",
    "  * **Rank 3 :** A programming-oriented blog platform\n",
    "  * **Rank 4 :** A peer mentoring system\n",
    "  * **Rank 5 :** A private area for people new to programming **(Less participated tool)**"
   ]
  },
  {
   "cell_type": "code",
   "execution_count": null,
   "metadata": {
    "_kg_hide-input": true,
    "_uuid": "0cc1c52c1b05ec5c3fda7a51791363fd92a88587"
   },
   "outputs": [],
   "source": [
    "temp = stack_data[['StackOverflowVisit', 'StackOverflowRecommend']]\n",
    "temp.columns = ['StackOverflowVisit', 'StackOverflowRecommend']\n",
    "cm = sns.light_palette(\"red\", as_cmap=True)\n",
    "pd.crosstab(temp['StackOverflowVisit'], temp['StackOverflowRecommend']).style.background_gradient(cmap = cm)"
   ]
  },
  {
   "cell_type": "markdown",
   "metadata": {
    "_uuid": "8c73115eb992869e68a8c78b9123c520a614f404"
   },
   "source": [
    "* Majority of peoples who visit Stackoverflow **Multiple times per day**, **Daily or almost daily**, **A few times per week** or **A few times per month or weekly**\t recommending **very likely(10)**."
   ]
  },
  {
   "cell_type": "code",
   "execution_count": null,
   "metadata": {
    "_kg_hide-input": true,
    "_uuid": "8f65e97618b49abc887fdf89362b63c74a4abd4e"
   },
   "outputs": [],
   "source": [
    "temp = stack_data[['StackOverflowVisit', 'StackOverflowParticipate']]\n",
    "cm = sns.light_palette(\"red\", as_cmap=True)\n",
    "pd.crosstab(temp['StackOverflowVisit'], temp['StackOverflowParticipate']).style.background_gradient(cmap = cm)"
   ]
  },
  {
   "cell_type": "code",
   "execution_count": null,
   "metadata": {
    "_kg_hide-input": true,
    "_uuid": "91193c00aa407de15c2cab83b15c92712d5a5d9b"
   },
   "outputs": [],
   "source": [
    "temp = stack_data[['StackOverflowVisit', 'StackOverflowJobs']]\n",
    "cm = sns.light_palette(\"red\", as_cmap=True)\n",
    "pd.crosstab(temp['StackOverflowVisit'], temp['StackOverflowJobs']).style.background_gradient(cmap = cm)"
   ]
  },
  {
   "cell_type": "markdown",
   "metadata": {
    "_uuid": "019927992e36b0e3bb9d6cd774cc1154211fe4ec"
   },
   "source": [
    "* Most of the peoples who are visiting stackOverflow **Daily or almost daily**\tor **Multiple times per day** they know about **StackOverflow job board**."
   ]
  },
  {
   "cell_type": "code",
   "execution_count": null,
   "metadata": {
    "_kg_hide-input": true,
    "_uuid": "0f060b7d8c98600e0eefdc01ab716a328939125b"
   },
   "outputs": [],
   "source": [
    "temp = stack_data[['StackOverflowVisit', 'StackOverflowDevStory']]\n",
    "cm = sns.light_palette(\"red\", as_cmap=True)\n",
    "pd.crosstab(temp['StackOverflowVisit'], temp['StackOverflowDevStory']).style.background_gradient(cmap = cm)"
   ]
  },
  {
   "cell_type": "markdown",
   "metadata": {
    "_uuid": "31186e8b689c6fe55df36bc522742a3d56e0fb91"
   },
   "source": [
    "* Highest number of peoples who are visiting StackOverflow **Daily or almost dail**y, **Multiple times per day** or **A few times per week\t**, they don't know what is **Stackoverflow developer Story**"
   ]
  },
  {
   "cell_type": "code",
   "execution_count": null,
   "metadata": {
    "_kg_hide-input": true,
    "_uuid": "80204f6683c6c754fc7e5039c6b3377e95196393"
   },
   "outputs": [],
   "source": [
    "temp = stack_data[['StackOverflowJobs', 'StackOverflowJobsRecommend']]\n",
    "cm = sns.light_palette(\"red\", as_cmap=True)\n",
    "pd.crosstab(temp['StackOverflowJobs'], temp['StackOverflowJobsRecommend']).style.background_gradient(cmap = cm)"
   ]
  },
  {
   "cell_type": "markdown",
   "metadata": {
    "_uuid": "702643fac3ff09dc928e12f112221facdc76c2d9"
   },
   "source": [
    "* Its good to see that who are visiting stackoverflow job board, out of these most of the peoples are recommending Stackoverflow job board very likely(10)."
   ]
  },
  {
   "cell_type": "code",
   "execution_count": null,
   "metadata": {
    "_kg_hide-input": true,
    "_uuid": "adfa5748a637240e5827542a2d5d6c9d37150656"
   },
   "outputs": [],
   "source": [
    "cnt_srs = stack_data[\"UpdateCV\"].value_counts()\n",
    "trace = go.Bar(\n",
    "    y=cnt_srs.index[::-1],\n",
    "    x=(cnt_srs/cnt_srs.sum() * 100)[::-1],\n",
    "    orientation = 'h',\n",
    "    marker=dict(\n",
    "        color=['#BF3EFF','#FFF8DC','#68228B','#1E90FF','#FFC125','#C1FFC1','#7FFF00','#FF7F24'],\n",
    "        colorscale = 'Blues',\n",
    "        reversescale = True\n",
    "    ),\n",
    ")\n",
    "\n",
    "layout = dict(\n",
    "    title='Reasons of upadating a CV  (%)',\n",
    "    margin=dict(\n",
    "    l=450,\n",
    ")\n",
    "    )\n",
    "data = [trace]\n",
    "fig = go.Figure(data=data, layout=layout)\n",
    "py.iplot(fig)"
   ]
  },
  {
   "cell_type": "markdown",
   "metadata": {
    "_uuid": "f52b1c49f5ecbc0f38a9a2a483e8d7dced745e92"
   },
   "source": [
    "**Top Reasons of upadating a CV  :**\n",
    "  * **Approx. 42 % Respondents said** : My job status and my personal status changed.\n",
    "  * **Approx. 14 % Respondents said** : A recruiter contacted me.\n",
    "  * **Approx. 11 % Respondents said** : I had a negative experience or interaction at work.\n",
    "  * **Approx. 11 % Respondents said** : A friend told me about a job opportunity.\n",
    "  * **Approx. 10 % Respondents said** : I saw an employer's advertisement."
   ]
  },
  {
   "cell_type": "code",
   "execution_count": null,
   "metadata": {
    "_kg_hide-input": true,
    "_uuid": "9b7110139a8272e93e7a39a947a53aa933118027"
   },
   "outputs": [],
   "source": [
    "temp = pd.DataFrame(stack_data['EducationTypes'].dropna().str.split(';').tolist()).stack()\n",
    "cnt_srs =  temp.value_counts().sort_values(ascending=False)\n",
    "trace = go.Bar(\n",
    "    y=cnt_srs.index[::-1],\n",
    "    x=(cnt_srs/cnt_srs.sum() * 100)[::-1],\n",
    "    orientation = 'h',\n",
    "    marker=dict(\n",
    "        color=['#FF1493','#00BFFF','#FCE6C9','#1E90FF','#FFC125','#FFD700','#C1FFC1','#7FFF00','#FF7F24'],\n",
    "        colorscale = 'Blues',\n",
    "        reversescale = True\n",
    "    ),\n",
    ")\n",
    "\n",
    "layout = dict(\n",
    "    title='Types of Non-degree education in which people participated (%)',\n",
    "    margin=dict(\n",
    "    l=550,\n",
    ")\n",
    "    )\n",
    "data = [trace]\n",
    "fig = go.Figure(data=data, layout=layout)\n",
    "py.iplot(fig)"
   ]
  },
  {
   "cell_type": "markdown",
   "metadata": {
    "_uuid": "689ed77ae3ca02cc341d2adc091e288a64a14130"
   },
   "source": [
    "**Types of Non-degree education in which people participated :**\n",
    "  * **Approx. 29 % Respondents said** : Taught yourself a new language, framework or tool without taking a formal course.\n",
    "  * **Approx. 16 % Respondents said** : Taken an online course in programming and software developement(eg. a MOOC)\n",
    "  * **Approx. 14 % Respondents said** : Contributed to open source softwares\n",
    "  * **Approx. 12 % Respondents said** : Received on-the-job training in software developement\n",
    "  * **Approx. 9 % Respondents said** : Participated in hackathon\n",
    "  * **Approx. 8 % Respondents said** : Participated in online coding compitition(eg. HackerRank, CodeChef or TopCoder)\n",
    "  * **Approx. 6 % Respondents said** : Taken a part-time in-person course in programming or software development\n",
    "  * **Approx. 5 % Respondents said** : Completed an industry certification program(eg. MCPD)\n",
    "  * **Approx. 4 % Respondents said** :  Participated in a full-time developer training program or bootcamp"
   ]
  },
  {
   "cell_type": "code",
   "execution_count": null,
   "metadata": {
    "_kg_hide-input": true,
    "_uuid": "12b523a1a9e927d7e857b411ad978021d46c1032"
   },
   "outputs": [],
   "source": [
    "temp = pd.DataFrame(stack_data['SelfTaughtTypes'].dropna().str.split(';').tolist()).stack()\n",
    "cnt_srs =  temp.value_counts().sort_values(ascending=False)\n",
    "trace = go.Bar(\n",
    "    y=cnt_srs.index[::-1],\n",
    "    x=(cnt_srs/cnt_srs.sum() * 100)[::-1],\n",
    "    orientation = 'h',\n",
    "    marker=dict(\n",
    "        color=['#FFD700','#C1FFC1','#7FFF00','#FF7F24','#FF1493','#00BFFF','#FCE6C9','#1E90FF','#FFC125',],\n",
    "        colorscale = 'Blues',\n",
    "        reversescale = True\n",
    "    ),\n",
    ")\n",
    "\n",
    "layout = dict(\n",
    "    title='Top resources used by peoples who taught yourself without taking a course (%)',\n",
    "    margin=dict(\n",
    "    l=610,\n",
    ")\n",
    "    )\n",
    "data = [trace]\n",
    "fig = go.Figure(data=data, layout=layout)\n",
    "py.iplot(fig)"
   ]
  },
  {
   "cell_type": "markdown",
   "metadata": {
    "_uuid": "8115b17d17d3298088620a64438b46dda90267ff"
   },
   "source": [
    "**Top resources used by peoples who taught yourself without taking a course :**\n",
    "  * **Approx. 22 % Respondents said** : The official documentation and/or standards for the technology\n",
    "  * **Approx. 22 % Respondents said** : Q&A on the StackOverflow\n",
    "  * **Approx. 13 % Respondents said** : A book or e-book from o'Reilly, Apress or a similar publisher\n",
    "  * **Approx. 13 % Respondents said** : Online developer communities other than StackOverflow(eg, forums, listservs, IRC Channels etc)\n",
    "  * **Approx. 13 % Respondents said** :The technology's online help system\n",
    "  * **Approx. 5 % Respondents said** : A college/University computer  science or software engineering books"
   ]
  },
  {
   "cell_type": "code",
   "execution_count": null,
   "metadata": {
    "_kg_hide-input": true,
    "_uuid": "237cff66391b7a4428263ef05b0d0f2fb6aa7407"
   },
   "outputs": [],
   "source": [
    "temp = pd.DataFrame(stack_data['HackathonReasons'].dropna().str.split(';').tolist()).stack()\n",
    "cnt_srs =  temp.value_counts().sort_values(ascending=False)\n",
    "trace = go.Bar(\n",
    "    y=cnt_srs.index[::-1],\n",
    "    x=(cnt_srs/cnt_srs.sum() * 100)[::-1],\n",
    "    orientation = 'h',\n",
    "    marker=dict(\n",
    "        color=['#FFD700','#C1FFC1','#FCE6C9','#1E90FF','#FFC125','#7FFF00','#FF7F24','#FF1493','#00BFFF'],\n",
    "        colorscale = 'Blues',\n",
    "        reversescale = True\n",
    "    ),\n",
    ")\n",
    "\n",
    "layout = dict(\n",
    "    title='Top reasons who participated in online coding compitition or hackathon (%)',\n",
    "    margin=dict(\n",
    "    l=610,\n",
    ")\n",
    "    )\n",
    "data = [trace]\n",
    "fig = go.Figure(data=data, layout=layout)\n",
    "py.iplot(fig)"
   ]
  },
  {
   "cell_type": "markdown",
   "metadata": {
    "_uuid": "ad494a2e33ee051be2736cff425bc1d375f886d3"
   },
   "source": [
    "**Top reasons who participated in online coding compitition or hackathon :**\n",
    "  * **Approx. 26 % Respondents said** : Because I find it enjoyable\n",
    "  * **Approx. 23 % Respondents said** : To improve my general technical skills or programming ability\n",
    "  * **Approx. 18 % Respondents said** : To improve my knowledge of a specific programming language , framework or technology\n",
    "  * **Approx. 10 % Respondents said** : To improve my ability to work on a team with others programmers\n",
    "  * **Approx. 9 % Respondents said** : To build my professional network\n",
    "  * **Approx. 7 % Respondents said** : To help me find a new job opportunities\n",
    "  * **Approx. 6 % Respondents said** : to win prizes or cash awards"
   ]
  },
  {
   "cell_type": "code",
   "execution_count": null,
   "metadata": {
    "_kg_hide-input": true,
    "_uuid": "74c151294bbb7894fecaef34622038dca6036397"
   },
   "outputs": [],
   "source": [
    "temp = stack_data['EthicsChoice'].value_counts()\n",
    "df = pd.DataFrame({'labels': temp.index,\n",
    "                   'values': temp.values\n",
    "                  })\n",
    "df.iplot(kind='pie',labels='labels',values='values', title='What peoples think about writing a code that is extremely unethical ?', hole = 0.5, color = ['#FAEBD7','#7FFFD4','#1E90FF'])"
   ]
  },
  {
   "cell_type": "markdown",
   "metadata": {
    "_uuid": "58dd0b158fcc46c332bcf29927bddd99d7f730c6"
   },
   "source": [
    "**What peoples think about writing a code that is extremely unethical ? **\n",
    "  * **58.5 % Respondents said** : NO\n",
    "  * **36.6 % Respondents said** : Depend on what it is\n",
    "  * **4.82 % Respondents said** : YES"
   ]
  },
  {
   "cell_type": "code",
   "execution_count": null,
   "metadata": {
    "_kg_hide-input": true,
    "_uuid": "d8e3146951602292d50021baeb098115b5cfa31d"
   },
   "outputs": [],
   "source": [
    "temp = stack_data['EthicsReport'].value_counts()\n",
    "df = pd.DataFrame({'labels': temp.index,\n",
    "                   'values': temp.values\n",
    "                  })\n",
    "df.iplot(kind='pie',labels='labels',values='values', title='Do peoples want to report out unethical code in question ?', hole = 0.5, color = ['#8EE5EE','#458B00','#FFF8DC','#1E90FF'])"
   ]
  },
  {
   "cell_type": "markdown",
   "metadata": {
    "_uuid": "9dee67c5ad63a9880c54fb352df0903eba1928c9"
   },
   "source": [
    "**Do peoples want to report out unethical code in question ?**\n",
    "  * **46.6 % Respondents said** : Depends on what it is\n",
    "  * **35.7 % Respondents said** : Yes, but only within the company\n",
    "  * **13.1 % Respondents said** : Yes, and publicaly\n",
    "  * **4.62 % Respondents said** : No"
   ]
  },
  {
   "cell_type": "code",
   "execution_count": null,
   "metadata": {
    "_kg_hide-input": true,
    "_uuid": "6f458799d4158066c605a40555f230333cd9e8bc",
    "scrolled": true
   },
   "outputs": [],
   "source": [
    "temp = stack_data['EthicsResponsible'].value_counts()\n",
    "df = pd.DataFrame({'labels': temp.index,\n",
    "                   'values': temp.values\n",
    "                  })\n",
    "df.iplot(kind='pie',labels='labels',values='values', title='who is most responsible for code that accomplishes something unethical?', hole = 0.5, color = ['#458B00','#FFF8DC','#1E90FF'])"
   ]
  },
  {
   "cell_type": "markdown",
   "metadata": {
    "_uuid": "c5da7e3fed3654392fc210b454c1d10da2fdf640"
   },
   "source": [
    "**What peoples think who is most responsible for code that accomplishes something unethical?**\n",
    "  * **57.5 % Respondents said** : Upper management at the company/organization\n",
    "  * **22.8 % Respondents said** : The person who came up with idea \n",
    "  * **19.7 % Respondents said** : The developer who wrote it "
   ]
  },
  {
   "cell_type": "code",
   "execution_count": null,
   "metadata": {
    "_kg_hide-input": true,
    "_uuid": "5507e591a6e1eb1276210b3e7f9d4df117d9ca8f",
    "scrolled": true
   },
   "outputs": [],
   "source": [
    "temp = stack_data['EthicalImplications'].value_counts()\n",
    "df = pd.DataFrame({'labels': temp.index,\n",
    "                   'values': temp.values\n",
    "                  })\n",
    "df.iplot(kind='pie',labels='labels',values='values', title='There can be obligation to consider the ethical implications of the code that you write?', hole = 0.5, color = ['#FF6103','#8EE5EE','#458B00'])"
   ]
  },
  {
   "cell_type": "markdown",
   "metadata": {
    "_uuid": "fb2663b72f7756089813446ba2e965f9a9c0417f"
   },
   "source": [
    "**There can be obligation to consider the ethical implications of the code that you write? **\n",
    "  * **79.6 % Respondents said** : YES\n",
    "  * **14.3 % Respondents said** : Unsure/I don't know\n",
    "  * **6.08% Respondents said** : NO"
   ]
  },
  {
   "cell_type": "code",
   "execution_count": null,
   "metadata": {
    "_kg_hide-input": true,
    "_uuid": "ca3fa63a26d2b4862e8d7cf5261030deddb265d2"
   },
   "outputs": [],
   "source": [
    "temp = pd.DataFrame(stack_data['IDE'].dropna().str.split(';').tolist()).stack()\n",
    "temp =  temp.value_counts().sort_values(ascending=False)\n",
    "trace = go.Bar(\n",
    "    x = temp.index,\n",
    "    y = (temp / temp.sum())*100,\n",
    "    marker=dict(\n",
    "        color=['#FFF8DC','#68228B','#1E90FF','#FFC125','#FF6103','#8EE5EE','#458B00','#FFF8DC','#8B7355','#BF3EFF','#FF6103','#FFC125'],\n",
    "        colorscale = 'Blues',\n",
    "        reversescale = True\n",
    "    ),\n",
    ")\n",
    "data = [trace]\n",
    "layout = go.Layout(\n",
    "    title = \"Top most used IDE  by the developers (%) \",\n",
    "    xaxis=dict(\n",
    "        title='IDE Name',\n",
    "        tickfont=dict(\n",
    "            size=10,\n",
    "            color='rgb(107, 107, 107)'\n",
    "        )\n",
    "    ),\n",
    "    yaxis=dict(\n",
    "        title='Count in %',\n",
    "        titlefont=dict(\n",
    "            size=16,\n",
    "            color='rgb(107, 107, 107)'\n",
    "        ),\n",
    "        tickfont=dict(\n",
    "            size=14,\n",
    "            color='rgb(107, 107, 107)'\n",
    "        )\n",
    ")\n",
    ")\n",
    "fig = go.Figure(data=data, layout=layout)\n",
    "py.iplot(fig)"
   ]
  },
  {
   "cell_type": "markdown",
   "metadata": {
    "_uuid": "82fd3398d87470b92f93625605017fc88ed6e6af"
   },
   "source": [
    "**Top most used IDE  by the developers :**\n",
    "  * Approx. **12 %** developers using **Visual Studio Code**\n",
    "  * Approx. **12 %** developers using Visual Studio \n",
    "  * Approx. **11 %** developers using **Notepad++**\n",
    "  * Approx. **10 %** developers using **Sublime Text**\n",
    "  * Approx. **9 %** developers using **Vim**"
   ]
  },
  {
   "cell_type": "code",
   "execution_count": null,
   "metadata": {
    "_kg_hide-input": true,
    "_uuid": "11b9814621b12f5d626510dc92ddafc7f7411782"
   },
   "outputs": [],
   "source": [
    "temp = pd.DataFrame(stack_data['OperatingSystem'].dropna().str.split(';').tolist()).stack()\n",
    "temp =  temp.value_counts().sort_values(ascending=False)\n",
    "trace = go.Bar(\n",
    "    x = temp.index,\n",
    "    y = (temp / temp.sum())*100,\n",
    "    marker=dict(\n",
    "        color=['#FFF8DC','#68228B','#1E90FF'],\n",
    "        colorscale = 'Blues',\n",
    "        reversescale = True\n",
    "    ),\n",
    ")\n",
    "data = [trace]\n",
    "layout = go.Layout(\n",
    "    title = \"Top Used Operating system by the developers (%) \",\n",
    "    xaxis=dict(\n",
    "        title='Operating System',\n",
    "        tickfont=dict(\n",
    "            size=14,\n",
    "            color='rgb(107, 107, 107)'\n",
    "        )\n",
    "    ),\n",
    "    yaxis=dict(\n",
    "        title='Count in %',\n",
    "        titlefont=dict(\n",
    "            size=16,\n",
    "            color='rgb(107, 107, 107)'\n",
    "        ),\n",
    "        tickfont=dict(\n",
    "            size=14,\n",
    "            color='rgb(107, 107, 107)'\n",
    "        )\n",
    ")\n",
    ")\n",
    "fig = go.Figure(data=data, layout=layout)\n",
    "py.iplot(fig)"
   ]
  },
  {
   "cell_type": "markdown",
   "metadata": {
    "_uuid": "601d8d67926b6e8481d2fc24ec719f194cf67aab"
   },
   "source": [
    "**Top Used Operating system by the developers :**\n",
    "  * Approx. **50 %** developers are using **Windows**\n",
    "  * Approx. **27 % **developers are using **MacOS**\n",
    "  * Approx. **23 %** developers are using **Linux-based**\n",
    "  * **Only  0.2 %** developers are using **BSD/Unix**"
   ]
  },
  {
   "cell_type": "code",
   "execution_count": null,
   "metadata": {
    "_kg_hide-input": true,
    "_uuid": "556bc362afd0ab1f20a53ebb9553c8dc2e97fec4"
   },
   "outputs": [],
   "source": [
    "temp = pd.DataFrame(stack_data['VersionControl'].dropna().str.split(';').tolist()).stack()\n",
    "cnt_srs =  temp.value_counts().sort_values(ascending=False)\n",
    "trace = go.Bar(\n",
    "    y=cnt_srs.index[::-1],\n",
    "    x=(cnt_srs/cnt_srs.sum() * 100)[::-1],\n",
    "    orientation = 'h',\n",
    "    marker=dict(\n",
    "        color=['#8B7355','#BF3EFF','#FF6103','#FFC125','#8B7355','#BF3EFF','#FF6103','#FFC125'],\n",
    "        colorscale = 'Blues',\n",
    "        reversescale = True\n",
    "    ),\n",
    ")\n",
    "\n",
    "layout = dict(\n",
    "    title='Top version control system developers regularly use (%)',\n",
    "    margin=dict(\n",
    "    l=300,\n",
    ")\n",
    "    )\n",
    "data = [trace]\n",
    "fig = go.Figure(data=data, layout=layout)\n",
    "py.iplot(fig)"
   ]
  },
  {
   "cell_type": "markdown",
   "metadata": {
    "_uuid": "526daca5641f9ea0dd6169018b8a517e3cff8e5f"
   },
   "source": [
    "**Top version control system developers regularly use :**\n",
    "  * Approx. **63 %** developers are using **Git**(**Most popular version control system**)\n",
    "  * Approx. **12 %** developers are using **Subversion**\n",
    "  * Approx. **8 %** developers are using **Team Foundation Version Control**\n",
    "  * Approx **6 %** deveopers are using **Zip file back-ups**"
   ]
  },
  {
   "cell_type": "code",
   "execution_count": null,
   "metadata": {
    "_kg_hide-input": true,
    "_uuid": "47689fa74c2e0dd0142e2c18a67f6324e4b9db36"
   },
   "outputs": [],
   "source": [
    "temp = pd.DataFrame(stack_data['Methodology'].dropna().str.split(';').tolist()).stack()\n",
    "temp =  temp.value_counts().sort_values(ascending=False)\n",
    "trace = go.Bar(\n",
    "    x = temp.index,\n",
    "    y = (temp / temp.sum())*100,\n",
    "    marker=dict(\n",
    "        color=['#FFF8DC','#68228B','#1E90FF','#FFC125','#FF6103','#8EE5EE','#458B00','#FFF8DC','#8B7355','#BF3EFF','#FF6103','#FFC125'],\n",
    "        colorscale = 'Blues',\n",
    "        reversescale = True\n",
    "    ),\n",
    ")\n",
    "data = [trace]\n",
    "layout = go.Layout(\n",
    "    title = \"Top methodologies developers have experience working in (%) \",\n",
    "    xaxis=dict(\n",
    "        title='Methodology',\n",
    "        tickfont=dict(\n",
    "            size=10,\n",
    "            color='rgb(107, 107, 107)'\n",
    "        )\n",
    "    ),\n",
    "    yaxis=dict(\n",
    "        title='Count in %',\n",
    "        titlefont=dict(\n",
    "            size=16,\n",
    "            color='rgb(107, 107, 107)'\n",
    "        ),\n",
    "        tickfont=dict(\n",
    "            size=14,\n",
    "            color='rgb(107, 107, 107)'\n",
    "        )\n",
    ")\n",
    ")\n",
    "fig = go.Figure(data=data, layout=layout)\n",
    "py.iplot(fig)"
   ]
  },
  {
   "cell_type": "markdown",
   "metadata": {
    "_uuid": "e7cbdf1b9db25a04cf192a3cf8f57f0b1813249d"
   },
   "source": [
    "**Top methodologies developers have experience working in :**\n",
    "  * Approx. **33 %** developers experience in **Agile**\n",
    "  * Approx. **24 %** developers experience in **Scrum**\n",
    "  * Approx. **14 %** developers experience in **Kanban**\n",
    "  * Approx. **11 %** developers experience in **Pair programming**"
   ]
  },
  {
   "cell_type": "code",
   "execution_count": null,
   "metadata": {
    "_kg_hide-input": true,
    "_uuid": "57f33c919f909883f9871be9d11d8b2ba44e30d6"
   },
   "outputs": [],
   "source": [
    "temp = stack_data['WakeTime'].value_counts()\n",
    "df = pd.DataFrame({'labels': temp.index,\n",
    "                   'values': temp.values\n",
    "                  })\n",
    "df.iplot(kind='pie',labels='labels',values='values', title='Developers wake up time on working days', hole = 0.5, color = ['#8EE5EE','#458B00','#1E90FF','#030303','#FFC125','#FFF8DC','#8B7355','#BF3EFF','#FF6103','#FFC125'])"
   ]
  },
  {
   "cell_type": "markdown",
   "metadata": {
    "_uuid": "0abffe22069a7afe64366fe7558c8f2c9ad8d332"
   },
   "source": [
    "**Developers wake up time on working days :**\n",
    "  * **29.5 %** developers wake up time : **Between 7 am to 8 am**\n",
    "  * **28.2 %** developers wake up time : **Between 6 am to 7 am**\n",
    "  * **14.7 %** developers wake up time : **Between 8 am to 9 am**\n",
    "  * **12.4 %** developers wake up time : **Between 5 am to 6 am**\n",
    "  * etc."
   ]
  },
  {
   "cell_type": "code",
   "execution_count": null,
   "metadata": {
    "_kg_hide-input": true,
    "_uuid": "9d2c2f99379c7623ac2ad577288fc2ac03aa8aab"
   },
   "outputs": [],
   "source": [
    "temp = stack_data['HoursComputer'].value_counts()\n",
    "df = pd.DataFrame({'labels': temp.index,\n",
    "                   'values': temp.values\n",
    "                  })\n",
    "df.iplot(kind='pie',labels='labels',values='values', title='Developers spend their time in front of desktop or computer on a typical day', hole = 0.5, color = ['#FFC125','#FFF8DC','#8B7355','#BF3EFF','#FF6103','#FFC125'])"
   ]
  },
  {
   "cell_type": "markdown",
   "metadata": {
    "_uuid": "6823bfc7faef4bd7dc8eee95e1efc220337962b2"
   },
   "source": [
    "**Developers spend their time in front of desktop or computer  on a typical day:**\n",
    "  * **52.7 %** developers : **9-12 hours**\n",
    "  * **30.6 %** developers : **5-8 hours**\n",
    "  * **13.2 %** developers : **Over 12 hours**\n",
    "  * **3.26 %** developers :** 1-4 hours**\n",
    "  * **0.25 %** developers : **Less than 1 hour**"
   ]
  },
  {
   "cell_type": "code",
   "execution_count": null,
   "metadata": {
    "_kg_hide-input": true,
    "_uuid": "36d638cc32c704e3a5b37ffe44b30273389d7d8f"
   },
   "outputs": [],
   "source": [
    "temp = stack_data['HoursOutside'].value_counts()\n",
    "df = pd.DataFrame({'labels': temp.index,\n",
    "                   'values': temp.values\n",
    "                  })\n",
    "df.iplot(kind='pie',labels='labels',values='values', title='Developers spend their time outside on a typical day', hole = 0.5, color = ['#BF3EFF','#FF6103','#FFC125','#FFF8DC','#8B7355',])"
   ]
  },
  {
   "cell_type": "markdown",
   "metadata": {
    "_uuid": "db702b4cc9d2cdd9f02c758a22711f2b6dfb21c8"
   },
   "source": [
    "**Developers spend their time outside on a typical day :**\n",
    "  * **38.6 %** developers : **1-2 hours**\n",
    "  * **33.3 %** developers : **30-59 minutes**\n",
    "  * **15.6 %** developers : **Less than 30 minutes**\n",
    "  * **9.98 %** developers :** 3-4 hours**\n",
    "  * **2.53 %** developers : **Over 4 hour**"
   ]
  },
  {
   "cell_type": "code",
   "execution_count": null,
   "metadata": {
    "_kg_hide-input": true,
    "_uuid": "1eaf58a3e5fee970534fe1ac057e33c95e1b9712"
   },
   "outputs": [],
   "source": [
    "temp = stack_data['SkipMeals'].value_counts()\n",
    "df = pd.DataFrame({'labels': temp.index,\n",
    "                   'values': temp.values\n",
    "                  })\n",
    "df.iplot(kind='pie',labels='labels',values='values', title='In a typical week, how many times Developers skip a meal in order to be more productive?', hole = 0.5, color = ['#BF3EFF','#FF6103','#FFC125','#FFF8DC','#8B7355',])"
   ]
  },
  {
   "cell_type": "markdown",
   "metadata": {
    "_uuid": "e8c595be417c8b0e9005f5979a17e181dc8baa71"
   },
   "source": [
    "**In a typical week, how many times Developers skip a meal in order to be more productive? **\n",
    "  * **63.6 %** developers : **Never**\n",
    "  * **25.2 %** developers : **1 - 2 times per week**\n",
    "  * **5.98 %** developers : **3 - 4 times per week**\n",
    "  * **5.15 %** developers : **Daily or almost every day**"
   ]
  },
  {
   "cell_type": "code",
   "execution_count": null,
   "metadata": {
    "_kg_hide-input": true,
    "_uuid": "00d56a01522a769c2cfe3aac97b4739e0bd6285a"
   },
   "outputs": [],
   "source": [
    "temp = pd.DataFrame(stack_data['ErgonomicDevices'].dropna().str.split(';').tolist()).stack()\n",
    "temp =  temp.value_counts().sort_values(ascending=False)\n",
    "trace = go.Bar(\n",
    "    x = temp.index,\n",
    "    y = (temp / temp.sum())*100,\n",
    "    marker=dict(\n",
    "        color=['#FFF8DC','#68228B','#1E90FF','#FFC125',],\n",
    "        colorscale = 'Blues',\n",
    "        reversescale = True\n",
    "    ),\n",
    ")\n",
    "data = [trace]\n",
    "layout = go.Layout(\n",
    "    title = \"Top ergonomic furniture or devices developers use on a regular basis (%) \",\n",
    "    xaxis=dict(\n",
    "        title='Ergonomic furniture or device',\n",
    "        tickfont=dict(\n",
    "            size=14,\n",
    "            color='rgb(107, 107, 107)'\n",
    "        )\n",
    "    ),\n",
    "    yaxis=dict(\n",
    "        title='Count in %',\n",
    "        titlefont=dict(\n",
    "            size=16,\n",
    "            color='rgb(107, 107, 107)'\n",
    "        ),\n",
    "        tickfont=dict(\n",
    "            size=14,\n",
    "            color='rgb(107, 107, 107)'\n",
    "        )\n",
    ")\n",
    ")\n",
    "fig = go.Figure(data=data, layout=layout)\n",
    "py.iplot(fig)"
   ]
  },
  {
   "cell_type": "markdown",
   "metadata": {
    "_uuid": "3cd2f818420d39a79110f8b91d9621e020362e57"
   },
   "source": [
    "**Top ergonomic furniture or devices developers use on a regular basis :**\n",
    "  * **Approx. 38 %** developers use : **Ergonomic Keyboard or mouse**\n",
    "  * **Approx. 37 %** developers use : **Standing desk**\n",
    "  * **Approx. 16 %** developers use : **Wrist/hand supports or braces**\n",
    "  * **Approx. 9 %** developers use : **Fatigue-relieving floor mat**"
   ]
  },
  {
   "cell_type": "code",
   "execution_count": null,
   "metadata": {
    "_kg_hide-input": true,
    "_uuid": "9581613577f4975513638bf6b738ae37f3a9cc30"
   },
   "outputs": [],
   "source": [
    "temp = pd.DataFrame(stack_data['Exercise'].dropna().str.split(';').tolist()).stack()\n",
    "temp =  temp.value_counts().sort_values(ascending=False)\n",
    "trace = go.Bar(\n",
    "    x = temp.index,\n",
    "    y = (temp / temp.sum())*100,\n",
    "    marker=dict(\n",
    "        color=['#BF3EFF','#FF6103','#FFC125','#FFF8DC','#8B7355'],\n",
    "        colorscale = 'Blues',\n",
    "        reversescale = True\n",
    "    ),\n",
    ")\n",
    "data = [trace]\n",
    "layout = go.Layout(\n",
    "    title = \"In a typical week, how many times do developers exercise? (%) \",\n",
    "    xaxis=dict(\n",
    "        title='Number of times',\n",
    "        tickfont=dict(\n",
    "            size=14,\n",
    "            color='rgb(107, 107, 107)'\n",
    "        )\n",
    "    ),\n",
    "    yaxis=dict(\n",
    "        title='Count in %',\n",
    "        titlefont=dict(\n",
    "            size=16,\n",
    "            color='rgb(107, 107, 107)'\n",
    "        ),\n",
    "        tickfont=dict(\n",
    "            size=14,\n",
    "            color='rgb(107, 107, 107)'\n",
    "        )\n",
    ")\n",
    ")\n",
    "fig = go.Figure(data=data, layout=layout)\n",
    "py.iplot(fig)"
   ]
  },
  {
   "cell_type": "markdown",
   "metadata": {
    "_uuid": "165348063533fe3612375650098e8d9faefbd6ca"
   },
   "source": [
    "**In a typical week, how many times do developers exercise? **\n",
    "  * **Approx. 38 %** developers said : **I don't typically excercise**\n",
    "  * **Approx. 29 %** developers said : **1 - 2 times per week**\n",
    "  * **Approx. 20 %** developers said : **3 - 4 times per week**\n",
    "  * **Approx. 14 %** developers said : **Daily or almost every day**"
   ]
  },
  {
   "cell_type": "code",
   "execution_count": null,
   "metadata": {
    "_kg_hide-input": true,
    "_uuid": "ab35c77e9d532ea4b2a994d24a090579f5180e83"
   },
   "outputs": [],
   "source": [
    "temp = pd.DataFrame(stack_data['Age'].dropna().str.split(';').tolist()).stack()\n",
    "temp =  temp.value_counts().sort_values(ascending=False)\n",
    "trace = go.Bar(\n",
    "    x = temp.index,\n",
    "    y = (temp / temp.sum())*100,\n",
    "    marker=dict(\n",
    "        color=['#68228B','#1E90FF','#FFC125','#BF3EFF','#FF6103','#FFC125','#FFF8DC','#8B7355'],\n",
    "        colorscale = 'Blues',\n",
    "        reversescale = True\n",
    "    ),\n",
    ")\n",
    "data = [trace]\n",
    "layout = go.Layout(\n",
    "    title = \"Age of the developers of participated in the survey (%) \",\n",
    "    xaxis=dict(\n",
    "        title='Age of the developers',\n",
    "        tickfont=dict(\n",
    "            size=12,\n",
    "            color='rgb(107, 107, 107)'\n",
    "        )\n",
    "    ),\n",
    "    yaxis=dict(\n",
    "        title='Count in %',\n",
    "        titlefont=dict(\n",
    "            size=16,\n",
    "            color='rgb(107, 107, 107)'\n",
    "        ),\n",
    "        tickfont=dict(\n",
    "            size=14,\n",
    "            color='rgb(107, 107, 107)'\n",
    "        )\n",
    ")\n",
    ")\n",
    "fig = go.Figure(data=data, layout=layout)\n",
    "py.iplot(fig)"
   ]
  },
  {
   "cell_type": "markdown",
   "metadata": {
    "_uuid": "e37f6e520d98879f219abe1fe1b63fb34540df85"
   },
   "source": [
    "**Age of the developers of participated in the survey :**\n",
    "  * **Apprx. 49 %** developers : **25 - 34 years old**\n",
    "  * **Apprx. 24 %** developers : **18- 24 years old**\n",
    "  * ** Apprx. 18 %** developers : **35 - 44 years old**\n",
    "  * **Apprx. 5 %** developers : **45 - 54 years old**\n",
    "  * **Apprx. 3 %** developers : **under 18 years old**\n",
    "  * **Apprx. 1 %** developers : **55 - 64 years old**\n",
    "  * **Apprx. 0.2 %** developers : **65 years or older**"
   ]
  },
  {
   "cell_type": "code",
   "execution_count": null,
   "metadata": {
    "_kg_hide-input": true,
    "_uuid": "0f8a192a1c0f6e11b0480a920be8855dee3effbd"
   },
   "outputs": [],
   "source": [
    "temp = stack_data[\"NumberMonitors\"].dropna().value_counts()\n",
    "df = pd.DataFrame({'labels': temp.index,\n",
    "                   'values': temp.values\n",
    "                  })\n",
    "df.iplot(kind='pie',labels='labels',values='values', title='Number of monitors are set up at developers workstation', hole = 0.5, color = ['#BF3EFF','#FF6103','#FFC125','#FFF8DC','#8B7355',])"
   ]
  },
  {
   "cell_type": "markdown",
   "metadata": {
    "_uuid": "cfde3d8b218a88262b1b0eebe1677ddaf4f5c751"
   },
   "source": [
    "**Most **of the developers having **2 monitor** at their workstation followed by **1 monitor**."
   ]
  },
  {
   "cell_type": "code",
   "execution_count": null,
   "metadata": {
    "_kg_hide-input": true,
    "_uuid": "30bbdecdf12a91815f5541eab61ded58b0e89d8f"
   },
   "outputs": [],
   "source": [
    "temp = stack_data[\"CheckInCode\"].dropna().value_counts()\n",
    "df = pd.DataFrame({'labels': temp.index,\n",
    "                   'values': temp.values\n",
    "                  })\n",
    "df.iplot(kind='pie',labels='labels',values='values', title='Over the last year, how often have developers checked-in or committed code?', hole = 0.5, color = ['#FFF8DC','#8B7355','#BF3EFF','#FF6103','#FFC125','#0000FF'])"
   ]
  },
  {
   "cell_type": "markdown",
   "metadata": {
    "_uuid": "0d64fc1b762fa9ec7bc97827854ac245865d17f0"
   },
   "source": [
    "**Over the last year, how often have developers checked-in or committed code? **\n",
    "  * ** 60. 2 % developers :** Multiples times per day **(This is interesting)**\n",
    "  * ** 19.1 % developers :** Few times per week\n",
    "  * ** 9.1 % developers : **Once a day\n",
    "  * ** 6.89 % developers :** Weekly or few times per month\n",
    "  * ** 3.23 % developers :** Less than once per month\n",
    "  * ** Only 1.48 % developers :** Never"
   ]
  },
  {
   "cell_type": "code",
   "execution_count": null,
   "metadata": {
    "_kg_hide-input": true,
    "_uuid": "7fbba80f327a4421f0b5636fa46965e2f8fe7d2e"
   },
   "outputs": [],
   "source": [
    "temp = pd.DataFrame(stack_data['Gender'].dropna().str.split(';').tolist()).stack()\n",
    "temp =  temp.value_counts().sort_values(ascending=False)\n",
    "df = pd.DataFrame({'labels': temp.index,\n",
    "                   'values': temp.values\n",
    "                  })\n",
    "df.iplot(kind='pie',labels='labels',values='values', title='Gender', hole = 0.5, color = ['#FFF8DC','#8B7355','#BF3EFF','#FF6103','#FFC125','#0000FF'])"
   ]
  },
  {
   "cell_type": "markdown",
   "metadata": {
    "_uuid": "cdc97134649f288d8836f6db62c9d5479969d637"
   },
   "source": [
    "**Gender Analysis who participated in the survey :**\n",
    "  * 91.7 % developers : **Male**\n",
    "  * 6.76 % developers : **Female**\n",
    "  * 0.91 % developers : **Non-binary, genderqueer or gender non-conforming**\n",
    "  * 0.65 % developers : **Transgender**"
   ]
  },
  {
   "cell_type": "code",
   "execution_count": null,
   "metadata": {
    "_kg_hide-input": true,
    "_uuid": "93b73290beda27ec9c77b8513b5cd1c175ab3d96"
   },
   "outputs": [],
   "source": [
    "temp = pd.DataFrame(stack_data['SexualOrientation'].dropna().str.split(';').tolist()).stack()\n",
    "temp =  temp.value_counts().sort_values(ascending=False)\n",
    "df = pd.DataFrame({'labels': temp.index,\n",
    "                   'values': temp.values\n",
    "                  })\n",
    "df.iplot(kind='pie',labels='labels',values='values', title='Sexual Orientation', hole = 0.5, color = ['#FF6103','#FFC125','#0000FF','#FFF8DC','#8B7355','#BF3EFF',])"
   ]
  },
  {
   "cell_type": "markdown",
   "metadata": {
    "_uuid": "c46e77495401308471bb2adbc3bc64d31e1412b4"
   },
   "source": [
    "**Sexual Orientation of developers :**\n",
    "  * 91.6 % developers : **Straight or heterosexual**\n",
    "  * 4.21 % developers : **Bisexual or Queer**\n",
    "  * 2.31 % developers : **Gay or Lesbian**\n",
    "  * 1.86 % developers : **A sexual**"
   ]
  },
  {
   "cell_type": "code",
   "execution_count": null,
   "metadata": {
    "_kg_hide-input": true,
    "_uuid": "45e17fd2d32306a331922378512a7aa34809efd0"
   },
   "outputs": [],
   "source": [
    "temp = stack_data[\"Exercise\"].value_counts()\n",
    "#print(temp.values)\n",
    "temp_y0 = []\n",
    "temp_y1 = []\n",
    "for val in temp.index:\n",
    "    temp_y1.append(np.sum(stack_data[\"Gender\"][stack_data[\"Exercise\"]==val] == 'Male'))\n",
    "    temp_y0.append(np.sum(stack_data[\"Gender\"][stack_data[\"Exercise\"]==val] == 'Female'))    \n",
    "trace1 = go.Bar(\n",
    "    x = temp.index,\n",
    "    y = (temp_y1 / temp.sum()) * 100,\n",
    "    name='Male'\n",
    ")\n",
    "trace2 = go.Bar(\n",
    "    x = temp.index,\n",
    "    y = (temp_y0 / temp.sum()) * 100, \n",
    "    name='Female'\n",
    ")\n",
    "\n",
    "data = [trace1, trace2]\n",
    "layout = go.Layout(\n",
    "    title = \"Number of times developers excercise(Male V.S. Female) (%)\",\n",
    "    barmode='stack',\n",
    "    width = 1000,\n",
    "    xaxis=dict(\n",
    "        title='Number of times',\n",
    "        tickfont=dict(\n",
    "            size=14,\n",
    "            color='rgb(107, 107, 107)'\n",
    "        )\n",
    "    ),\n",
    "    yaxis=dict(\n",
    "        title='Count in %',\n",
    "        titlefont=dict(\n",
    "            size=16,\n",
    "            color='rgb(107, 107, 107)'\n",
    "        ),\n",
    "        tickfont=dict(\n",
    "            size=14,\n",
    "            color='rgb(107, 107, 107)'\n",
    "        )\n",
    ")\n",
    ")\n",
    "\n",
    "fig = go.Figure(data=data, layout=layout)\n",
    "iplot(fig)"
   ]
  },
  {
   "cell_type": "code",
   "execution_count": null,
   "metadata": {
    "_kg_hide-input": true,
    "_uuid": "694f596d9fa03b00a05b08983a8753d0bed6c179"
   },
   "outputs": [],
   "source": [
    "temp = stack_data[\"Age\"].value_counts()\n",
    "#print(temp.values)\n",
    "temp_y0 = []\n",
    "temp_y1 = []\n",
    "for val in temp.index:\n",
    "    temp_y1.append(np.sum(stack_data[\"Gender\"][stack_data[\"Age\"]==val] == 'Male'))\n",
    "    temp_y0.append(np.sum(stack_data[\"Gender\"][stack_data[\"Age\"]==val] == 'Female'))    \n",
    "trace1 = go.Bar(\n",
    "    x = temp.index,\n",
    "    y = (temp_y1 / temp.sum()) * 100,\n",
    "    name='Male'\n",
    ")\n",
    "trace2 = go.Bar(\n",
    "    x = temp.index,\n",
    "    y = (temp_y0 / temp.sum()) * 100, \n",
    "    name='Female'\n",
    ")\n",
    "\n",
    "data = [trace1, trace2]\n",
    "layout = go.Layout(\n",
    "    title = \"Age of the developers who participated in the survey(Male V.S. Female) (%)\",\n",
    "    barmode='stack',\n",
    "    width = 1000,\n",
    "    xaxis=dict(\n",
    "        title='Age',\n",
    "        tickfont=dict(\n",
    "            size=12,\n",
    "            color='rgb(107, 107, 107)'\n",
    "        )\n",
    "    ),\n",
    "    yaxis=dict(\n",
    "        title='Count in %',\n",
    "        titlefont=dict(\n",
    "            size=16,\n",
    "            color='rgb(107, 107, 107)'\n",
    "        ),\n",
    "        tickfont=dict(\n",
    "            size=14,\n",
    "            color='rgb(107, 107, 107)'\n",
    "        )\n",
    ")\n",
    ")\n",
    "\n",
    "fig = go.Figure(data=data, layout=layout)\n",
    "iplot(fig)"
   ]
  },
  {
   "cell_type": "code",
   "execution_count": null,
   "metadata": {
    "_kg_hide-input": true,
    "_uuid": "fd0376e1dc6c59c24d064dfe1c9c83dcbe4f58cd"
   },
   "outputs": [],
   "source": [
    "temp = stack_data[\"FormalEducation\"].value_counts()\n",
    "#print(temp.values)\n",
    "temp_y0 = []\n",
    "temp_y1 = []\n",
    "for val in temp.index:\n",
    "    temp_y1.append(np.sum(stack_data[\"Gender\"][stack_data[\"FormalEducation\"]==val] == 'Male'))\n",
    "    temp_y0.append(np.sum(stack_data[\"Gender\"][stack_data[\"FormalEducation\"]==val] == 'Female'))    \n",
    "trace1 = go.Bar(\n",
    "    x = temp.index,\n",
    "    y = (temp_y1 / temp.sum()) * 100,\n",
    "    name='Male'\n",
    ")\n",
    "trace2 = go.Bar(\n",
    "    x = temp.index,\n",
    "    y = (temp_y0 / temp.sum()) * 100, \n",
    "    name='Female'\n",
    ")\n",
    "\n",
    "data = [trace1, trace2]\n",
    "layout = go.Layout(\n",
    "    title = \"Fromal Education of developers(Male V.S. Female) (%)\",\n",
    "    barmode='stack',\n",
    "    width = 1000,\n",
    "    xaxis=dict(\n",
    "        title='Fromal Education of developers',\n",
    "        tickfont=dict(\n",
    "            size=8,\n",
    "            color='rgb(107, 107, 107)'\n",
    "        )\n",
    "    ),\n",
    "    yaxis=dict(\n",
    "        title='Count in %',\n",
    "        titlefont=dict(\n",
    "            size=16,\n",
    "            color='rgb(107, 107, 107)'\n",
    "        ),\n",
    "        tickfont=dict(\n",
    "            size=14,\n",
    "            color='rgb(107, 107, 107)'\n",
    "        )\n",
    ")\n",
    ")\n",
    "\n",
    "fig = go.Figure(data=data, layout=layout)\n",
    "iplot(fig)"
   ]
  },
  {
   "cell_type": "code",
   "execution_count": null,
   "metadata": {
    "_kg_hide-input": true,
    "_uuid": "d57f8d14b8db60edd1f1280c77473efb913bb722",
    "scrolled": false
   },
   "outputs": [],
   "source": [
    "temp = stack_data.set_index(['ConvertedSalary','Gender']).DevType.str.split(';', expand=True).stack().reset_index(['ConvertedSalary','Gender'])\n",
    "temp.columns = ['ConvertedSalary','Gender','job']\n",
    "temp = temp.set_index(['ConvertedSalary','job']).Gender.str.split(';', expand=True).stack().reset_index(['ConvertedSalary','job'])\n",
    "temp.columns = ['MedianSalary','job','Gender']\n",
    "temp = temp.groupby(['Gender','job'])['MedianSalary'].median().sort_values(ascending = False).reset_index()\n",
    "temp1 = temp[temp.Gender == 'Male']\n",
    "temp2 = temp[temp.Gender == 'Female']\n",
    "trace1 = go.Bar(\n",
    "    x = temp1.job,\n",
    "    y = temp1.MedianSalary,\n",
    "    name='Male'\n",
    ")\n",
    "trace2 = go.Bar(\n",
    "    x = temp2.job,\n",
    "    y = temp2.MedianSalary,\n",
    "    name='Female'\n",
    ")\n",
    "\n",
    "data = [trace1, trace2]\n",
    "layout = go.Layout(\n",
    "    title = \"Top DevType with Median Salary(Male V.S. Female)\",\n",
    "    barmode='stack',\n",
    "    width = 1000,\n",
    "    xaxis=dict(\n",
    "        title='DevType',\n",
    "        tickfont=dict(\n",
    "            size=8,\n",
    "            color='rgb(107, 107, 107)'\n",
    "        )\n",
    "    ),\n",
    "    yaxis=dict(\n",
    "        title='Median Salary ($)',\n",
    "        titlefont=dict(\n",
    "            size=16,\n",
    "            color='rgb(107, 107, 107)'\n",
    "        ),\n",
    "        tickfont=dict(\n",
    "            size=14,\n",
    "            color='rgb(107, 107, 107)'\n",
    "        )\n",
    ")\n",
    ")\n",
    "\n",
    "fig = go.Figure(data=data, layout=layout)\n",
    "iplot(fig)"
   ]
  },
  {
   "cell_type": "markdown",
   "metadata": {
    "_uuid": "86c0c4bc2d48bb6ef690fecf9b80eb83720f6da9",
    "collapsed": true
   },
   "source": [
    "**Top DevType with Median Salary(Male V.S. Female) : **\n",
    "  * Female having more median salary than Male in these DevType :\n",
    "    * **DevOps specialist**\n",
    "    * **C-suite executive (CEO, CTO etc.)**\n",
    "    * **Full Stack developer**\n",
    "    * **Educator or acadmic research**"
   ]
  },
  {
   "cell_type": "code",
   "execution_count": null,
   "metadata": {
    "_kg_hide-input": true,
    "_uuid": "e5228223ba0a94a091354e3a23c8800b684183cc"
   },
   "outputs": [],
   "source": [
    "temp = stack_data.groupby('Country').count().reset_index()\n",
    "respondent_less_than_500 = list(temp[temp['Respondent']<=500]['Country'])\n",
    "def func(x):\n",
    "    if x not in respondent_less_than_500:\n",
    "        return True\n",
    "    return False\n",
    "copy = stack_data[stack_data['Country'].apply(func)]\n",
    "temp = copy.set_index(['ConvertedSalary','Gender']).Country.str.split(';', expand=True).stack().reset_index(['ConvertedSalary','Gender'])\n",
    "temp.columns = ['ConvertedSalary','Gender','Country']\n",
    "temp = temp.set_index(['ConvertedSalary','Country']).Gender.str.split(';', expand=True).stack().reset_index(['ConvertedSalary','Country'])\n",
    "temp.columns = ['MedianSalary','Country','Gender']\n",
    "temp = temp.groupby(['Gender','Country'])['MedianSalary'].median().sort_values(ascending = False).reset_index()\n",
    "#temp.head()\n",
    "temp1 = temp[temp.Gender == 'Male']\n",
    "temp2 = temp[temp.Gender == 'Female']\n",
    "trace1 = go.Bar(\n",
    "    x = temp1.Country,\n",
    "    y = temp1.MedianSalary,\n",
    "    name='Male'\n",
    ")\n",
    "trace2 = go.Bar(\n",
    "    x = temp2.Country,\n",
    "    y = temp2.MedianSalary,\n",
    "    name='Female'\n",
    ")\n",
    "\n",
    "data = [trace1, trace2]\n",
    "layout = go.Layout(\n",
    "    title = \"Top Countries where respondents are > 500 with Median Salary(Male V.S. Female)\",\n",
    "    barmode='stack',\n",
    "    width = 1000,\n",
    "    xaxis=dict(\n",
    "        title='Country Name',\n",
    "        tickfont=dict(\n",
    "            size=10,\n",
    "            color='rgb(107, 107, 107)'\n",
    "        )\n",
    "    ),\n",
    "    yaxis=dict(\n",
    "        title='Median Salary ($)',\n",
    "        titlefont=dict(\n",
    "            size=16,\n",
    "            color='rgb(107, 107, 107)'\n",
    "        ),\n",
    "        tickfont=dict(\n",
    "            size=14,\n",
    "            color='rgb(107, 107, 107)'\n",
    "        )\n",
    ")\n",
    ")\n",
    "\n",
    "fig = go.Figure(data=data, layout=layout)\n",
    "iplot(fig)"
   ]
  },
  {
   "cell_type": "markdown",
   "metadata": {
    "_uuid": "c63ed4a25a2f610bf50ab57c19c470900422b54d"
   },
   "source": [
    "**Top Countries where respondents are > 500 with Median Salary(Male V.S. Female) :**\n",
    "  * Female having more median salary than Male : **China**\n",
    "  * Female and Male having equal median salary : **Brazil**"
   ]
  },
  {
   "cell_type": "code",
   "execution_count": null,
   "metadata": {
    "_kg_hide-input": true,
    "_uuid": "17931ac4c91c3aea2da1be9d829bc903c9eabded"
   },
   "outputs": [],
   "source": [
    "print(\"Overall Developers Annual Salary\\n\",stack_data['ConvertedSalary'].dropna().describe())\n",
    "print(\"Male Developers Annual Salary\\n\",stack_data[stack_data.Gender == 'Male']['ConvertedSalary'].dropna().describe())\n",
    "print(\"Female Developers Annual Salary\\n\",stack_data[stack_data.Gender == 'Female']['ConvertedSalary'].dropna().describe())\n",
    "print(\"Overall Developers Annual Median Salary\\n\",stack_data['ConvertedSalary'].dropna().median())\n",
    "print(\"Male Developers Annual Median Salary\\n\",stack_data[stack_data.Gender == 'Male']['ConvertedSalary'].dropna().median())\n",
    "print(\"Female Developers Annual Median Salary\\n\",stack_data[stack_data.Gender == 'Female']['ConvertedSalary'].dropna().median())"
   ]
  },
  {
   "cell_type": "markdown",
   "metadata": {
    "_uuid": "c88c99500b4901290b0d9ea731fcdc4e6c08e852"
   },
   "source": [
    "**Developers Annual Salary :** \n",
    "  * **Overall Developers Annual Salary :**  **Minimum Salary =** \\$ 0,  **Maximum Salary =**  \\$ 20,00,000, **Mean Salary =** \\$ 95,780.86, **Median Salary =** \\$ 55,075 \n",
    "  * **Male Developers Annual Salary :**  **Minimum Salary =** \\$ 0,  **Maximum Salary =**  \\$ 20,00,000, **Mean Salary =** \\$ 96,477.07 , **Median Salary =** \\$ 56,100 \n",
    "  * **Female Developers Annual Salary :**  **Minimum Salary =** \\$ 0,  **Maximum Salary =**  \\$ 20,00,000, **Mean Salary =** \\$ 88,251.29, **Median Salary =** \\$ 54,336 \n",
    "\n",
    "  "
   ]
  },
  {
   "cell_type": "code",
   "execution_count": null,
   "metadata": {
    "_kg_hide-input": true,
    "_uuid": "de56c72257c8729c2071fa39492e5c9ce4b6a26f",
    "scrolled": false
   },
   "outputs": [],
   "source": [
    "temp = stack_data.groupby('Country').count().reset_index()\n",
    "respondent_less_than_500 = list(temp[temp['Respondent']<=500]['Country'])\n",
    "def func(x):\n",
    "    if x not in respondent_less_than_500:\n",
    "        return True\n",
    "    return False\n",
    "copy = stack_data[stack_data['Country'].apply(func)]\n",
    "#copy['Country'].head()\n",
    "temp = copy[['Country','ConvertedSalary']].groupby('Country')['ConvertedSalary'].median().sort_values(ascending = False)\n",
    "temp1 = temp.head(20)\n",
    "#print(temp)\n",
    "temp1.iplot(kind='bar', xTitle = 'Country name', yTitle = \"Median Salary ($)\", title = 'Top countries where respondents are > 500 with highest Median Salary in USD ', color='green')"
   ]
  },
  {
   "cell_type": "code",
   "execution_count": null,
   "metadata": {
    "_kg_hide-input": true,
    "_uuid": "f4e0c599cceb828e88b7b50bbef819ca91142d77"
   },
   "outputs": [],
   "source": [
    "temp = copy[['Country','ConvertedSalary']].groupby('Country')['ConvertedSalary'].median().sort_values(ascending = False)\n",
    "data = [dict(\n",
    "        type='choropleth',\n",
    "        locations= temp.index,\n",
    "        locationmode='country names',\n",
    "        z=temp.values,\n",
    "        text=temp.index,\n",
    "        colorscale='Red',\n",
    "        marker=dict(line=dict(width=0.7)),\n",
    "        colorbar=dict(autotick=False, tickprefix='', title='Median Salary ($)'),\n",
    ")]\n",
    "layout = dict(title = 'Top countries where respondents are > 500 with highest Median Salary in USD',\n",
    "             geo = dict(\n",
    "            showframe = False,\n",
    "            #showcoastlines = False,\n",
    "            projection = dict(\n",
    "                type = 'Mercatorodes'\n",
    "            )\n",
    "        ),)\n",
    "fig = dict(data=data, layout=layout)\n",
    "py.iplot(fig, validate=False)"
   ]
  },
  {
   "cell_type": "markdown",
   "metadata": {
    "_uuid": "88195147edb6055823e24c715f5bc08bf388ed2f"
   },
   "source": [
    "**Top 5 countries where respondents are > 500 with highest Median Salary in USD :**\n",
    "  * **United states :** \\$ 100K\n",
    "  * **Switzerland :** \\$ 93,842\n",
    "  * **Israel :** \\$ 90,642\n",
    "  * **Norway :** \\$ 82,890\n",
    "  * **Denmark :** \\$ 82,836\n"
   ]
  },
  {
   "cell_type": "code",
   "execution_count": null,
   "metadata": {
    "_kg_hide-input": true,
    "_uuid": "d25e956ca80ed8fd8fd6e8689854fb75662dc522",
    "scrolled": false
   },
   "outputs": [],
   "source": [
    "india = stack_data[stack_data['Country'] == \"India\"]\n",
    "india = india.set_index('ConvertedSalary').DevType.str.split(';', expand=True).stack().reset_index('ConvertedSalary')\n",
    "india.columns = ['ConvertedSalary','job']\n",
    "india = india[['ConvertedSalary','job']].groupby('job')['ConvertedSalary'].median().sort_values(ascending = False).head(15)\n",
    "\n",
    "usa = stack_data[stack_data['Country'] == \"United States\"]\n",
    "usa = usa.set_index('ConvertedSalary').DevType.str.split(';', expand=True).stack().reset_index('ConvertedSalary')\n",
    "usa.columns = ['ConvertedSalary','job']\n",
    "usa = usa[['ConvertedSalary','job']].groupby('job')['ConvertedSalary'].median().sort_values(ascending = False).head(15)\n",
    "\n",
    "globl = stack_data.set_index('ConvertedSalary').DevType.str.split(';', expand=True).stack().reset_index('ConvertedSalary')\n",
    "globl.columns = ['ConvertedSalary','job']\n",
    "globl = globl[['ConvertedSalary','job']].groupby('job')['ConvertedSalary'].median().sort_values(ascending = False).head(15)\n",
    "\n",
    "trace1 = go.Bar(\n",
    "    y=india.index[::-1],\n",
    "    x=india.values[::-1],\n",
    "    orientation = 'h',\n",
    ")\n",
    "\n",
    "trace2 = go.Bar(\n",
    "    y=usa.index[::-1],\n",
    "    x=usa.values[::-1],\n",
    "    orientation = 'h',\n",
    ")\n",
    "\n",
    "trace3 = go.Bar(\n",
    "    y=globl.index[::-1],\n",
    "    x=globl.values[::-1],\n",
    "    orientation = 'h',\n",
    ")\n",
    "fig = tools.make_subplots(rows=1, cols=3, subplot_titles=('India',\n",
    "                                                          'USA',\n",
    "                                                          'Global'))\n",
    "                                                          \n",
    "\n",
    "fig.append_trace(trace1, 1, 1)\n",
    "fig.append_trace(trace2, 1, 2)\n",
    "fig.append_trace(trace3, 1, 3)\n",
    "                          \n",
    "# fig['layout']['xaxis1'].update(title='')\n",
    "# fig['layout']['xaxis2'].update(title='')\n",
    "# fig['layout']['xaxis3'].update(title='')\n",
    "\n",
    "fig['layout']['yaxis1'].update(title='DevType')\n",
    "                          \n",
    "fig['layout'].update(height=400, width=1500, title='Top DevType with Median Salary in ($)',margin=dict(l=300,))\n",
    "iplot(fig, filename='simple-subplot')"
   ]
  },
  {
   "cell_type": "markdown",
   "metadata": {
    "_uuid": "840c99b875c8a641275bf397cc7a3b936099555c"
   },
   "source": [
    "**Top 5 DevType with highest median salary Globally in USD :**\n",
    "  * **Engineering manager :** \\$ 88,573\n",
    "  * **DevOps specialist :** \\$ 72,469\n",
    "  * **C-suite executive(CEO, CTO) :** \\$ 69,244\n",
    "  * **Product manager : ** \\$ 63,174\n",
    "  * **Data scientist or machine learning specialist :** \\$ 60,000\n",
    "* Thea bove Top 5 Deytype with highest median salary  are same in **India**, **USA** and **Globally**. Only Devops specialist and C-suite executive are interchangable but in india  and USA are same."
   ]
  },
  {
   "cell_type": "code",
   "execution_count": null,
   "metadata": {
    "_kg_hide-input": true,
    "_uuid": "e89fa706c099b353f9ee7c8b4565af101624f8f6"
   },
   "outputs": [],
   "source": [
    "df = stack_data.set_index(['YearsCodingProf','ConvertedSalary']).DevType.str.split(';', expand=True).stack().reset_index(['YearsCodingProf','ConvertedSalary'])\n",
    "df.columns = ['YearsCodingProf','Salary','jobTitle']\n",
    "df['YearsCodingProf'] = df['YearsCodingProf'].astype('category')\n",
    "df['YearsCodingProf'].cat.reorder_categories(['0-2 years','3-5 years','6-8 years', '9-11 years', '12-14 years', '15-17 years', '18-20 years', \n",
    "                                            '21-23 years',  '24-26 years','27-29 years', '30 or more years'], inplace=True)\n",
    " \n",
    "jobtitle = ['Full-stack developer', 'Database administrator',\n",
    "       'DevOps specialist', 'System administrator', 'Engineering manager',\n",
    "       'Data or business analyst',\n",
    "       'Desktop or enterprise applications developer',\n",
    "       'Game or graphics developer', 'QA or test developer', 'Student',\n",
    "       'Back-end developer', 'Front-end developer', 'Designer',\n",
    "       'C-suite executive (CEO, CTO, etc.)', 'Mobile developer',\n",
    "       'Data scientist or machine learning specialist',\n",
    "       'Marketing or sales professional', 'Product manager',\n",
    "       'Embedded applications or devices developer',\n",
    "       'Educator or academic researcher']\n",
    "    \n",
    "fig = {\n",
    "    'data': [\n",
    "        {\n",
    "            'x': df[df['jobTitle']==devtypes].groupby('YearsCodingProf').agg({'Salary' : 'median'}).sort_values(by = 'YearsCodingProf').reset_index()['YearsCodingProf'],\n",
    "            'y': df[df['jobTitle']==devtypes].groupby('YearsCodingProf').agg({'Salary' : 'median'}).sort_values(by = 'YearsCodingProf').reset_index()['Salary'],\n",
    "            'name': devtypes, 'mode': 'line',\n",
    "        } for devtypes in jobtitle\n",
    "    ],\n",
    "    'layout': {\n",
    "        'title' : 'DevTypes V.S. years (developers coded professionally) with Median Salary ($)',\n",
    "        'xaxis': {'title': 'Years experience (Developers coded professionally)'},\n",
    "        'yaxis': {'title': \"Median Salary ($)\"}\n",
    "    }\n",
    "}\n",
    "py.iplot(fig)"
   ]
  },
  {
   "cell_type": "code",
   "execution_count": null,
   "metadata": {
    "_kg_hide-input": true,
    "_uuid": "765801f03c0b1dd576dfeda2690999c08c008a88"
   },
   "outputs": [],
   "source": [
    "df = stack_data.set_index(['YearsCodingProf','ConvertedSalary']).Gender.str.split(';', expand=True).stack().reset_index(['YearsCodingProf','ConvertedSalary'])\n",
    "df.columns = ['YearsCodingProf','Salary','gender']\n",
    "df['YearsCodingProf'] = df['YearsCodingProf'].astype('category')\n",
    "df['YearsCodingProf'].cat.reorder_categories(['0-2 years','3-5 years','6-8 years', '9-11 years', '12-14 years', '15-17 years', '18-20 years', \n",
    "                                            '21-23 years',  '24-26 years','27-29 years', '30 or more years'], inplace=True)\n",
    "gndr = ['Male', 'Female', 'Transgender','Non-binary, genderqueer, or gender non-conforming']\n",
    "fig = {\n",
    "    'data': [\n",
    "        {\n",
    "            'x': df[df['gender']==gr].groupby('YearsCodingProf').agg({'Salary' : 'median'}).sort_values(by = 'YearsCodingProf').reset_index()['YearsCodingProf'],\n",
    "            'y': df[df['gender']==gr].groupby('YearsCodingProf').agg({'Salary' : 'median'}).sort_values(by = 'YearsCodingProf').reset_index()['Salary'],\n",
    "            'name': gr, 'mode': 'line',\n",
    "        } for gr in gndr\n",
    "    ],\n",
    "    'layout': {\n",
    "        'title' : 'Gender V.S. years experience (developers coded professionally) with Median Salary ($)',\n",
    "        'xaxis': {'title': 'Years experience (Developers coded professionally)'},\n",
    "        'yaxis': {'title': \"Median Salary ($)\"}\n",
    "    }\n",
    "}\n",
    "py.iplot(fig)\n"
   ]
  },
  {
   "cell_type": "code",
   "execution_count": null,
   "metadata": {
    "_kg_hide-input": true,
    "_uuid": "2972f2d252cec4be04814bcd7766bde17363347c"
   },
   "outputs": [],
   "source": [
    "df = stack_data.set_index(['YearsCodingProf','ConvertedSalary']).LanguageWorkedWith.str.split(';', expand=True).stack().reset_index(['YearsCodingProf','ConvertedSalary'])\n",
    "df.columns = ['YearsCodingProf','Salary','language']\n",
    "df['YearsCodingProf'] = df['YearsCodingProf'].astype('category')\n",
    "df['YearsCodingProf'].cat.reorder_categories(['0-2 years','3-5 years','6-8 years', '9-11 years', '12-14 years', '15-17 years', '18-20 years', \n",
    "                                            '21-23 years',  '24-26 years','27-29 years', '30 or more years'], inplace=True)\n",
    "gndr = ['Python','R','JavaScript','SQL','C++','C','Go','Scala','HTML','CSS','Bash/Shell','C#','PHP','Ruby','Swift','Matlab','TypeScript','Assembly','Objective-C','VB.NET']\n",
    "fig = {\n",
    "    'data': [\n",
    "        {\n",
    "            'x': df[df['language']==gr].groupby('YearsCodingProf').agg({'Salary' : 'median'}).sort_values(by = 'YearsCodingProf').reset_index()['YearsCodingProf'],\n",
    "            'y': df[df['language']==gr].groupby('YearsCodingProf').agg({'Salary' : 'median'}).sort_values(by = 'YearsCodingProf').reset_index()['Salary'],\n",
    "            'name': gr, 'mode': 'line',\n",
    "        } for gr in gndr\n",
    "    ],\n",
    "    'layout': {\n",
    "        'title' : 'Language V.S. years experience (developers coded professionally) with Median Salary ($)',\n",
    "        'xaxis': {'title': 'Years experience (Developers coded professionally)'},\n",
    "        'yaxis': {'title': \"Median Salary ($)\"}\n",
    "    }\n",
    "}\n",
    "py.iplot(fig)"
   ]
  },
  {
   "cell_type": "code",
   "execution_count": null,
   "metadata": {
    "_kg_hide-input": true,
    "_uuid": "4c7ee8bc26fdc0f783acd84642851846ad5da622",
    "scrolled": true
   },
   "outputs": [],
   "source": [
    "df = stack_data.set_index(['YearsCodingProf','ConvertedSalary']).FrameworkWorkedWith.str.split(';', expand=True).stack().reset_index(['YearsCodingProf','ConvertedSalary'])\n",
    "df.columns = ['YearsCodingProf','Salary','Framework']\n",
    "df['YearsCodingProf'] = df['YearsCodingProf'].astype('category')\n",
    "df['YearsCodingProf'].cat.reorder_categories(['0-2 years','3-5 years','6-8 years', '9-11 years', '12-14 years', '15-17 years', '18-20 years', \n",
    "                                            '21-23 years',  '24-26 years','27-29 years', '30 or more years'], inplace=True)\n",
    "gndr = ['Django', 'React', 'Angular', 'Node.js', 'Hadoop', 'Spark','Spring', '.NET Core', 'Cordova', 'Xamarin', 'TensorFlow','Torch/PyTorch']\n",
    "fig = {\n",
    "    'data': [\n",
    "        {\n",
    "            'x': df[df['Framework']==gr].groupby('YearsCodingProf').agg({'Salary' : 'median'}).sort_values(by = 'YearsCodingProf').reset_index()['YearsCodingProf'],\n",
    "            'y': df[df['Framework']==gr].groupby('YearsCodingProf').agg({'Salary' : 'median'}).sort_values(by = 'YearsCodingProf').reset_index()['Salary'],\n",
    "            'name': gr, 'mode': 'line',\n",
    "        } for gr in gndr\n",
    "    ],\n",
    "    'layout': {\n",
    "        'title' : 'Frameworks V.S. years experience (developers coded professionally) with Median Salary ($)',\n",
    "        'xaxis': {'title': 'Years experience (Developers coded professionally)'},\n",
    "        'yaxis': {'title': \"Median Salary ($)\"}\n",
    "    }\n",
    "}\n",
    "py.iplot(fig)"
   ]
  },
  {
   "cell_type": "markdown",
   "metadata": {
    "_uuid": "6527f3a7b42d3a5cd4f86203e3f77bfa39715c1d"
   },
   "source": []
  },
  {
   "cell_type": "code",
   "execution_count": null,
   "metadata": {
    "_kg_hide-input": true,
    "_uuid": "5c049460d4f711318a02f15c0d81dcf3e31599e0"
   },
   "outputs": [],
   "source": [
    "df = stack_data.set_index(['YearsCodingProf','ConvertedSalary']).DatabaseWorkedWith.str.split(';', expand=True).stack().reset_index(['YearsCodingProf','ConvertedSalary'])\n",
    "df.columns = ['YearsCodingProf','Salary','Database']\n",
    "df['YearsCodingProf'] = df['YearsCodingProf'].astype('category')\n",
    "df['YearsCodingProf'].cat.reorder_categories(['0-2 years','3-5 years','6-8 years', '9-11 years', '12-14 years', '15-17 years', '18-20 years', \n",
    "                                            '21-23 years',  '24-26 years','27-29 years', '30 or more years'], inplace=True)\n",
    "gndr = ['Elasticsearch','MongoDB', 'SQL Server', 'MySQL', 'PostgreSQL', 'Amazon RDS/Aurora',\n",
    "        'Amazon DynamoDB', 'Apache HBase', 'Apache Hive', 'Amazon Redshift',\n",
    "       'Microsoft Azure (Tables, CosmosDB, SQL, etc)', 'Memcached',\n",
    "       'Oracle', 'IBM Db2',  'Google Cloud Storage',\n",
    "        'MariaDB', 'SQLite', 'Google BigQuery',\n",
    "       'Cassandra', 'Neo4j','Redis']\n",
    "fig = {\n",
    "    'data': [\n",
    "        {\n",
    "            'x': df[df['Database']==gr].groupby('YearsCodingProf').agg({'Salary' : 'median'}).sort_values(by = 'YearsCodingProf').reset_index()['YearsCodingProf'],\n",
    "            'y': df[df['Database']==gr].groupby('YearsCodingProf').agg({'Salary' : 'median'}).sort_values(by = 'YearsCodingProf').reset_index()['Salary'],\n",
    "            'name': gr, 'mode': 'line',\n",
    "        } for gr in gndr\n",
    "    ],\n",
    "    'layout': {\n",
    "        'title' : 'Databases V.S. years experience (developers coded professionally) with Median Salary ($)',\n",
    "        'xaxis': {'title': 'Years experience (Developers coded professionally)'},\n",
    "        'yaxis': {'title': \"Median Salary ($)\"}\n",
    "    }\n",
    "}\n",
    "py.iplot(fig)"
   ]
  },
  {
   "cell_type": "code",
   "execution_count": null,
   "metadata": {
    "_kg_hide-input": true,
    "_uuid": "e30c3d3d0df02bf0dbb05e92f687357efc84d62c"
   },
   "outputs": [],
   "source": [
    "temp = stack_data['AdBlocker'].value_counts()\n",
    "df = pd.DataFrame({'labels': temp.index,\n",
    "                   'values': temp.values\n",
    "                  })\n",
    "df.iplot(kind='pie',labels='labels',values='values', title='AdBlocker software installed or not ?', hole = 0.8, color = ['#00FFFF','#CDC0B0','#7FFFD4'])"
   ]
  },
  {
   "cell_type": "markdown",
   "metadata": {
    "_uuid": "1dffcbc3e28e2cd540a39c8c8dd3aba5190cc1f5"
   },
   "source": [
    "**AdBlocker software installed or not ? **\n",
    "  * **72.3 % respondents said :**  YES\n",
    "  * **22.5 % respondents said **: NO\n",
    "  * **5.13 % respondents said :** I'm not sure / i don't know"
   ]
  },
  {
   "cell_type": "code",
   "execution_count": null,
   "metadata": {
    "_kg_hide-input": true,
    "_uuid": "4036f68e4a49b300cbf8880047843e542ae8e2d1"
   },
   "outputs": [],
   "source": [
    "temp = stack_data['AdBlockerDisable'].value_counts()\n",
    "df = pd.DataFrame({'labels': temp.index,\n",
    "                   'values': temp.values\n",
    "                  })\n",
    "df.iplot(kind='pie',labels='labels',values='values', title='In past month how many peoples disable theor AdBlocker ?', hole = 0.8, color = ['#FFD39B','#FF4040','#7FFF00'])"
   ]
  },
  {
   "cell_type": "markdown",
   "metadata": {
    "_uuid": "19f3a4026d6d049398be81fb0e1718e0aa56ba06"
   },
   "source": [
    "**In past month how many peoples disable theor AdBlocker ?**\n",
    "  * **70.7 % respondents said :**  YES\n",
    "  * **24.1 % respondents said **: NO\n",
    "  * **5.26 % respondents said :** I'm not sure / i don't know"
   ]
  },
  {
   "cell_type": "code",
   "execution_count": null,
   "metadata": {
    "_kg_hide-input": true,
    "_uuid": "7c9f7a6e176935e8764e869a95c733bc5e1edea3"
   },
   "outputs": [],
   "source": [
    "temp = pd.DataFrame(stack_data['AdBlockerReasons'].dropna().str.split(';').tolist()).stack()\n",
    "temp =  temp.value_counts()\n",
    "df = pd.DataFrame({'labels': temp.index,\n",
    "                   'values': temp.values\n",
    "                  })\n",
    "df.iplot(kind='pie',labels='labels',values='values', title='Top Reasons of disabling the AdBlocker', hole = 0.8)"
   ]
  },
  {
   "cell_type": "markdown",
   "metadata": {
    "_uuid": "e809eb13ff495cb6c3f7ef475ced1128aeb7a4c9"
   },
   "source": [
    "**Top Reasons of disabling the AdBlocker :**\n",
    "  * Approx. **32 %** respondents said : **The website i was visiting forced me to disable it to access their content**\n",
    "  * Approx. **24 %** respondents said :** I wanted to support the website i was visiting by viewing their ads**\n",
    "  * Approx. **21 %** respondents said : **The ad-blocking software was causing issues on a website**\n",
    "  * Approx. **18 %** respondents said : **The website I was visiting asked me to disable it**\n",
    "  * Approx. **2 %** respondents said : **I wanted to view a specific advertisement**\n",
    "  * Approx. **2 %** respondents said : **The website i was visiting has interesting ads**"
   ]
  },
  {
   "cell_type": "code",
   "execution_count": null,
   "metadata": {
    "_kg_hide-input": true,
    "_uuid": "c4557ed7e9339f3363834fb712fb63bc7321e951"
   },
   "outputs": [],
   "source": [
    "temp = stack_data['AdsAgreeDisagree1'].value_counts()\n",
    "df = pd.DataFrame({'labels': temp.index,\n",
    "                   'values': temp.values\n",
    "                  })\n",
    "df.iplot(kind='pie',labels='labels',values='values', title='Online advertising can be valuable when it is relevant to me ?', hole = 0.8, color = ['#228B22','#FFD39B','#FF4040','#545454'])"
   ]
  },
  {
   "cell_type": "markdown",
   "metadata": {
    "_uuid": "d1eeb9bf8766e9e0de2fd28a4d69587aa1472925"
   },
   "source": [
    "**Online advertising can be valuable when it is relevant to me :**\n",
    "  * Approx. **40 %** respondents said : **Somewhat agree**\n",
    "  * Approx. **18 %** respondents said : **Neither agree nor disagree**\n",
    "  * Approx. **16 %** respondents said : **Strongly Agree**\n",
    "  * Approx. **14 %** respondents said : **Somewhat disagree**\n",
    "  * Approx. **12 %** respondents said : **Strongly disagree**"
   ]
  },
  {
   "cell_type": "code",
   "execution_count": null,
   "metadata": {
    "_kg_hide-input": true,
    "_uuid": "697cdc5ac3ea470a6ac2a3d29bc7de3e345cf709"
   },
   "outputs": [],
   "source": [
    "temp = stack_data['AdsAgreeDisagree2'].value_counts()\n",
    "df = pd.DataFrame({'labels': temp.index,\n",
    "                   'values': temp.values\n",
    "                  })\n",
    "df.iplot(kind='pie',labels='labels',values='values', title='I enjoy seeing online updates from companies that I like ?', hole = 0.8)"
   ]
  },
  {
   "cell_type": "markdown",
   "metadata": {
    "_uuid": "09949b853dc8546139d067ef565c48338566135d"
   },
   "source": [
    "**I enjoy seeing online updates from companies that I like :**\n",
    "  * Approx. **37 %** respondents said : **Somewhat agree**\n",
    "  * Approx. **24 %** respondents said : **Neither agree nor disagree**\n",
    "  * Approx. **16 %** respondents said : **Strongly Agree**\n",
    "  * Approx. **13 %** respondents said : **Somewhat disagree**\n",
    "  * Approx. **10 %** respondents said : **Strongly disagree**"
   ]
  },
  {
   "cell_type": "code",
   "execution_count": null,
   "metadata": {
    "_kg_hide-input": true,
    "_uuid": "0cd3b7d68378d0849b9159a0c50ce29c70f7d9b6"
   },
   "outputs": [],
   "source": [
    "temp = stack_data['AdsAgreeDisagree3'].value_counts()\n",
    "df = pd.DataFrame({'labels': temp.index,\n",
    "                   'values': temp.values\n",
    "                  })\n",
    "df.iplot(kind='pie',labels='labels',values='values', title='I fundamentally dislike the concept of advertising ?', hole = 0.8, color = ['#7FFF00','#228B22','#FFD39B','#FF4040'])"
   ]
  },
  {
   "cell_type": "markdown",
   "metadata": {
    "_uuid": "5b692ed2aceb68e20e13ce1cbd63a32cbaa9b1ac"
   },
   "source": [
    "**I fundamentally dislike the concept of advertising :**\n",
    "  * Approx. **30 %** respondents said : **Neither agree nor disagree**\n",
    "  * Approx. **22 %** respondents said : **Somewhat agree**\n",
    "  * Approx. **20 %** respondents said : **Somewhat disagree**\n",
    "  * Approx. **19 %** respondents said : **Strongly Agree**\n",
    "  * Approx. **10 %** respondents said : **Strongly disagree**"
   ]
  },
  {
   "cell_type": "markdown",
   "metadata": {
    "_uuid": "45cb84610f7092ada19624ec648089930675be8f"
   },
   "source": [
    "Stackoverflow asked the developers to rank the advertisement qualities (by dragging the choices up and down) where 1 is the most important, and 7 is the least important.So, now i will conclude what is the most important advertisement quality and what is least important.So, i will take individual  sum of each column and the **lower the value** means **Most important** and **higher the value** means **least important**\n",
    " * AdsPriorities1 : The advertisement is relevant to me\n",
    " * AdsPriorities2 : The advertisement is honest about its goals\n",
    " * AdsPriorities3 : The advertisement provides useful information\n",
    " * AdsPriorities4 : The advertisement seems trustworthy\n",
    " * AdsPriorities5 : The advertisement is from a company that I like\n",
    " * AdsPriorities6 : The advertisement offers something of value, like a free trial\n",
    " * AdsPriorities7 : The advertisement avoids fluffy or vague language"
   ]
  },
  {
   "cell_type": "code",
   "execution_count": null,
   "metadata": {
    "_kg_hide-input": true,
    "_uuid": "67f22a01d56b389d200bc77a48a4cb34109bd736"
   },
   "outputs": [],
   "source": [
    "print('ap1 sum =',stack_data['AdsPriorities1'].sum())\n",
    "print('ap2 sum =',stack_data['AdsPriorities2'].sum())\n",
    "print('ap3 sum =',stack_data['AdsPriorities3'].sum())\n",
    "print('ap4 sum =',stack_data['AdsPriorities4'].sum())\n",
    "print('ap5 sum =',stack_data['AdsPriorities5'].sum())\n",
    "print('ap6 sum =',stack_data['AdsPriorities6'].sum())\n",
    "print('ap7 sum =',stack_data['AdsPriorities7'].sum())"
   ]
  },
  {
   "cell_type": "markdown",
   "metadata": {
    "_uuid": "7cb5853748a537f94bbb9f24a6445417c6cb4575"
   },
   "source": [
    "**Ad's Priority conclusion  from Respondents:**\n",
    "  * **Rank 1 :** The advertisement is relevant to me **(Most Important)**\n",
    "  * ** Rank 2 :** The advertisement provides useful information\n",
    "  * **Rank 3 :** The advertisement seems trustworthy\n",
    "  * **Rank 4 :** The advertisement is honest about its goals\n",
    "  * **Rank 5 :** The advertisement is from a company that I like\n",
    "  * **Rank 6 :** The advertisement avoids fluffy or vague language\n",
    "  * **Rank 7 :** The advertisement offers something of value, like a free trial **(Least Important)**"
   ]
  },
  {
   "cell_type": "code",
   "execution_count": null,
   "metadata": {
    "_kg_hide-input": true,
    "_uuid": "ec56c235a9682b966b24119ec69c42d269e78fe2"
   },
   "outputs": [],
   "source": [
    "traces = []\n",
    "newDiamond = stack_data.groupby(['WakeTime','JobSatisfaction']).size().unstack()\n",
    "for c in newDiamond.columns:\n",
    "    traces.append({\n",
    "        'type' : 'bar',\n",
    "        'x' : newDiamond.index,\n",
    "        'y' : newDiamond[c],\n",
    "        'name' : c\n",
    "    })\n",
    "fig = {\n",
    "    'data' : traces,\n",
    "    'layout' : {\n",
    "        'title' :'Effect of Wake-up time on job satisfaction',\n",
    "        #'barmode' : 'stack',\n",
    "        'xaxis' : {\n",
    "            'title' : 'Wake-up time'\n",
    "        },        \n",
    "    }\n",
    "}\n",
    "iplot(fig)"
   ]
  },
  {
   "cell_type": "code",
   "execution_count": null,
   "metadata": {
    "_kg_hide-input": true,
    "_uuid": "7525aee2e304811626b4d02e2e867b95a2f61c46"
   },
   "outputs": [],
   "source": [
    "traces = []\n",
    "newDiamond = stack_data.groupby(['WakeTime','CareerSatisfaction']).size().unstack()\n",
    "for c in newDiamond.columns:\n",
    "    traces.append({\n",
    "        'type' : 'bar',\n",
    "        'x' : newDiamond.index,\n",
    "        'y' : newDiamond[c],\n",
    "        'name' : c\n",
    "    })\n",
    "fig = {\n",
    "    'data' : traces,\n",
    "    'layout' : {\n",
    "        'title' :'Effect of Wake-up time on career satisfaction',\n",
    "#         'barmode' : 'stack',\n",
    "        'xaxis' : {\n",
    "            'title' : 'Wake-up time'\n",
    "        },        \n",
    "    }\n",
    "}\n",
    "iplot(fig)"
   ]
  },
  {
   "cell_type": "code",
   "execution_count": null,
   "metadata": {
    "_kg_hide-input": true,
    "_uuid": "bfb1eea34256cbabad4b692e13e6db891a9b1704"
   },
   "outputs": [],
   "source": [
    "traces = []\n",
    "newDiamond = stack_data.groupby(['Exercise','JobSatisfaction']).size().unstack()\n",
    "for c in newDiamond.columns:\n",
    "    traces.append({\n",
    "        'type' : 'bar',\n",
    "        'x' : newDiamond.index,\n",
    "        'y' : newDiamond[c],\n",
    "        'name' : c\n",
    "    })\n",
    "fig = {\n",
    "    'data' : traces,\n",
    "    'layout' : {\n",
    "        'title' : 'Effect of Excercise on job satisfaction',\n",
    "        #'barmode' : 'stack',\n",
    "        'xaxis' : {\n",
    "            'title' : 'Number of time'\n",
    "        },        \n",
    "    }\n",
    "}\n",
    "iplot(fig)"
   ]
  },
  {
   "cell_type": "code",
   "execution_count": null,
   "metadata": {
    "_kg_hide-input": true,
    "_uuid": "1000df9e7e10762d0bd5d2f5b8b3f4b7c7e908ef"
   },
   "outputs": [],
   "source": [
    "traces = []\n",
    "newDiamond = stack_data.groupby(['Exercise','CareerSatisfaction']).size().unstack()\n",
    "for c in newDiamond.columns:\n",
    "    traces.append({\n",
    "        'type' : 'bar',\n",
    "        'x' : newDiamond.index,\n",
    "        'y' : newDiamond[c],\n",
    "        'name' : c\n",
    "    })\n",
    "fig = {\n",
    "    'data' : traces,\n",
    "    'layout' : {\n",
    "        'title' :'Effect of Excercise on career satisfaction',\n",
    "        'xaxis' : {\n",
    "            'title' : 'Number of times'\n",
    "        },        \n",
    "    }\n",
    "}\n",
    "iplot(fig)"
   ]
  },
  {
   "cell_type": "code",
   "execution_count": null,
   "metadata": {
    "_kg_hide-input": true,
    "_uuid": "0c93bcfa5a200021039b2095e82a45cd40ebcb35"
   },
   "outputs": [],
   "source": [
    "traces = []\n",
    "#print(stack_data['CompanySize'].unique())\n",
    "def change_to_int(x):\n",
    "    #print(x)\n",
    "    x = x.split(\" \")\n",
    "    if x[0]=='Fewer':\n",
    "        return '0 to 10 employees'\n",
    "    #print(locale.atoi(x[0]))\n",
    "    return str(int(x[0].replace(',', '')))+' '+' '.join(x[1:])\n",
    "    \n",
    "stack_data['CompanySize'] = stack_data['CompanySize'].dropna().apply(change_to_int)#map({'Fewer than 10 employees' : '0 to 10'})\n",
    "newDiamond = stack_data.groupby(['CompanySize','JobSatisfaction']).size().unstack()\n",
    "for c in newDiamond.columns:\n",
    "    traces.append({\n",
    "        'type' : 'scatter',\n",
    "        'x' : newDiamond.index,\n",
    "        'y' : newDiamond[c],\n",
    "        'name' : c\n",
    "    })\n",
    "fig = {\n",
    "    'data' : traces,\n",
    "    'layout' : {\n",
    "        'title' :'Does job satisfaction depends on  company or organization size ?',\n",
    "        'xaxis' :dict(\n",
    "        title='Company or organization size',\n",
    "        tickfont=dict(\n",
    "            size=10,\n",
    "            color='rgb(107, 107, 107)'\n",
    "        )\n",
    "    ),     \n",
    "    }\n",
    "}\n",
    "iplot(fig)"
   ]
  },
  {
   "cell_type": "code",
   "execution_count": null,
   "metadata": {
    "_kg_hide-input": true,
    "_uuid": "b1bd6e0a4d88ef06ec63faa9e61fe9f51229de11",
    "scrolled": false
   },
   "outputs": [],
   "source": [
    "# locale\n",
    "traces = []\n",
    "#print(stack_data['CompanySize'].unique())\n",
    "def change_to_int(x):\n",
    "    #print(x)\n",
    "    x = x.split(\" \")\n",
    "    if x[0]=='Fewer':\n",
    "        return '0 to 10 employees'\n",
    "    #print(locale.atoi(x[0]))\n",
    "    return str(int(x[0].replace(',', '')))+' '+' '.join(x[1:])\n",
    "    \n",
    "stack_data['CompanySize'] = stack_data['CompanySize'].dropna().apply(change_to_int)#map({'Fewer than 10 employees' : '0 to 10'})\n",
    "#print(temp.unique())\n",
    "newDiamond = stack_data.groupby(['CompanySize','CareerSatisfaction']).size().unstack().sort_values(by ='CompanySize')\n",
    "for c in newDiamond.columns:\n",
    "    traces.append({\n",
    "        'type' : 'scatter',\n",
    "        'x' : newDiamond.index,\n",
    "        'y' : newDiamond[c],\n",
    "        'name' : c\n",
    "    })\n",
    "fig = {\n",
    "    'data' : traces,\n",
    "    'layout' : {\n",
    "        'title' :'Does career satisfaction depends on  company or organization size ?',\n",
    "        'xaxis' :dict(\n",
    "        title='Company or organization size',\n",
    "        tickfont=dict(\n",
    "            size=10,\n",
    "            color='rgb(107, 107, 107)'\n",
    "        )\n",
    "    ),        \n",
    "    }\n",
    "}\n",
    "iplot(fig)"
   ]
  },
  {
   "cell_type": "code",
   "execution_count": null,
   "metadata": {
    "_kg_hide-input": true,
    "_uuid": "5b17d596300fdaf735c75967e4a3f0e0d457cd6f"
   },
   "outputs": [],
   "source": [
    "# locale\n",
    "traces = []\n",
    "#print(stack_data['CompanySize'].unique())\n",
    "def change_to_int(x):\n",
    "    #print(x)\n",
    "    x = x.split(\" \")\n",
    "    if x[0]=='Under':\n",
    "        return '0 - 18 years old'\n",
    "    #print(locale.atoi(x[0]))\n",
    "    return str(int(x[0].replace(',', '')))+' '+' '.join(x[1:])\n",
    "    \n",
    "stack_data['Age'] = stack_data['Age'].dropna().apply(change_to_int)#map({'Fewer than 10 employees' : '0 to 10'})\n",
    "#print(temp.unique())\n",
    "newDiamond = stack_data.groupby(['Age','CareerSatisfaction']).size().unstack().sort_values(by ='Age')\n",
    "for c in newDiamond.columns:\n",
    "    traces.append({\n",
    "        'type' : 'scatter',\n",
    "        'x' : newDiamond.index,\n",
    "        'y' : newDiamond[c],\n",
    "        'name' : c\n",
    "    })\n",
    "fig = {\n",
    "    'data' : traces,\n",
    "    'layout' : {\n",
    "        'title' :'Does career satisfaction depends on Age ?',\n",
    "        'xaxis' :dict(\n",
    "        title='Age of the Developer',\n",
    "        tickfont=dict(\n",
    "            size=10,\n",
    "            color='rgb(107, 107, 107)'\n",
    "        )\n",
    "    ),        \n",
    "    }\n",
    "}\n",
    "iplot(fig)"
   ]
  },
  {
   "cell_type": "markdown",
   "metadata": {
    "_uuid": "d25044a498332fe55b96b5ce692adb2f11dcb1cb"
   },
   "source": [
    "* As we can see developers having 25 -34 years old are highly satisfied with their career.\n",
    "* 0 -18 years old and 65 years or older are highly dissatisfied with their career. "
   ]
  },
  {
   "cell_type": "code",
   "execution_count": null,
   "metadata": {
    "_kg_hide-input": true,
    "_uuid": "f183820d355bf83e9277cd28900621e8a39626e7"
   },
   "outputs": [],
   "source": [
    "traces = []\n",
    "#print(stack_data['CompanySize'].unique())\n",
    "def change_to_int(x):\n",
    "    #print(x)\n",
    "    x = x.split(\" \")\n",
    "    if x[0]=='Under':\n",
    "        return '0 - 18 years old'\n",
    "    #print(locale.atoi(x[0]))\n",
    "    return str(int(x[0].replace(',', '')))+' '+' '.join(x[1:])\n",
    "    \n",
    "stack_data['Age'] = stack_data['Age'].dropna().apply(change_to_int)\n",
    "newDiamond = stack_data.groupby(['Age','JobSatisfaction']).size().unstack().sort_values(by ='Age')\n",
    "for c in newDiamond.columns:\n",
    "    traces.append({\n",
    "        'type' : 'scatter',\n",
    "        'x' : newDiamond.index,\n",
    "        'y' : newDiamond[c],\n",
    "        'name' : c\n",
    "    })\n",
    "fig = {\n",
    "    'data' : traces,\n",
    "    'layout' : {\n",
    "        'title' :'Does Job Satisfaction depends on Age ?',\n",
    "        'xaxis' :dict(\n",
    "        title='Age of the Developer',\n",
    "        tickfont=dict(\n",
    "            size=10,\n",
    "            color='rgb(107, 107, 107)'\n",
    "        )\n",
    "    ),        \n",
    "    }\n",
    "}\n",
    "iplot(fig)"
   ]
  },
  {
   "cell_type": "markdown",
   "metadata": {
    "_uuid": "4e51845158bcb0f4ca49efcc15c26a33ea406474"
   },
   "source": [
    "* As we can see developers having **25 -34 years old** are **highly satisfied** with their job.\n",
    "* **0 -18 years old** and **65 years or olde**r are **highly dissatisfied** with their job. "
   ]
  },
  {
   "cell_type": "code",
   "execution_count": null,
   "metadata": {
    "_kg_hide-input": true,
    "_uuid": "a5e08e56c0cf4ead9be56a43b88768cd0d656d2c"
   },
   "outputs": [],
   "source": [
    "temp1 = stack_data['AgreeDisagree1'].value_counts()\n",
    "df1 = pd.DataFrame({'labels': temp1.index,'values': temp1.values})\n",
    "df1.iplot(kind='pie',labels='labels',values='values', title='I feel a sense of kinship or connection to other developers', hole = 0.7, color = ['#FF4040','#FAEBD7','#7FFFD4','#7FFF00','#FFF8DC'])"
   ]
  },
  {
   "cell_type": "markdown",
   "metadata": {
    "_uuid": "56effc3a04d0dafe7a26a75bc3a08a24d09f7652"
   },
   "source": [
    "**I feel a sense of kinship or connection to other developers :**\n",
    "  * **Approx. 54 %** developers said : **Agree**\n",
    "  * **Approx. 22 %** developers said : **Neither Agree or nor Disagree**\n",
    "  * **Approx. 17 %** developers said : **Strongly agree**\n",
    "  * **Approx. 6 %** developers said : **Disagree**\n",
    "  * **Approx. 2 %** developers said : **Strongly disagree**"
   ]
  },
  {
   "cell_type": "code",
   "execution_count": null,
   "metadata": {
    "_kg_hide-input": true,
    "_uuid": "b401cbfe4a59a4891a7badfd6bd6ef1c563cc4a7"
   },
   "outputs": [],
   "source": [
    "temp1 = stack_data['AgreeDisagree2'].value_counts()\n",
    "df1 = pd.DataFrame({'labels': temp1.index,'values': temp1.values})\n",
    "df1.iplot(kind='pie',labels='labels',values='values', title='I think of myself as competing with my peers', hole = 0.7,color = ['#7FFF00','#FFF8DC','#FF4040','#FAEBD7','#7FFFD4', ])"
   ]
  },
  {
   "cell_type": "markdown",
   "metadata": {
    "_uuid": "c71ab5c0066c6b60f34b06cddd1c63bc321bbf0c"
   },
   "source": [
    "**I think of myself as competing with my peers  :**\n",
    "  * **Approx. 27 %** developers said : **Agree**\n",
    "  * **Approx. 26 %** developers said : **Neither Agree or nor Disagree**\n",
    "  * **Approx. 26 %** developers said : **Disagree**\n",
    "  * **Approx. 13 %** developers said :  **Strongly disagree**\n",
    "  * **Approx. 8 %** developers said : **Strongly agree**"
   ]
  },
  {
   "cell_type": "code",
   "execution_count": null,
   "metadata": {
    "_kg_hide-input": true,
    "_uuid": "f3733ef9e20ac650eff67a79d50117fc25f01206"
   },
   "outputs": [],
   "source": [
    "temp1 = stack_data['AgreeDisagree3'].value_counts()\n",
    "df1 = pd.DataFrame({'labels': temp1.index,'values': temp1.values})\n",
    "df1.iplot(kind='pie',labels='labels',values='values', title='I\\'m not as good at programming as most of my peers', hole = 0.7, )"
   ]
  },
  {
   "cell_type": "markdown",
   "metadata": {
    "_uuid": "1d9aa985fc388a538cff6379c83c7c18ef37c1b1"
   },
   "source": [
    "**I'm not as good at programming as most of my peers  :**\n",
    "  * **Approx. 34 %** developers said : **Disagree**\n",
    "  * **Approx. 25 %** developers said : **Neither Agree or nor Disagree**\n",
    "  * **Approx. 23 %** developers said : **Strongly disagree**\n",
    "  * **Approx. 14 %** developers said : **Agree**\n",
    "  * **Approx. 4 %** developers said : **Strongly agree**"
   ]
  },
  {
   "cell_type": "code",
   "execution_count": null,
   "metadata": {
    "_kg_hide-input": true,
    "_uuid": "bf01344b604bdb1967aa6e6e0e960072bdc4d889"
   },
   "outputs": [],
   "source": [
    "cnt_srs = stack_data[\"TimeAfterBootcamp\"].value_counts()\n",
    "trace = go.Bar(\n",
    "    y=cnt_srs.index[::-1],\n",
    "    x=(cnt_srs/cnt_srs.sum() * 100)[::-1],\n",
    "    orientation = 'h',\n",
    "    marker=dict(\n",
    "        color=['#FFF8DC','#68228B','#1E90FF','#FFC125','#8B7355','#BF3EFF','#FF6103','#FFC125'],\n",
    "        colorscale = 'Blues',\n",
    "        reversescale = True\n",
    "    ),\n",
    ")\n",
    "\n",
    "layout = dict(\n",
    "    title='Time to get a full-time job offer after doing developer training program or bootcamp (%)',\n",
    "    margin=dict(\n",
    "    l=500,\n",
    ")\n",
    "    )\n",
    "data = [trace]\n",
    "fig = go.Figure(data=data, layout=layout)\n",
    "py.iplot(fig)"
   ]
  },
  {
   "cell_type": "markdown",
   "metadata": {
    "_uuid": "50a3c7d8897b2e6bab4d0dae8c67632cb09b1bd1"
   },
   "source": [
    "**Time to get a full-time job offer after doing developer training program or bootcamp :**\n",
    "  * **Approx. 45 %** respondents said : **I already had a full time job as a developer when i began the program**\n",
    "  * **Approx. 16 %** respondents said : **Immediately after graduating** \n",
    "  * **Approx. 10 %** respondents said : **One to three month**\n",
    "  * **Approx. 9 %** respondents said : **I haven't gotten a developer job**\n",
    "  * **Approx. 5 %** respondents said : **Less than a month 4 to 6 month**\n",
    "  * **Approx. 4 %** respondents said : **6 month to a year**\n",
    "  * **Approx. 3 %** respondents said : **Longer than a year**"
   ]
  },
  {
   "cell_type": "markdown",
   "metadata": {
    "_uuid": "2626fc0882aa588103fe31c1970740f6a6c271e7"
   },
   "source": [
    "Now a days Data Science is booming.So, Let's explore this, By the way only Approx. **3 % Data Science professional** participated in this survey. I will try to find salary of data science professional , on which technology they are working in or will work etc."
   ]
  },
  {
   "cell_type": "code",
   "execution_count": null,
   "metadata": {
    "_kg_hide-input": true,
    "_uuid": "94fc3bcb2ce5df63c31f470f010a4dbcbf793103"
   },
   "outputs": [],
   "source": [
    "dm = stack_data[stack_data['DevType'] == 'Data scientist or machine learning specialist']"
   ]
  },
  {
   "cell_type": "code",
   "execution_count": null,
   "metadata": {
    "_kg_hide-input": true,
    "_uuid": "dd6deca3c3d00fa58a3b8917955287e12c22873a"
   },
   "outputs": [],
   "source": [
    "plt.figure(figsize = (16,6))\n",
    "\n",
    "plt.scatter(np.sort(dm['ConvertedSalary'].values), range(dm.shape[0]))\n",
    "plt.xlabel('Salary ($)', fontsize=15)\n",
    "plt.title(\"Salary of Data Scientist / Machine Learning Specialists\", fontsize=19)\n",
    "\n",
    "plt.show()"
   ]
  },
  {
   "cell_type": "markdown",
   "metadata": {
    "_uuid": "ddcbffa10d0396fd3577baa99da2a508839edc02"
   },
   "source": [
    "* Most of the Data Scientist / Machine Learning Specialist getting salary **\\$ 0 to \\$2,50,000 **"
   ]
  },
  {
   "cell_type": "code",
   "execution_count": null,
   "metadata": {
    "_kg_hide-input": true,
    "_uuid": "89e18ce1533afe07d0cbd6a65ab5be6a1eed8fd5"
   },
   "outputs": [],
   "source": [
    "temp1 = dm['OpenSource'].value_counts()\n",
    "df1 = pd.DataFrame({'labels': temp1.index,'values': temp1.values})\n",
    "df1.iplot(kind='pie',labels='labels',values='values', title='Open source contribution of Data Scientist / Machine Learning Specialists', hole = 0.7, color = ['#FF4040','#FAEBD7'])"
   ]
  },
  {
   "cell_type": "markdown",
   "metadata": {
    "_uuid": "0101a32ec2139ab699ef54dae9caf0ddd91ad9ad"
   },
   "source": [
    "* It's good to see that **Approx. 47 %** Data Scientist / Machine Learning Specialist are contributing to **open source projects**."
   ]
  },
  {
   "cell_type": "code",
   "execution_count": null,
   "metadata": {
    "_kg_hide-input": true,
    "_uuid": "b47015275ab372cd771db4815731e93f0fe6968b"
   },
   "outputs": [],
   "source": [
    "temp = dm[\"Country\"].value_counts().head(15)\n",
    "temp.iplot(kind='bar', xTitle = 'Country name', yTitle = \"Count\", title = 'Top countries having highest number of respondents who are Data Scientist / Machine Learning Specialists')"
   ]
  },
  {
   "cell_type": "markdown",
   "metadata": {
    "_uuid": "3d63b7cc96f569870c605fff7b13a8db918e8fc3"
   },
   "source": [
    "* Most of Data Scientist / Machine Learning Specialist who participated in StackOverflow are from USA followed by India, United Kingdom, Germany, France , Canada etc."
   ]
  },
  {
   "cell_type": "code",
   "execution_count": null,
   "metadata": {
    "_kg_hide-input": true,
    "_uuid": "dfc461fa48a3a3f8fda0290bf832346404649704"
   },
   "outputs": [],
   "source": [
    "temp = pd.DataFrame(dm['Gender'].dropna().str.split(';').tolist()).stack()\n",
    "temp =  temp.value_counts().sort_values(ascending=False)\n",
    "df = pd.DataFrame({'labels': temp.index,\n",
    "                   'values': temp.values\n",
    "                  })\n",
    "df.iplot(kind='pie',labels='labels',values='values', title='Gender (Data Scientist / Machine Learning Specialists)', hole = 0.5, color = ['#FFF8DC','#8B7355','#BF3EFF','#FF6103','#FFC125','#0000FF'])\n"
   ]
  },
  {
   "cell_type": "markdown",
   "metadata": {
    "_uuid": "4c4186777c684e3e274f6a086388ae4896bddfad"
   },
   "source": [
    "* **Approx. 13 %** Data Scientist / Machine Learning Specialist who participated in the Survey was **Females**."
   ]
  },
  {
   "cell_type": "code",
   "execution_count": null,
   "metadata": {
    "_kg_hide-input": true,
    "_uuid": "5fd8b1bc0b8ae82e7a33a665e40b1d88a5ff021e"
   },
   "outputs": [],
   "source": [
    "temp1 = pd.DataFrame(dm['LanguageWorkedWith'].dropna().str.split(';').tolist()).stack()\n",
    "temp1 = temp1.value_counts().sort_values(ascending=False).head(15)\n",
    "temp2 = pd.DataFrame(dm['LanguageDesireNextYear'].dropna().str.split(';').tolist()).stack()\n",
    "temp2 = temp2.value_counts().sort_values(ascending=False).head(15)\n",
    "trace1 = go.Bar(\n",
    "    y=temp1.index[::-1],\n",
    "    x=temp1.values[::-1],\n",
    "    orientation = 'h',\n",
    "    #name = ''\n",
    ")\n",
    "trace2 = go.Bar(\n",
    "    y=temp2.index[::-1],\n",
    "    x=temp2.values[::-1],\n",
    "    orientation = 'h',\n",
    "    #name = ''\n",
    ")\n",
    "\n",
    "fig = tools.make_subplots(rows=1, cols=2, subplot_titles=('On which developers worked with', 'On which developers want to work in over the next year'))\n",
    "                                                          \n",
    "\n",
    "fig.append_trace(trace1, 1, 1)\n",
    "fig.append_trace(trace2, 1, 2)\n",
    "fig['layout'].update(height=500, width=1000, title='Most popular languages (Data Scientist / Machine Learning Specialists)', )\n",
    "iplot(fig, filename='simple-subplot')"
   ]
  },
  {
   "cell_type": "markdown",
   "metadata": {
    "_uuid": "5534f72dbdd690ebe1c8242b4560b8e9443f7f89"
   },
   "source": [
    "* Most popular languages in which Data Scientist / Machine Learning Specialist are working or want to work is **Python** followed by **R**, **SQL**, **Bash/Shell**.\n",
    "* **C++** and **Scala** are languages which are growing where Data Scientist / Machine Learning Specialist want to work."
   ]
  },
  {
   "cell_type": "code",
   "execution_count": null,
   "metadata": {
    "_kg_hide-input": true,
    "_uuid": "3d4764f9114683ee3f5c5ae4f398744f654de04a"
   },
   "outputs": [],
   "source": [
    "temp1 = pd.DataFrame(dm['DatabaseWorkedWith'].dropna().str.split(';').tolist()).stack()\n",
    "temp1 = temp1.value_counts().sort_values(ascending=False).head(20)\n",
    "temp2 = pd.DataFrame(dm['DatabaseDesireNextYear'].dropna().str.split(';').tolist()).stack()\n",
    "temp2 = temp2.value_counts().sort_values(ascending=False).head(20)\n",
    "trace1 = go.Bar(\n",
    "    y=temp1.index[::-1],\n",
    "    x=temp1.values[::-1],\n",
    "    orientation = 'h',\n",
    "    marker=dict(\n",
    "        color=temp2.values[::-1],\n",
    "        colorscale = 'red',\n",
    "#         reversescale = True\n",
    "    ),\n",
    "    #name = ''\n",
    ")\n",
    "trace2 = go.Bar(\n",
    "    y=temp2.index[::-1],\n",
    "    x=temp2.values[::-1],\n",
    "    orientation = 'h',\n",
    "    #name = ''\n",
    ")\n",
    "\n",
    "fig = tools.make_subplots(rows=1, cols=2, subplot_titles=('On which developers worked with', 'On which developers want to work in over the next year'))\n",
    "                                                          \n",
    "\n",
    "fig.append_trace(trace1, 1, 1)\n",
    "fig.append_trace(trace2, 1, 2)\n",
    "                          \n",
    "fig['layout'].update(height=500, width=1100, title='Most popular Databases (Data Scientist / Machine Learning Specialists)', margin=dict(l=285,))\n",
    "iplot(fig, filename='simple-subplot')"
   ]
  },
  {
   "cell_type": "markdown",
   "metadata": {
    "_uuid": "62e30b8f52b3f9e9c12e8d80d4b7f268edeacf52"
   },
   "source": [
    "* Top most  Databases in which Data Scientist / Machine Learning Specialist are working **MySQL** followed by **PostgreSQL**, **SQLServer**, **MongoDB**, **Apache Hive** etc.\n",
    "* Top most  Databases in which Data Scientist / Machine Learning Specialist want to work **PostgreSQL** followed **MongoDB**, **MySQL**, **Elasticsearch**, **Apache Hive** etc."
   ]
  },
  {
   "cell_type": "code",
   "execution_count": null,
   "metadata": {
    "_kg_hide-input": true,
    "_uuid": "5c30aeaeea7ba8bef5b652fd8ff3fa056e19a3e8"
   },
   "outputs": [],
   "source": [
    "temp1 = pd.DataFrame(dm['PlatformWorkedWith'].dropna().str.split(';').tolist()).stack()\n",
    "temp1 = temp1.value_counts().sort_values(ascending=False).head(20)\n",
    "temp2 = pd.DataFrame(dm['PlatformDesireNextYear'].dropna().str.split(';').tolist()).stack()\n",
    "temp2 = temp2.value_counts().sort_values(ascending=False).head(20)\n",
    "trace1 = go.Bar(\n",
    "    y=temp1.index[::-1],\n",
    "    x=temp1.values[::-1],\n",
    "    orientation = 'h',\n",
    "    #name = ''\n",
    ")\n",
    "trace2 = go.Bar(\n",
    "    y=temp2.index[::-1],\n",
    "    x=temp2.values[::-1],\n",
    "    orientation = 'h',\n",
    "    #name = ''\n",
    ")\n",
    "\n",
    "fig = tools.make_subplots(rows=1, cols=2, subplot_titles=('On which developers worked with', 'On which developers want to work in over the next year'))\n",
    "                                                          \n",
    "\n",
    "fig.append_trace(trace1, 1, 1)\n",
    "fig.append_trace(trace2, 1, 2)\n",
    "                          \n",
    "fig['layout'].update(height=500, width=1100, title='Most popular platforms (Data Scientist / Machine Learning Specialists)', margin=dict(l=250,))\n",
    "iplot(fig, filename='simple-subplot')"
   ]
  },
  {
   "cell_type": "markdown",
   "metadata": {
    "_uuid": "549ea8b2da2c76a4d7f238697a09ebba5237ce64"
   },
   "source": [
    "* Most popular  Platforms on which Data Scientist / Machine Learning Specialist are working or want to wok is **Linux** followed by **AWS**. **Raspberry** Pie is the Platforn after these on which most  Databases in which Data Scientist / Machine Learning Specialist want to work."
   ]
  },
  {
   "cell_type": "code",
   "execution_count": null,
   "metadata": {
    "_kg_hide-input": true,
    "_uuid": "e6d1138b9bbcf66edf0b68c2e4fd848606b50810"
   },
   "outputs": [],
   "source": [
    "temp1 = pd.DataFrame(dm['FrameworkWorkedWith'].dropna().str.split(';').tolist()).stack()\n",
    "temp1 = temp1.value_counts().sort_values(ascending=False).head(20)\n",
    "temp2 = pd.DataFrame(dm['FrameworkDesireNextYear'].dropna().str.split(';').tolist()).stack()\n",
    "temp2 = temp2.value_counts().sort_values(ascending=False).head(20)\n",
    "trace1 = go.Bar(\n",
    "    y=temp1.index[::-1],\n",
    "    x=temp1.values[::-1],\n",
    "    orientation = 'h',\n",
    "    marker=dict(\n",
    "        color=temp2.values[::-1],\n",
    "        colorscale = 'red',\n",
    "#         reversescale = True\n",
    "    ),\n",
    "    #name = ''\n",
    ")\n",
    "trace2 = go.Bar(\n",
    "    y=temp2.index[::-1],\n",
    "    x=temp2.values[::-1],\n",
    "    orientation = 'h',\n",
    "    #name = ''\n",
    ")\n",
    "\n",
    "fig = tools.make_subplots(rows=1, cols=2, subplot_titles=('On which developers worked with', 'On which developers want to work in over the next year'))\n",
    "                                                          \n",
    "\n",
    "fig.append_trace(trace1, 1, 1)\n",
    "fig.append_trace(trace2, 1, 2)\n",
    "                          \n",
    "fig['layout'].update(height=500, width=1100, title='Most popular Frameworks (Data Scientist / Machine Learning Specialists)', margin=dict(l=100,))\n",
    "iplot(fig, filename='simple-subplot')"
   ]
  },
  {
   "cell_type": "markdown",
   "metadata": {
    "_uuid": "fa5d0f80998927f7bc9aa5d82f4359ea12d0f1aa"
   },
   "source": [
    "* **Most popular Framworks** on which Data Scientist / Machine Learning Specialists are working or want to work is **TensorFlow** followed by **Spark**, **Torch/PyTorch**, **Hadoop**, **Django** etc."
   ]
  },
  {
   "cell_type": "code",
   "execution_count": null,
   "metadata": {
    "_kg_hide-input": true,
    "_uuid": "aff6dd341174b0d7002925f1b31b70a300ffb71f"
   },
   "outputs": [],
   "source": [
    "temp = pd.DataFrame(dm['IDE'].dropna().str.split(';').tolist()).stack()\n",
    "temp =  temp.value_counts().sort_values(ascending=False)\n",
    "trace = go.Bar(\n",
    "    x = temp.index,\n",
    "    y = (temp / temp.sum())*100,\n",
    "    marker=dict(\n",
    "        color=['#FFF8DC','#68228B','#1E90FF','#FFC125','#FF6103','#8EE5EE','#458B00','#FFF8DC','#8B7355','#BF3EFF','#FF6103','#FFC125'],\n",
    "        colorscale = 'Blues',\n",
    "        reversescale = True\n",
    "    ),\n",
    ")\n",
    "data = [trace]\n",
    "layout = go.Layout(\n",
    "    title = \"Top most used IDE  by Data Scientist / Machine Learning Specialists (%) \",\n",
    "    xaxis=dict(\n",
    "        title='IDE Name',\n",
    "        tickfont=dict(\n",
    "            size=10,\n",
    "            color='rgb(107, 107, 107)'\n",
    "        )\n",
    "    ),\n",
    "    yaxis=dict(\n",
    "        title='Count in %',\n",
    "        titlefont=dict(\n",
    "            size=16,\n",
    "            color='rgb(107, 107, 107)'\n",
    "        ),\n",
    "        tickfont=dict(\n",
    "            size=14,\n",
    "            color='rgb(107, 107, 107)'\n",
    "        )\n",
    ")\n",
    ")\n",
    "fig = go.Figure(data=data, layout=layout)\n",
    "py.iplot(fig)"
   ]
  },
  {
   "cell_type": "markdown",
   "metadata": {
    "_uuid": "cb15dd55e65f3dbd974f08df9e007dfff27264a6"
   },
   "source": [
    "* **Top most used IDE**  by Data Scientist / Machine Learning Specialist is **IPython / Jupyter** followed by **RStudio**, **Vim**, **PyCharm**, **Sublime Text**."
   ]
  },
  {
   "cell_type": "code",
   "execution_count": null,
   "metadata": {
    "_kg_hide-input": true,
    "_uuid": "9c46addc45922b2f0d819db830e44d44fe6ae03d"
   },
   "outputs": [],
   "source": [
    "df = dm.set_index(['YearsCodingProf','ConvertedSalary']).LanguageWorkedWith.str.split(';', expand=True).stack().reset_index(['YearsCodingProf','ConvertedSalary'])\n",
    "df.columns = ['YearsCodingProf','Salary','language']\n",
    "df['YearsCodingProf'] = df['YearsCodingProf'].astype('category')\n",
    "df['YearsCodingProf'].cat.reorder_categories(['0-2 years','3-5 years','6-8 years', '9-11 years', '12-14 years', '15-17 years', '18-20 years', \n",
    "                                            '21-23 years',  '24-26 years','27-29 years', '30 or more years'], inplace=True)\n",
    "gndr = ['Python','R','JavaScript','SQL','C++','Scala','Matlab','Julia']\n",
    "fig = {\n",
    "    'data': [\n",
    "        {\n",
    "            'x': df[df['language']==gr].groupby('YearsCodingProf').agg({'Salary' : 'median'}).sort_values(by = 'YearsCodingProf').reset_index()['YearsCodingProf'],\n",
    "            'y': df[df['language']==gr].groupby('YearsCodingProf').agg({'Salary' : 'median'}).sort_values(by = 'YearsCodingProf').reset_index()['Salary'],\n",
    "            'name': gr, 'mode': 'line',\n",
    "        } for gr in gndr\n",
    "    ],\n",
    "    'layout': {\n",
    "        'title' : 'Language V.S. years with Median Salary(Data Scientist/Machine Learning Specialists)',\n",
    "        'xaxis': {'title': 'Years experience (Developers coded professionally)'},\n",
    "        'yaxis': {'title': \"Median Salary ($)\"}\n",
    "    }\n",
    "}\n",
    "py.iplot(fig)"
   ]
  },
  {
   "cell_type": "code",
   "execution_count": null,
   "metadata": {
    "_kg_hide-input": true,
    "_uuid": "92234809fb67364c9dd71af3cf4ee025e477ce93"
   },
   "outputs": [],
   "source": [
    "df = dm.set_index(['YearsCodingProf','ConvertedSalary']).FrameworkWorkedWith.str.split(';', expand=True).stack().reset_index(['YearsCodingProf','ConvertedSalary'])\n",
    "df.columns = ['YearsCodingProf','Salary','Framework']\n",
    "df['YearsCodingProf'] = df['YearsCodingProf'].astype('category')\n",
    "df['YearsCodingProf'].cat.reorder_categories(['0-2 years','3-5 years','6-8 years', '9-11 years', '12-14 years', '15-17 years', '18-20 years', \n",
    "                                            '21-23 years', '30 or more years'], inplace=True)\n",
    "gndr = ['Hadoop', 'Spark', 'Spring', 'TensorFlow', 'Torch/PyTorch',\n",
    "       'Django', 'Angular', 'Cordova', 'Node.js', 'React',\n",
    "       'Xamarin']\n",
    "fig = {\n",
    "    'data': [\n",
    "        {\n",
    "            'x': df[df['Framework']==gr].groupby('YearsCodingProf').agg({'Salary' : 'median'}).sort_values(by = 'YearsCodingProf').reset_index()['YearsCodingProf'],\n",
    "            'y': df[df['Framework']==gr].groupby('YearsCodingProf').agg({'Salary' : 'median'}).sort_values(by = 'YearsCodingProf').reset_index()['Salary'],\n",
    "            'name': gr, 'mode': 'line',\n",
    "        } for gr in gndr\n",
    "    ],\n",
    "    'layout': {\n",
    "        'title' : 'Frameworks V.S. years experience with Median Salary(Data Scientist/Machine Learning Specialists)',\n",
    "        'xaxis': {'title': 'Years experience (Developers coded professionally)'},\n",
    "        'yaxis': {'title': \"Median Salary ($)\"}\n",
    "    }\n",
    "}\n",
    "py.iplot(fig)"
   ]
  },
  {
   "cell_type": "code",
   "execution_count": null,
   "metadata": {
    "_kg_hide-input": true,
    "_uuid": "3385763e0c7ba25adff7003d55ad5bcab6f2ab01"
   },
   "outputs": [],
   "source": [
    "df = dm.set_index(['YearsCodingProf','ConvertedSalary']).DatabaseWorkedWith.str.split(';', expand=True).stack().reset_index(['YearsCodingProf','ConvertedSalary'])\n",
    "df.columns = ['YearsCodingProf','Salary','Database']\n",
    "df['YearsCodingProf'] = df['YearsCodingProf'].astype('category')\n",
    "df['YearsCodingProf'].cat.reorder_categories(['0-2 years','3-5 years','6-8 years', '9-11 years', '12-14 years', '15-17 years', '18-20 years', \n",
    "                                            '21-23 years',  '24-26 years','27-29 years', '30 or more years'], inplace=True)\n",
    "gndr = ['MySQL', 'PostgreSQL', 'Google BigQuery', 'SQL Server', 'SQLite',\n",
    "       'Apache Hive', 'MongoDB', 'Oracle', 'Elasticsearch', 'Apache HBase',\n",
    "       'Microsoft Azure (Tables, CosmosDB, SQL, etc)',\n",
    "       'Google Cloud Storage', 'Cassandra', 'Redis', 'IBM Db2', 'Neo4j',\n",
    "       'MariaDB', 'Amazon Redshift', 'Amazon DynamoDB',\n",
    "       'Amazon RDS/Aurora', 'Memcached']\n",
    "fig = {\n",
    "    'data': [\n",
    "        {\n",
    "            'x': df[df['Database']==gr].groupby('YearsCodingProf').agg({'Salary' : 'median'}).sort_values(by = 'YearsCodingProf').reset_index()['YearsCodingProf'],\n",
    "            'y': df[df['Database']==gr].groupby('YearsCodingProf').agg({'Salary' : 'median'}).sort_values(by = 'YearsCodingProf').reset_index()['Salary'],\n",
    "            'name': gr, 'mode': 'line',\n",
    "        } for gr in gndr\n",
    "    ],\n",
    "    'layout': {\n",
    "        'title' : 'Database V.S. years experience with Median Salary(Data Scientist/Machine Learning Specialists)',\n",
    "        'xaxis': {'title': 'Years experience (Developers coded professionally)'},\n",
    "        'yaxis': {'title': \"Median Salary ($)\"}\n",
    "    }\n",
    "}\n",
    "py.iplot(fig)"
   ]
  },
  {
   "cell_type": "code",
   "execution_count": null,
   "metadata": {
    "_kg_hide-input": true,
    "_uuid": "b7fa45f26609b87474b288fcb625f22af4b7ef42"
   },
   "outputs": [],
   "source": [
    "cnt_srs = stack_data[\"AIDangerous\"].value_counts()\n",
    "trace = go.Bar(\n",
    "    y=cnt_srs.index[::-1],\n",
    "    x=(cnt_srs/cnt_srs.sum() * 100)[::-1],\n",
    "    orientation = 'h',\n",
    "    marker=dict(\n",
    "        color=['#8B7355','#BF3EFF','#FF6103','#FFC125'],\n",
    "        colorscale = 'Blues',\n",
    "        reversescale = True\n",
    "    ),\n",
    ")\n",
    "\n",
    "layout = dict(\n",
    "    title='Number of people thinking about dangerous aspects of increasingly advanced AI technology (%)',\n",
    "    margin=dict(\n",
    "    l=500,\n",
    ")\n",
    "    )\n",
    "data = [trace]\n",
    "fig = go.Figure(data=data, layout=layout)\n",
    "py.iplot(fig)"
   ]
  },
  {
   "cell_type": "markdown",
   "metadata": {
    "_uuid": "14022f3984d06bca9ff7f7a663ef98b1ddb645b4"
   },
   "source": [
    "**Most dangerous aspects of increasingly advanced AI technology in decreasing order :**\n",
    "  * Approx. **29 %** peoples thinks that **Algorithms making important decisions**.\n",
    "  * Approx. **28 %** peoples thinks **Artificial intelligence surpassing human intelligence**.\n",
    "  * Aprox. **24 %** peoples thinks **Evolving definations of \"fairness\" in algorithmic V.S. human decisions**.\n",
    "  * Approx. **20 %** peoples thinks **Increasing automation of jobs**."
   ]
  },
  {
   "cell_type": "code",
   "execution_count": null,
   "metadata": {
    "_kg_hide-input": true,
    "_uuid": "058a58262e3a5ae080ebfafbb8ab5aaf24d24db7"
   },
   "outputs": [],
   "source": [
    "cnt_srs = stack_data[\"AIInteresting\"].value_counts()\n",
    "trace = go.Bar(\n",
    "    y=cnt_srs.index[::-1],\n",
    "    x=(cnt_srs/cnt_srs.sum() * 100)[::-1],\n",
    "    orientation = 'h',\n",
    "    marker=dict(\n",
    "        color=['#FFF8DC','#68228B','#1E90FF','#FFC125'],\n",
    "        colorscale = 'Blues',\n",
    "        reversescale = True\n",
    "    ),\n",
    ")\n",
    "\n",
    "layout = dict(\n",
    "    title='Number of people thinking about exciting aspects of increasingly advanced AI technology (%)',\n",
    "    margin=dict(\n",
    "    l=500,\n",
    ")\n",
    "    )\n",
    "data = [trace]\n",
    "fig = go.Figure(data=data, layout=layout)\n",
    "py.iplot(fig)"
   ]
  },
  {
   "cell_type": "markdown",
   "metadata": {
    "_uuid": "5a7143fa996071f16739ea50bc4858af84a57e1d"
   },
   "source": [
    "**Most exciting aspects of increasingly advanced AI technology in decreasing order :**\n",
    "  * Approx. **41 %** peoples thinks **Increasing automation of jobs**.\n",
    "  * Approx. **23 %** peoples thinks that **Algorithms making important decisions**.\n",
    "  * Approx. **23 %** peoples thinks **Artificial intelligence surpassing human intelligence**.\n",
    "  * Aprox. **12 %** peoples thinks **Evolving definations of \"fairness\" in algorithmic V.S. human decisions**.\n",
    "  "
   ]
  },
  {
   "cell_type": "code",
   "execution_count": null,
   "metadata": {
    "_kg_hide-input": true,
    "_uuid": "3bdbcfa7b3089ef5832cd6e19a0360565b26031c"
   },
   "outputs": [],
   "source": [
    "cnt_srs = stack_data[\"AIResponsible\"].value_counts()\n",
    "trace = go.Bar(\n",
    "    y=cnt_srs.index[::-1],\n",
    "    x=(cnt_srs/cnt_srs.sum() * 100)[::-1],\n",
    "    orientation = 'h',\n",
    "    marker=dict(\n",
    "        color=['#FF6103','#8EE5EE','#458B00','#FFF8DC'],\n",
    "        colorscale = 'Blues',\n",
    "        reversescale = True\n",
    "    ),\n",
    ")\n",
    "\n",
    "layout = dict(\n",
    "    title='# people responsible to consider the ramifications of increasingly advanced AI (%)',\n",
    "    margin=dict(\n",
    "    l=300,\n",
    ")\n",
    "    )\n",
    "data = [trace]\n",
    "fig = go.Figure(data=data, layout=layout)\n",
    "py.iplot(fig)"
   ]
  },
  {
   "cell_type": "markdown",
   "metadata": {
    "_uuid": "03f7115a64dc0d6b59f7491b01d0665408fa1dd9"
   },
   "source": [
    "**Whose responsibility is it to consider the ramifications of increasingly advanced AI technology :**\n",
    "  * Approx. **48 %** peoples said that **The developers or the people creating the AI**.\n",
    "  * Approx. **28 %** peoples said that **A governmental or other regulatory body**.\n",
    "  * Approx. **17 %** peoples said that **Prominent industry leaders**.\n",
    "  * Approx. **8 %** peoples said that **Nobody**."
   ]
  },
  {
   "cell_type": "code",
   "execution_count": null,
   "metadata": {
    "_kg_hide-input": true,
    "_uuid": "f0315b77296bf946c73a9cb1743cf298dc9545a3"
   },
   "outputs": [],
   "source": [
    "cnt_srs = stack_data[\"AIFuture\"].value_counts()\n",
    "trace = go.Bar(\n",
    "    y=cnt_srs.index[::-1],\n",
    "    x=(cnt_srs/cnt_srs.sum() * 100)[::-1],\n",
    "    orientation = 'h',\n",
    "    marker=dict(\n",
    "        color=['#FF6103','#8EE5EE','#458B00','#FFF8DC'],\n",
    "        colorscale = 'Blues',\n",
    "        reversescale = True\n",
    "    ),\n",
    ")\n",
    "\n",
    "layout = dict(\n",
    "    title='Number of People who think about the future of artificial intelligence (%)',\n",
    "    margin=dict(\n",
    "    l=500,\n",
    ")\n",
    "    )\n",
    "data = [trace]\n",
    "fig = go.Figure(data=data, layout=layout)\n",
    "py.iplot(fig)"
   ]
  },
  {
   "cell_type": "markdown",
   "metadata": {
    "_uuid": "12a5be543041b350c4bb3a1913f5b7a73072d300"
   },
   "source": [
    "**Peoples take on the future of artificial intelligence :**\n",
    "  * Approx.** 73 %** peoples said that **I'm excited about the possibilities more than worried about the dangers**.\n",
    "  * Approx. **19 %** peoples said that **I'm worried about the dangers more than I'm excited about the possibilities**.\n",
    "  * Approx. **8 %** peoples said that **I don't care about it, or I have't thought about it**."
   ]
  },
  {
   "cell_type": "markdown",
   "metadata": {
    "_uuid": "febc7d484eae510112db62c977b61c9059825188"
   },
   "source": [
    "### Below Analysis will be based on 98,855 developers\n",
    "\n",
    "* Approx. 49 % developers did not disclose their Salay.\n",
    "* Approx. 90 % developers codes as their hobby and the reasons for others 10 % developers can be for** getting good compnay or for higher package or better college placement**.... anything can be.\n",
    "* Approx. 56 % Developers were contributed to open source projects.\n",
    "* Out of 98,855 developers, which Country having highest number of respondents :\n",
    "  * United States : 20,309 Developers\n",
    "  * India : 13,721 Developers\n",
    "  * Germany : 6,459 Developers\n",
    "  * United Kingdom : 6,221 Developers\n",
    "  * Canada : 3,393 Developers\n",
    "* Approx. 74 % Developers are not students. They are working professional. Approx. 19 % Developers are full-time students and Approx. 7 % Developers are part-time students.\n",
    "* **Employment Status of Developers :**\n",
    "  * Employeed full-time : 74 % \n",
    "  * Independent Contractor, Freelancer or Self-employed : 9.74 %\n",
    "  * Not employed but looking for work : 6.09 %\n",
    "  * Employed part-time : 5.64 %\n",
    "  * Not employeed and not looking for work : 4.33 %\n",
    "  * Retired : 0.238 %\n",
    "* **About highest level of formal education of Developers :**\n",
    "  * Approx. 46 % Developers having Bachelor's degree\n",
    "  * Approx. 23 % Developers having Master's degree\n",
    "  * Approx. 12 % having some college/university study without earning a degree\n",
    "  * Approx. 9 % having Secondary schools(eg. American high school etc.)\n",
    "  * Approx 3 % having Associate degree\n",
    "  * Approx. 2 % having other doctral degree (Phd. , Ed.D etc.)\n",
    "  * Approx. 2 % having Primary/elementry school\n",
    "  * Approx. 2 % having Professional degree (JD, MD etc.)\n",
    "  * Approx. 1 % never completed any formal education.\n",
    "* **Main field of study of Developers :** Most of the Developers **(63.7 %)** having **Computer Science, Computer engineering or Software engineering** field of study followed by **8.79 %** Developers having **Another engineering discipline(ex. civil, electrical or mechanical)** followed by **8.23 %** Developers having **Information Systems, Information Tecnology or system administration**. Only Approx 1 % Developers never declared their field of study.\n",
    "* **Number of people are employed by the company or organization they work for :**\n",
    "  * ** Approx. 10 %** people work in company or organization having **Fewer than 10 employees**.\n",
    "  * ** Approx. 11 %** people work in company or organization having **10 to 19 employees**.\n",
    "  * ** Approx. 24 %** people work in company or organization having **22 to 99 employees**.\n",
    "  * ** Approx. 20 %** people work in company or organization having **100 to 499 employees**.\n",
    "  * ** Approx. 7 %** people work in company or organization having **500 to 999 employees**.\n",
    "  * ** Approx. 11 %** people work in company or organization having **1,000 to 4,999 employees**.\n",
    "  * ** Approx. 4 %** people work in company or organization having **5,000 to 9,999 employees**.\n",
    "  * ** Approx. 14 %** people work in company or organization having **10,000 or employees**.\n",
    "* **Description of peoples who participated in the survey :**\n",
    "  * Approx. **19 %** peoples called themselves **Back-end developers**.\n",
    "  * Approx. **16 %** peoples called themselves **Full-stack developers**.\n",
    "  * Approx. **13 %** peoples called themselves **Front-end developers**.\n",
    "  * Approx. **7 %** peoples called themselves **Mobile developer**.\n",
    "  * Approx. **6 %** peoples called themselves **Desktop or enterprise application developer**.\n",
    "  * Approx. **6 %** peoples called themselves **Student**.\n",
    "  * etc.\n",
    "* **Satisfaction of peoples with their current job :**\n",
    "  * **37.5 %** peoples are **Moderately Satisfied**.\n",
    "  * **18 %** peoples are **Extremely Satisfied**.\n",
    "  * **14.5 %** peoples are **Slightly Satisfied**.\n",
    "  * **10.2 %** peoples are **Slightly dissatisfied**.\n",
    "  * **9.12 %** peoples are **Moderately dissatified**.\n",
    "  * **7.17 %** peoples are **Neither satisfied nor dissatisfied**.\n",
    "  * **3.58 %** peoples are **Extremely dissatisfied**.\n",
    "* **Satisfaction of peoples with their career thus far :**\n",
    "  * **36.5 %** peoples are **Moderately Satisfied**.\n",
    "  * **18.7 %** peoples are **Extremely Satisfied**.\n",
    "  * **17.6 %** peoples are **Slightly Satisfied**.\n",
    "  * **8.61 %** peoples are **Slightly dissatisfied**.\n",
    "  * **8.26 %** peoples are **Neither satisfied nor dissatisfied**.\n",
    "  * **6.88 %** peoples are **Moderately dissatified**.\n",
    "  * **3.42 %** peoples are **Extremely dissatisfied**.\n",
    "* **People thought about difficulty of survey :**\n",
    "  * Approx. **37 %** peoples think survey was **Somewhat easy**.\n",
    "  * Approx. **33 %** peoples think survey was **Very easy**.\n",
    "  * Approx. **23 %** peoples think survey was **Neither easy nor difficult**.\n",
    "  * Approx. **6 %** peoples think survey was **Somewhat difficult**.\n",
    "  * Approx. **1 %** peoples think survey was **Very difficult**.\n",
    "* **Peoples thinking about length of the survey :**\n",
    "  * Approx **50 %** peoples thinks **The survey was an appropriate length.**\n",
    "  * Approx. **49 %** peoples thinks **The survey was too long**.\n",
    "  * Approx. **1 %** peoples thinks **The survey was too short**.\n",
    "* **for how many years have peoples been coding :**\n",
    "  * 3-5 years : Approx. 25 % peoples\n",
    "  * 6-8 years : Approx. 21 % peoples\n",
    "  * 9-11 years : Approx. 13 % peopels\n",
    "  * 0-2 years : Approx. 11 % peoples\n",
    "  * etc.\n",
    "* **For how many years have peoples coded professionally  :**\n",
    "  * 0-2 years : Approx. 30 % peoples\n",
    "  * 3-5 years : Approx. 27 % peoples\n",
    "  * 6-8 years : Approx. 15 % peoples\n",
    "  * 9-11 years : Approx. 10 % peoples\n",
    "  * etc.\n",
    "* **Peoples hope to be doing in the next five years :**\n",
    "  * ** Approx. 34 % peoples** : Working in a different or more specialized technical role than the one I'm in now.\n",
    "  * **Approx. 26 % peoples ** : Working as a founder or co-founder of my own company.\n",
    "  * **Approx. 19 % peoples** : Doing the same work.\n",
    "  * **Approx. 10 % peoples** : Working as a product manager or project manager.\n",
    "  * **Approx. 3 % peoples** : Working in a career completely unrelated to software development.\n",
    "  * **Approx. 2 % peoples** : Retirement\n",
    "* **Peoples current job-seeking status :**\n",
    "  * **Approx 60 % peoples** : I am not actively looking, but i am open to new opportunities.\n",
    "  * **Approx. 24 % peoples** :  I am not interested in new job opportunities.\n",
    "  * **Approx. 16 % peoples** : I am actively looking for job.\n",
    "* **When was the last time that peoples took a job with a new employer :**\n",
    "  * **Approx. 35 % peoples** : Less than a year ago.\n",
    "  * **Approx. 22 % peoples** : Between 1 and 2 year ago.\n",
    "  * **Approx. 19 % peoples** : More than 4 year ago.\n",
    "  * **Approx. 19 % peoples** : Between 2 and 4 years ago.\n",
    "  * **Approx. 6 % peoples** : I've never had a job\n",
    "* **Most popular communication tools :**\n",
    "  * **Slack** used by  approx. 19 % developers.\n",
    "  * ** Jira** used by approx. 15 % developers.\n",
    "  * **Office / productivity suite** used by approx. 14 % developers.\n",
    "  * **Stack overflow** used by only approx. 2 % developers.\n",
    "* **JavaScript is the most popular language** on which developer worked and want to work in over the next year. **Python** is most demandable language on which developers want to work followed by **HTML, CSS** and **SQL** etc\n",
    "* **MySQL is the most popular Database** on which developer worked and want to work in over the next year. **MongoDB** is most demandable Database on which developers want to work followed by **PostgreSQL, SQLServer, redis** and **ElasticsSearch** etc.\n",
    "* **Linux is the most popular platform** on which developer worked and want to work in over the next year followed by  **Android** is most demandable Database on which developers want to work followed by **AWS, Raspberry pie** etc.\n",
    "* **Node.js, Angular, React and .Net core are the most popular frameworks** on which developer worked and want to work in over the next year followed by  **Tansorflow** is most demandable Database on which developers want to work.\n",
    "* **About StackOverflow :**\n",
    "  * ** 69 % peoples** want to recommend StackOverflow **very likely** and **only 0.35 %** peoples **don't **want to recommend stackoverflow.\n",
    "  * **Peoples visiting StackOverflow :**\n",
    "    * **32.5 % peoples said** : Daily or almost daily\n",
    "    * **31.1 % peoples said** : multiple times per day\n",
    "    * **22.4 % peoples said** : A few times per week\n",
    "    * **11.5 % peoples said** : A few times per month or weekly\n",
    "  * **Respondents having StackOverflow account :**\n",
    "    * **87.4 % Respondents said** : Yes\n",
    "    * **8.73 % Respondents said **: No\n",
    "    * **3.8 % Respondents said **: I'm not sure / I can't remember\n",
    "  * **Participation on StackOverflow in Q&A :**\n",
    "    * **Approx. 39 % Respondents said** : Less than once per month or monthly\n",
    "    * **Approx. 23 % Respondents said** : A few times per month or weekly\n",
    "    * **Approx. 17 % Respondents said** : I have never participated in Q&A on StackOverflow\n",
    "    * **Approx. 12 % Respondents said** : A few times per week\n",
    "    * **Approx. 6 % Respondents said** : Daily or almost daily\n",
    "    * **Approx. 3 % Respondents said** : Multiple times per day\n",
    "  * **Number of peoples visited StackOverflow jobs board :**\n",
    "    * **51.4 % Respondents said** : YES\n",
    "    * **35.8 % Respondents said** : No, I knew that StackOverflow had a jobs board but had never visit or used\n",
    "    * **12.8 % Respondents said** : No, I didn't know that StackOverflow had a jobs board\n",
    "  * **Up-to-date developer story on StackOverflow :**\n",
    "    * **Approx. 37 % Respondents said** : No, I don't know what that is\n",
    "    * **Approx. 24 % Respondents said** : No, I know what it is but i don't have one\n",
    "    * **Approx. 23 % Respondents said** :  No, I have one but it's out of date\n",
    "    * **Approx. 17 % Respondents said** : YES\n",
    "  * **26.5 %** respondents said we will recommend StackOverflow jobs board **very likely**. **3.23 % **respondents said we **will not** recommend StackOverflow jobs board to anyone.\n",
    "  * **Members of the Stack Overflow community :**\n",
    "    * **55.5 % Respondents said** : YES\n",
    "    * **22.4 % Respondents said** : NO\n",
    "    * **22.2 % Respondents said** : I'm not sure\n",
    "  * **Interest of developers in participating in the  hypothetical tools on Stack Overflow :**\n",
    "    * **Rank 1 :** An employer or job review system **(Most participated tool)**\n",
    "    * **Rank 2 :** An area for Q&A related to career growth\n",
    "    * **Rank 3 :** A programming-oriented blog platform\n",
    "    * **Rank 4 :** A peer mentoring system\n",
    "    * **Rank 5 :** A private area for people new to programming **(Less participated tool)**\n",
    "  * Majority of peoples who visit Stackoverflow **Multiple times per day**, **Daily or almost daily**, **A few times per week** or **A few times per month or weekly**\t recommending **very likely(10)**.\n",
    "  * Most of the peoples who are visiting stackOverflow **Daily or almost daily** or **Multiple times per day** they know about **StackOverflow job board**.\n",
    "  * Highest number of peoples who are visiting StackOverflow **Daily or almost daily**, **Multiple times per day** or **A few times per week\t**, they don't know what is **Stackoverflow developer Story**.\n",
    "  * Its good to see that who are visiting stackoverflow job board, out of these most of the peoples are recommending Stackoverflow job board very likely(10).\n",
    "* **Top Reasons of upadating a CV  :**\n",
    "  * **Approx. 42 % Respondents said** : My job status and my personal status changed.\n",
    "  * **Approx. 14 % Respondents said** : A recruiter contacted me.\n",
    "  * **Approx. 11 % Respondents said** : I had a negative experience or interaction at work.\n",
    "  * **Approx. 11 % Respondents said** : A friend told me about a job opportunity.\n",
    "  * **Approx. 10 % Respondents said** : I saw an employer's advertisement.\n",
    "* **Types of Non-degree education in which people participated :**\n",
    "  * **Approx. 29 % Respondents said** : Taught yourself a new language, framework or tool without taking a formal course.\n",
    "  * **Approx. 16 % Respondents said** : Taken an online course in programming and software developement(eg. a MOOC)\n",
    "  * **Approx. 14 % Respondents said** : Contributed to open source softwares\n",
    "  * **Approx. 12 % Respondents said** : Received on-the-job training in software developement\n",
    "  * **Approx. 9 % Respondents said** : Participated in hackathon\n",
    "  * **Approx. 8 % Respondents said** : Participated in online coding compitition(eg. HackerRank, CodeChef or TopCoder)\n",
    "  * **Approx. 6 % Respondents said** : Taken a part-time in-person course in programming or software development\n",
    "  * **Approx. 5 % Respondents said** : Completed an industry certification program(eg. MCPD)\n",
    "  * **Approx. 4 % Respondents said** :  Participated in a full-time developer training program or bootcamp\n",
    "* **Top resources used by peoples who taught yourself without taking a course :**\n",
    "  * **Approx. 22 % Respondents said** : The official documentation and/or standards for the technology\n",
    "  * **Approx. 22 % Respondents said** : Q&A on the StackOverflow\n",
    "  * **Approx. 13 % Respondents said** : A book or e-book from o'Reilly, Apress or a similar publisher\n",
    "  * **Approx. 13 % Respondents said** : Online developer communities other than StackOverflow(eg, forums, listservs, IRC Channels etc)\n",
    "  * **Approx. 13 % Respondents said** :The technology's online help system\n",
    "  * **Approx. 5 % Respondents said** : A college/University computer  science or software engineering books\n",
    "* **Top reasons who participated in online coding compitition or hackathon :**\n",
    "  * **Approx. 26 % Respondents said** : Because I find it enjoyable\n",
    "  * **Approx. 23 % Respondents said** : To improve my general technical skills or programming ability\n",
    "  * **Approx. 18 % Respondents said** : To improve my knowledge of a specific programming language , framework or technology\n",
    "  * **Approx. 10 % Respondents said** : To improve my ability to work on a team with others programmers\n",
    "  * **Approx. 9 % Respondents said** : To build my professional network\n",
    "  * **Approx. 7 % Respondents said** : To help me find a new job opportunities\n",
    "  * **Approx. 6 % Respondents said** : to win prizes or cash awards\n",
    "* ** About Ethics :**\n",
    "  * **What peoples think about writing a code that is extremely unethical ? **\n",
    "    * **58.5 % Respondents said** : NO\n",
    "    * **36.6 % Respondents said** : Depend on what it is\n",
    "    * **4.82 % Respondents said** : YES\n",
    "  * **Do peoples want to report out unethical code in question ?**\n",
    "    * **46.6 % Respondents said** : Depends on what it is\n",
    "    * **35.7 % Respondents said** : Yes, but only within the company\n",
    "    * **13.1 % Respondents said** : Yes, and publicaly\n",
    "    * **4.62 % Respondents said** : No\n",
    "  * **What peoples think who is most responsible for code that accomplishes something unethical?**\n",
    "    * **57.5 % Respondents said** : Upper management at the company/organization\n",
    "    * **22.8 % Respondents said** : The person who came up with idea \n",
    "    * **19.7 % Respondents said** : The developer who wrote it \n",
    "  * **There can be obligation to consider the ethical implications of the code that you write? **\n",
    "    * **79.6 % Respondents said** : YES\n",
    "    * **14.3 % Respondents said** : Unsure/I don't know\n",
    "    * **6.08% Respondents said** : NO\n",
    "* **Top most used IDE  by the developers :**\n",
    "  * Approx. **12 %** developers using **Visual Studio Code**\n",
    "  * Approx. **12 %** developers using Visual Studio \n",
    "  * Approx. **11 %** developers using **Notepad++**\n",
    "  * Approx. **10 %** developers using **Sublime Text**\n",
    "  * Approx. **9 %** developers using **Vim**\n",
    "* **Top Used Operating system by the developers :**\n",
    "  * Approx. **50 %** developers are using **Windows**\n",
    "  * Approx. **27 % **developers are using **MacOS**\n",
    "  * Approx. **23 %** developers are using **Linux-based**\n",
    "  * **Only  0.2 %** developers are using **BSD/Unix**\n",
    "* **Top version control system developers regularly use :**\n",
    "  * Approx. **63 %** developers are using **Git**(**Most popular version control system**)\n",
    "  * Approx. **12 %** developers are using **Subversion**\n",
    "  * Approx. **8 %** developers are using **Team Foundation Version Control**\n",
    "  * Approx **6 %** deveopers are using **Zip file back-ups**\n",
    "* **Top methodologies developers have experience working in :**\n",
    "  * Approx. **33 %** developers experience in **Agile**\n",
    "  * Approx. **24 %** developers experience in **Scrum**\n",
    "  * Approx. **14 %** developers experience in **Kanban**\n",
    "  * Approx. **11 %** developers experience in **Pair programming**\n",
    "* **About developers life style :**\n",
    "  * **Developers wake up time on working days :**\n",
    "    * **29.5 %** developers wake up time : **Between 7 am to 8 am**\n",
    "    * **28.2 %** developers wake up time : **Between 6 am to 7 am**\n",
    "    * **14.7 %** developers wake up time : **Between 8 am to 9 am**\n",
    "    * **12.4 %** developers wake up time : **Between 5 am to 6 am**\n",
    "    * etc.\n",
    "  * **Developers spend their time in front of desktop or computer  on a typical day:**\n",
    "    * **52.7 %** developers : **9-12 hours**\n",
    "    * **30.6 %** developers : **5-8 hours**\n",
    "    * **13.2 %** developers : **Over 12 hours**\n",
    "    * **3.26 %** developers :** 1-4 hours**\n",
    "    * **0.25 %** developers : **Less than 1 hour**\n",
    "  * **Developers spend their time outside on a typical day :**\n",
    "    * **38.6 %** developers : **1-2 hours**\n",
    "    * **33.3 %** developers : **30-59 minutes**\n",
    "    * **15.6 %** developers : **Less than 30 minutes**\n",
    "    * **9.98 %** developers :** 3-4 hours**\n",
    "    * **2.53 %** developers : **Over 4 hour**\n",
    "  * **In a typical week, how many times Developers skip a meal in order to be more productive? **\n",
    "    * **63.6 %** developers : **Never**\n",
    "    * **25.2 %** developers : **1 - 2 times per week**\n",
    "    * **5.98 %** developers : **3 - 4 times per week**\n",
    "    * **5.15 %** developers : **Daily or almost every day**\n",
    "  * **Top ergonomic furniture or devices developers use on a regular basis :**\n",
    "    * **Approx. 38 %** developers use : **Ergonomic Keyboard or mouse**\n",
    "    * **Approx. 37 %** developers use : **Standing desk**\n",
    "    * **Approx. 16 %** developers use : **Wrist/hand supports or braces**\n",
    "    * **Approx. 9 %** developers use : **Fatigue-relieving floor mat**\n",
    "  * **In a typical week, how many times do developers exercise? **\n",
    "    * **Approx. 38 %** developers said : **I don't typically excercise**\n",
    "    * **Approx. 29 %** developers said : **1 - 2 times per week**\n",
    "    * **Approx. 20 %** developers said : **3 - 4 times per week**\n",
    "    * **Approx. 14 %** developers said : **Daily or almost every day**\n",
    "* **Age of the developers of participated in the survey :**\n",
    "  * **Apprx. 49 %** developers : **25 - 34 years old**\n",
    "  * **Apprx. 24 %** developers : **18- 24 years old**\n",
    "  * ** Apprx. 18 %** developers : **35 - 44 years old**\n",
    "  * **Apprx. 5 %** developers : **45 - 54 years old**\n",
    "  * **Apprx. 3 %** developers : **under 18 years old**\n",
    "  * **Apprx. 1 %** developers : **55 - 64 years old**\n",
    "  * **Apprx. 0.2 %** developers : **65 years or older**\n",
    "* **Most **of the developers having **2 monitor** at their workstation followed by **1 monitor**.\n",
    "* **Over the last year, how often have developers checked-in or committed code? **\n",
    "  * ** 60. 2 % developers :** Multiples times per day **(This is interesting)**\n",
    "  * ** 19.1 % developers :** Few times per week\n",
    "  * ** 9.1 % developers : **Once a day\n",
    "  * ** 6.89 % developers :** Weekly or few times per month\n",
    "  * ** 3.23 % developers :** Less than once per month\n",
    "  * ** Only 1.48 % developers :** Never\n",
    "* **Gender wise Aanlysis :**\n",
    "  * **Gender Analysis who participated in the survey :**\n",
    "    * 91.7 % developers : **Male**\n",
    "    * 6.76 % developers : **Female**\n",
    "    * 0.91 % developers : **Non-binary, genderqueer or gender non-conforming**\n",
    "    * 0.65 % developers : **Transgender**\n",
    "  * **Sexual Orientation of developers :**\n",
    "    * 91.6 % developers : **Straight or heterosexual**\n",
    "    * 4.21 % developers : **Bisexual or Queer**\n",
    "    * 2.31 % developers : **Gay or Lesbian**\n",
    "    * 1.86 % developers : **A sexual**\n",
    "  * **Top DevType with Median Salary(Male V.S. Female) : **\n",
    "    * Female having more median salary than Male in these DevType :\n",
    "      * **DevOps specialist**\n",
    "      * **C-suite executive (CEO, CTO etc.)**\n",
    "      * **Full Stack developer**\n",
    "      * **Educator or acadmic research**\n",
    "  * **Top Countries where respondents are > 500 with Median Salary(Male V.S. Female) :**\n",
    "    * Female having more median salary than Male : **China**\n",
    "    * Female and Male having equal median salary : **Brazil**\n",
    "* **Developers Salary Exploration :**\n",
    "  * **Developers Annual Salary :** \n",
    "    * **Overall Developers Annual Salary :**  **Minimum Salary =** \\$ 0,  **Maximum Salary =**  \\$ 20,00,000, **Mean Salary =** \\$ 95,780.86, **Median Salary =** \\$ 55,075 \n",
    "    * **Male Developers Annual Salary :**  **Minimum Salary =** \\$ 0,  **Maximum Salary =**  \\$ 20,00,000, **Mean Salary =** \\$ 96,477.07 , **Median Salary =** \\$ 56,100 \n",
    "    * **Female Developers Annual Salary :**  **Minimum Salary =** \\$ 0,  **Maximum Salary =**  \\$ 20,00,000, **Mean Salary =** \\$ 88,251.29, **Median Salary =** \\$ 54,336 \n",
    "  * **Top 5 countries where respondents are > 500 with highest Median Salary in USD :**\n",
    "    * **United states :** \\$ 100K\n",
    "    * **Switzerland :** \\$ 93,842\n",
    "    * **Israel :** \\$ 90,642\n",
    "    * **Norway :** \\$ 82,890\n",
    "    * **Denmark :** \\$ 82,836\n",
    "  * **Top 5 DevType with highest median salary in USD :**\n",
    "    * **Engineering manager :** \\$ 88,573\n",
    "    * **DevOps specialist :** \\$ 72,469\n",
    "    * **C-suite executive(CEO, CTO) :** \\$ 69,244\n",
    "    * **Product manager : **\\$ 63,174\n",
    "    * **Data scientist or machine learning specialist :** \\$ 60,000\n",
    "     * Thea bove Top 5 Deytype with highest median salary  are same in **India**, **USA** and **Globally**. Only Devops specialist and C-suite executive are interchangable but in india  and USA are same.\n",
    "* **About AdBlooker :**\n",
    "  * **AdBlocker software installed or not ? **\n",
    "    * **72.3 % respondents said :**  YES\n",
    "    * **22.5 % respondents said **: NO\n",
    "    * **5.13 % respondents said :** I'm not sure / i don't know\n",
    "  * **In past month how many peoples disable theor AdBlocker ?**\n",
    "    * **70.7 % respondents said :**  YES\n",
    "    * **24.1 % respondents said **: NO\n",
    "    * **5.26 % respondents said :** I'm not sure / i don't know\n",
    "  * **Top Reasons of disabling the AdBlocker :**\n",
    "    * Approx. **32 %** respondents said : **The website i was visiting forced me to disable it to access their content**\n",
    "    * Approx. **24 %** respondents said :** I wanted to support the website i was visiting by viewing their ads**\n",
    "    * Approx. **21 %** respondents said : **The ad-blocking software was causing issues on a website**\n",
    "    * Approx. **18 %** respondents said : **The website I was visiting asked me to disable it**\n",
    "    * Approx. **2 %** respondents said : **I wanted to view a specific advertisement**\n",
    "    * Approx. **2 %** respondents said : **The website i was visiting has interesting ads**\n",
    "  * **Online advertising can be valuable when it is relevant to me :**\n",
    "    * Approx. **40 %** respondents said : **Somewhat agree**\n",
    "    * Approx. **18 %** respondents said : **Neither agree nor disagree**\n",
    "    * Approx. **16 %** respondents said : **Strongly Agree**\n",
    "    * Approx. **14 %** respondents said : **Somewhat disagree**\n",
    "    * Approx. **12 %** respondents said : **Strongly disagree**\n",
    "  * **I enjoy seeing online updates from companies that I like :**\n",
    "    * Approx. **37 %** respondents said : **Somewhat agree**\n",
    "    * Approx. **24 %** respondents said : **Neither agree nor disagree**\n",
    "    * Approx. **16 %** respondents said : **Strongly Agree**\n",
    "    * Approx. **13 %** respondents said : **Somewhat disagree**\n",
    "    * Approx. **10 %** respondents said : **Strongly disagree**\n",
    "  * **I fundamentally dislike the concept of advertising :**\n",
    "    * Approx. **30 %** respondents said : **Neither agree nor disagree**\n",
    "    * Approx. **22 %** respondents said : **Somewhat agree**\n",
    "    * Approx. **20 %** respondents said : **Somewhat disagree**\n",
    "    * Approx. **19 %** respondents said : **Strongly Agree**\n",
    "    * Approx. **10 %** respondents said : **Strongly disagree**\n",
    "  * **Ad's Priority conclusion from respondents :**\n",
    "    * **Rank 1 :** The advertisement is relevant to me **(Most Important)**\n",
    "    * ** Rank 2 :** The advertisement provides useful information\n",
    "    * **Rank 3 :** The advertisement seems trustworthy\n",
    "    * **Rank 4 :** The advertisement is honest about its goals\n",
    "    * **Rank 5 :** The advertisement is from a company that I like\n",
    "    * **Rank 6 :** The advertisement avoids fluffy or vague language\n",
    "    * **Rank 7 :** The advertisement offers something of value, like a free trial **(Least Important)**\n",
    "* **Feeling  towords Fellow developers :**\n",
    "   * **I feel a sense of kinship or connection to other developers :**\n",
    "     * **Approx. 54 %** developers said : **Agree**\n",
    "     * **Approx. 22 %** developers said : **Neither Agree or nor Disagree**\n",
    "     * **Approx. 17 %** developers said : **Strongly agree**\n",
    "     * **Approx. 6 %** developers said : **Disagree**\n",
    "     * **Approx. 2 %** developers said : **Strongly disagree**\n",
    "   *  **I think of myself as competing with my peers  :**\n",
    "     * **Approx. 27 %** developers said : **Agree**\n",
    "     * **Approx. 26 %** developers said : **Neither Agree or nor Disagree**\n",
    "     * **Approx. 26 %** developers said : **Disagree**\n",
    "     * **Approx. 13 %** developers said :  **Strongly disagree**\n",
    "     * **Approx. 8 %** developers said : **Strongly agree**\n",
    "   *  **I'm not as good at programming as most of my peers  :**\n",
    "     * **Approx. 34 %** developers said : **Disagree**\n",
    "     * **Approx. 25 %** developers said : **Neither Agree or nor Disagree**\n",
    "     * **Approx. 23 %** developers said : **Strongly disagree**\n",
    "     * **Approx. 14 %** developers said : **Agree**\n",
    "     * **Approx. 4 %** developers said : **Strongly agree**\n",
    "* **Time to get a full-time job offer after doing developer training program or bootcamp :**\n",
    "    * **Approx. 45 %** respondents said : **I already had a full time job as a developer when i began the program**\n",
    "    * **Approx. 16 %** respondents said : **Immediately after graduating** \n",
    "    * **Approx. 10 %** respondents said : **One to three month**\n",
    "    * **Approx. 9 %** respondents said : **I haven't gotten a developer job**\n",
    "    * **Approx. 5 %** respondents said : **Less than a month 4 to 6 month**\n",
    "    * **Approx. 4 %** respondents said : **6 month to a year**\n",
    "    * **Approx. 3 %** respondents said : **Longer than a year**\n",
    "* **Data Scientist / Machine Learning Specialists :**\n",
    "  * Most of the Data Scientist / Machine Learning Specialist getting salary **\\$ 0 to \\$2,50,000 **.\n",
    "  * It's good to see that **Approx. 47 %** Data Scientist / Machine Learning Specialist are contributing to **open source projects**.\n",
    "  * Most of Data Scientist / Machine Learning Specialist who participated in StackOverflow are from USA followed by India, United Kingdom, Germany, France , Canada etc.\n",
    "  * **Approx. 13 %** Data Scientist / Machine Learning Specialists who participated in the Survey was **Females**.\n",
    "  * Most popular languages in which Data Scientist / Machine Learning Specialists are working or want to work is **Python** followed by **R**, **SQL**, **Bash/Shell**.\n",
    "  * **C++** and **Scala** are languages which are growing where Data Scientist / Machine Learning Specialists want to work.\n",
    "  * Top most  Databases in which Data Scientist / Machine Learning Specialists are working **MySQL** followed by **PostgreSQL**, **SQLServer**, **MongoDB**, **Apache Hive** etc.\n",
    "  * Top most  Databases in which Data Scientist / Machine Learning Specialists want to work **PostgreSQL** followed **MongoDB**, **MySQL**, **Elasticsearch**, **Apache Hive** etc.\n",
    "  * Most popular  Platforms on which Data Scientist / Machine Learning Specialists are working or want to wok is **Linux** followed by **AWS**. **Raspberry** Pie is the Platforn after these on which most  Databases in which Data Scientist / Machine Learning Specialists want to work.\n",
    "  * **Most popular Framworks** on which Data Scientist / Machine Learning Specialists are working or want to work is **TensorFlow** followed by **Spark**, **Torch/PyTorch**, **Hadoop**, **Django** etc.\n",
    "  * **Top most used IDE**  by Data Scientist / Machine Learning Specialist is **IPython / Jupyter** followed by **RStudio**, **Vim**, **PyCharm**, **Sublime Text**.\n",
    "* **About Artificial Intelligence :**\n",
    "  * **Most dangerous aspects of increasingly advanced AI technology in decreasing order :**\n",
    "    * Approx. **29 %** peoples thinks that **Algorithms making important decisions**.\n",
    "    * Approx. **28 %** peoples thinks **Artificial intelligence surpassing human intelligence**.\n",
    "    * Aprox. **24 %** peoples thinks **Evolving definations of \"fairness\" in algorithmic V.S. human decisions**.\n",
    "    * Approx. **20 %** peoples thinks **Increasing automation of jobs**.\n",
    " * **Most exciting aspects of increasingly advanced AI technology in decreasing order :**\n",
    "    * Approx. **41 %** peoples thinks **Increasing automation of jobs**.\n",
    "    * Approx. **23 %** peoples thinks that **Algorithms making important decisions**.\n",
    "    * Approx. **23 %** peoples thinks **Artificial intelligence surpassing human intelligence**.\n",
    "    * Aprox. **12 %** peoples thinks **Evolving definations of \"fairness\" in algorithmic V.S. human decisions**.\n",
    "  * **Whose responsibility is it to consider the ramifications of increasingly advanced AI technology :**\n",
    "    * Approx. **48 %** peoples said that **The developers or the people creating the AI**.\n",
    "    * Approx. **28 %** peoples said that **A governmental or other regulatory body**.\n",
    "    * Approx. **17 %** peoples said that **Prominent industry leaders**.\n",
    "    * Approx. **8 %** peoples said that **Nobody**.\n",
    "  * **Peoples take on the future of artificial intelligence :**\n",
    "    * Approx.** 73 %** peoples said that **I'm excited about the possibilities more than worried about the dangers**.\n",
    "    * Approx. **19 %** peoples said that **I'm worried about the dangers more than I'm excited about the possibilities**.\n",
    "    * Approx. **8 %** peoples said that **I don't care about it, or I have't thought about it**."
   ]
  }
 ],
 "metadata": {
  "kernelspec": {
   "display_name": "Python 3",
   "language": "python",
   "name": "python3"
  },
  "language_info": {
   "codemirror_mode": {
    "name": "ipython",
    "version": 3
   },
   "file_extension": ".py",
   "mimetype": "text/x-python",
   "name": "python",
   "nbconvert_exporter": "python",
   "pygments_lexer": "ipython3",
   "version": "3.7.6-final"
  }
 },
 "nbformat": 4,
 "nbformat_minor": 1
}